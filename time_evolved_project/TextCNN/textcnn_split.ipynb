{
 "metadata": {
  "language_info": {
   "codemirror_mode": {
    "name": "ipython",
    "version": 3
   },
   "file_extension": ".py",
   "mimetype": "text/x-python",
   "name": "python",
   "nbconvert_exporter": "python",
   "pygments_lexer": "ipython3",
   "version": 3
  },
  "orig_nbformat": 2
 },
 "nbformat": 4,
 "nbformat_minor": 2,
 "cells": [
  {
   "cell_type": "code",
   "execution_count": null,
   "metadata": {},
   "outputs": [],
   "source": [
    "import pandas as pd \n",
    "import tensorflow as tensorflow\n",
    "\n",
    "data_csv = pd.read_csv('res_handle.csv')\n",
    "data_csv.head()"
   ]
  },
  {
   "cell_type": "code",
   "execution_count": null,
   "metadata": {},
   "outputs": [],
   "source": [
    "# 按照时间划分为四个子集\n",
    "\n",
    "data_2017 = data_csv[data_csv['first_seen'].apply(lambda x: x[:4]) == '2017']\n",
    "data_2018 = data_csv[data_csv['first_seen'].apply(lambda x: x[:4]) == '2018']\n",
    "data_2019 = data_csv[data_csv['first_seen'].apply(lambda x: x[:4]) == '2019']\n",
    "(data_2017.shape, data_2018.shape, data_2019.shape)"
   ]
  },
  {
   "cell_type": "code",
   "execution_count": null,
   "metadata": {},
   "outputs": [],
   "source": [
    "def judge_1(time):\n",
    "    time = time[:7].replace('-', '')\n",
    "    if time <= '201803':\n",
    "        return True\n",
    "    else:\n",
    "        return False\n",
    "\n",
    "def judge_2(time):\n",
    "    time = time[:7].replace('-', '')\n",
    "    if time > '201803':\n",
    "        return True\n",
    "    else:\n",
    "        return False\n",
    "\n",
    "data_2018_1 = data_2018[data_2018['first_seen'].apply(judge_1)]\n",
    "data_2018_2 = data_2018[data_2018['first_seen'].apply(judge_2)]"
   ]
  },
  {
   "cell_type": "code",
   "execution_count": null,
   "metadata": {},
   "outputs": [],
   "source": [
    "data_train = data_2017.append(data_2018_1)\n",
    "data_test_1 = data_2018_2\n",
    "data_test_2 = data_2019"
   ]
  },
  {
   "cell_type": "code",
   "execution_count": null,
   "metadata": {},
   "outputs": [],
   "source": [
    "data_train.shape, data_test_1.shape, data_test_2.shape"
   ]
  },
  {
   "cell_type": "code",
   "execution_count": null,
   "metadata": {},
   "outputs": [],
   "source": [
    "data_train = data_train.sample(frac=1, random_state=1).reset_index(drop=True)\n",
    "data_test_1 = data_test_1.sample(frac=0.7, random_state=1).reset_index(drop=True)\n",
    "data_test_2 = data_test_2.sample(frac=0.5, random_state=1).reset_index(drop=True)\n",
    "data_train.shape, data_test_1.shape, data_test_2.shape"
   ]
  },
  {
   "cell_type": "code",
   "execution_count": null,
   "metadata": {},
   "outputs": [],
   "source": [
    "from collections import Counter\n",
    "Counter(data_train['label']), Counter(data_test_1['label']), Counter(data_test_2['label']), Counter(data_csv['label'])"
   ]
  },
  {
   "cell_type": "code",
   "execution_count": null,
   "metadata": {},
   "outputs": [],
   "source": []
  }
 ]
}