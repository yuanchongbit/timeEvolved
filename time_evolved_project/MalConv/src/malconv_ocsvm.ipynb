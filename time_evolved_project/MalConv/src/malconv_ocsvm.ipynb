{
 "cells": [
  {
   "cell_type": "markdown",
   "metadata": {},
   "source": [
    "## 利用OCSVM进行novelty detection"
   ]
  },
  {
   "cell_type": "code",
   "execution_count": 1,
   "metadata": {},
   "outputs": [],
   "source": [
    "import pandas as pd\n",
    "import os\n",
    "import numpy as np\n",
    "import tensorflow as tf\n",
    "from tqdm import tqdm\n",
    "from tensorflow import keras\n",
    "from tensorflow.keras import layers, optimizers, Sequential, metrics\n",
    "from tensorflow.keras.preprocessing.sequence import pad_sequences\n",
    "\n",
    "os.environ['TF_CPP_MIN_LOG_LEVEL'] = '2'"
   ]
  },
  {
   "cell_type": "code",
   "execution_count": 2,
   "metadata": {},
   "outputs": [
    {
     "output_type": "stream",
     "name": "stdout",
     "text": [
      "(6929, 9) (2668, 9) (3878, 9)\n"
     ]
    }
   ],
   "source": [
    "# 加载数据\n",
    "def judge_1(time):\n",
    "    time = time[:7].replace('-', '')\n",
    "    if time <= '201803':\n",
    "        return True\n",
    "    else:\n",
    "        return False\n",
    "\n",
    "def judge_2(time):\n",
    "    time = time[:7].replace('-', '')\n",
    "    if time > '201803':\n",
    "        return True\n",
    "    else:\n",
    "        return False\n",
    "\n",
    "name2label = {'trojan':0, 'virus':1, 'worm':2, 'backdoor':3}\n",
    "data_csv = pd.read_csv('../../csv/dataset_handled.csv')\n",
    "data_2017 = data_csv[data_csv['first_seen'].apply(lambda x: x[:4]) == '2017']\n",
    "data_2018 = data_csv[data_csv['first_seen'].apply(lambda x: x[:4]) == '2018']\n",
    "data_2019 = data_csv[data_csv['first_seen'].apply(lambda x: x[:4]) == '2019']\n",
    "    \n",
    "data_2018_1 = data_2018[data_2018['first_seen'].apply(judge_1)]\n",
    "data_2018_2 = data_2018[data_2018['first_seen'].apply(judge_2)]\n",
    "\n",
    "data_train = data_2017.append(data_2018_１)\n",
    "data_test_1 = data_2018_2\n",
    "data_test_2 = data_2019\n",
    "print(data_train.shape, data_test_1.shape, data_test_2.shape)"
   ]
  },
  {
   "cell_type": "code",
   "execution_count": 3,
   "metadata": {},
   "outputs": [
    {
     "output_type": "stream",
     "name": "stdout",
     "text": [
      "(6929, 9) (1948, 9) (2094, 9)\n"
     ]
    }
   ],
   "source": [
    "# 对测试集进行下采样\n",
    "data_train = data_train.sample(frac=1, random_state=1).reset_index(drop=True)\n",
    "data_test_1 = data_test_1.sample(frac=0.73, random_state=1).reset_index(drop=True)\n",
    "data_test_2 = data_test_2.sample(frac=0.54, random_state=1).reset_index(drop=True)\n",
    "print(data_train.shape, data_test_1.shape, data_test_2.shape,)"
   ]
  },
  {
   "cell_type": "code",
   "execution_count": 4,
   "metadata": {},
   "outputs": [],
   "source": [
    "from utils import *\n",
    "data_path_1, labels_1 = path_loader(data_train)\n",
    "data_path_2, labels_2 = path_loader(data_test_1)\n",
    "data_path_3, labels_3 = path_loader(data_test_2)"
   ]
  },
  {
   "cell_type": "code",
   "execution_count": 12,
   "metadata": {},
   "outputs": [],
   "source": [
    "from tensorflow.keras import Model\n",
    "\n",
    "model = keras.models.load_model('../model/malconv_split.h5')\n",
    "# 模型输出为全连接层的输入，即去掉全连接层\n",
    "layer_model = Model(inputs=model.input, outputs=model.layers[8].output)\n",
    "# 分批预测，防止内存过载\n",
    "batch_size = 200\n",
    "for idx in range(0, 6000, batch_size):\n",
    "    codes_tmp, labels_tmp = train_data_loader(data_path_1[idx:idx+batch_size], labels_1[idx:idx+batch_size])\n",
    "    feature_tmp = layer_model.predict(codes_tmp)\n",
    "    feature_train = feature_tmp if idx == 0 else np.concatenate((feature_train, feature_tmp), axis=0)\n",
    "\n",
    "# feature_train = layer_model.predict(codes_train)\n",
    "print(type(feature_train))"
   ]
  },
  {
   "cell_type": "code",
   "execution_count": null,
   "metadata": {
    "collapsed": true,
    "jupyter": {
     "outputs_hidden": true
    }
   },
   "outputs": [],
   "source": [
    "# 将特征向量保存为文件\n",
    "np.save('feature_train.npy', feature_train)"
   ]
  },
  {
   "cell_type": "code",
   "execution_count": 5,
   "metadata": {},
   "outputs": [
    {
     "output_type": "execute_result",
     "data": {
      "text/plain": [
       "(6000, 64)"
      ]
     },
     "metadata": {},
     "execution_count": 5
    }
   ],
   "source": [
    "feature_train = np.load('feature_train.npy')\n",
    "feature_train.shape"
   ]
  },
  {
   "cell_type": "code",
   "execution_count": 6,
   "metadata": {},
   "outputs": [
    {
     "output_type": "execute_result",
     "data": {
      "text/plain": [
       "((1200, 10), (1600, 10), (1649, 10), (1551, 10))"
      ]
     },
     "metadata": {},
     "execution_count": 6
    }
   ],
   "source": [
    "data_train = data_train[:6000]\n",
    "data_train['vector'] = ''\n",
    "for idx in range(data_train.shape[0]):\n",
    "    data_train.at[idx, 'vector'] = list(feature_train[idx])\n",
    "    \n",
    "data_backdoor = data_train[data_train['label']=='backdoor']\n",
    "data_virus = data_train[data_train['label']=='virus']\n",
    "data_worm = data_train[data_train['label']=='worm']\n",
    "data_trojan = data_train[data_train['label']=='trojan']\n",
    "\n",
    "data_backdoor.shape, data_virus.shape, data_worm.shape, data_trojan.shape"
   ]
  },
  {
   "cell_type": "code",
   "execution_count": 7,
   "metadata": {},
   "outputs": [],
   "source": [
    "data_backdoor = np.array(data_backdoor['vector'].to_list())\n",
    "data_backdoor_train = data_backdoor[: 1100]\n",
    "data_backdoor_val = data_backdoor[1100: ]\n",
    "\n",
    "data_virus = np.array(data_virus['vector'].to_list())\n",
    "data_virus_train = data_virus[: 1300]\n",
    "data_virus_val = data_virus[1300: ]\n",
    "\n",
    "data_worm = np.array(data_worm['vector'].to_list())\n",
    "data_worm_train = data_worm[: 1400]\n",
    "data_worm_val = data_worm[1400: ]\n",
    "\n",
    "data_trojan = np.array(data_trojan['vector'].to_list())\n",
    "data_trojan_train = data_trojan[: 1300]\n",
    "data_trojan_val = data_trojan[1300: ]"
   ]
  },
  {
   "cell_type": "code",
   "execution_count": 2,
   "metadata": {},
   "outputs": [],
   "source": [
    "from sklearn.svm import OneClassSVM"
   ]
  },
  {
   "cell_type": "code",
   "execution_count": 1,
   "metadata": {},
   "outputs": [
    {
     "output_type": "error",
     "ename": "NameError",
     "evalue": "name 'OneClassSVM' is not defined",
     "traceback": [
      "\u001b[0;31m---------------------------------------------------------------------------\u001b[0m",
      "\u001b[0;31mNameError\u001b[0m                                 Traceback (most recent call last)",
      "\u001b[0;32m<ipython-input-1-648168641bd6>\u001b[0m in \u001b[0;36m<module>\u001b[0;34m\u001b[0m\n\u001b[0;32m----> 1\u001b[0;31m \u001b[0mone_svm_worm\u001b[0m \u001b[0;34m=\u001b[0m \u001b[0mOneClassSVM\u001b[0m\u001b[0;34m(\u001b[0m\u001b[0mnu\u001b[0m\u001b[0;34m=\u001b[0m\u001b[0;36m0.001\u001b[0m\u001b[0;34m,\u001b[0m \u001b[0mkernel\u001b[0m\u001b[0;34m=\u001b[0m\u001b[0;34m\"rbf\"\u001b[0m\u001b[0;34m,\u001b[0m \u001b[0mgamma\u001b[0m\u001b[0;34m=\u001b[0m\u001b[0;34m'scale'\u001b[0m\u001b[0;34m)\u001b[0m\u001b[0;34m.\u001b[0m\u001b[0mfit\u001b[0m\u001b[0;34m(\u001b[0m\u001b[0mdata_worm_train\u001b[0m\u001b[0;34m)\u001b[0m\u001b[0;34m\u001b[0m\u001b[0;34m\u001b[0m\u001b[0m\n\u001b[0m\u001b[1;32m      2\u001b[0m \u001b[0mone_svm_trojan\u001b[0m \u001b[0;34m=\u001b[0m \u001b[0mOneClassSVM\u001b[0m\u001b[0;34m(\u001b[0m\u001b[0mnu\u001b[0m\u001b[0;34m=\u001b[0m\u001b[0;36m0.001\u001b[0m\u001b[0;34m,\u001b[0m \u001b[0mkernel\u001b[0m\u001b[0;34m=\u001b[0m\u001b[0;34m\"rbf\"\u001b[0m\u001b[0;34m,\u001b[0m \u001b[0mgamma\u001b[0m\u001b[0;34m=\u001b[0m\u001b[0;34m'scale'\u001b[0m\u001b[0;34m)\u001b[0m\u001b[0;34m.\u001b[0m\u001b[0mfit\u001b[0m\u001b[0;34m(\u001b[0m\u001b[0mdata_trojan_train\u001b[0m\u001b[0;34m)\u001b[0m\u001b[0;34m\u001b[0m\u001b[0;34m\u001b[0m\u001b[0m\n\u001b[1;32m      3\u001b[0m \u001b[0mone_svm_backdoor\u001b[0m \u001b[0;34m=\u001b[0m \u001b[0mOneClassSVM\u001b[0m\u001b[0;34m(\u001b[0m\u001b[0mnu\u001b[0m\u001b[0;34m=\u001b[0m\u001b[0;36m0.001\u001b[0m\u001b[0;34m,\u001b[0m \u001b[0mkernel\u001b[0m\u001b[0;34m=\u001b[0m\u001b[0;34m\"rbf\"\u001b[0m\u001b[0;34m,\u001b[0m \u001b[0mgamma\u001b[0m\u001b[0;34m=\u001b[0m\u001b[0;34m'scale'\u001b[0m\u001b[0;34m)\u001b[0m\u001b[0;34m.\u001b[0m\u001b[0mfit\u001b[0m\u001b[0;34m(\u001b[0m\u001b[0mdata_backdoor_train\u001b[0m\u001b[0;34m)\u001b[0m\u001b[0;34m\u001b[0m\u001b[0;34m\u001b[0m\u001b[0m\n\u001b[1;32m      4\u001b[0m \u001b[0mone_svm_virus\u001b[0m \u001b[0;34m=\u001b[0m \u001b[0mOneClassSVM\u001b[0m\u001b[0;34m(\u001b[0m\u001b[0mnu\u001b[0m\u001b[0;34m=\u001b[0m\u001b[0;36m0.001\u001b[0m\u001b[0;34m,\u001b[0m \u001b[0mkernel\u001b[0m\u001b[0;34m=\u001b[0m\u001b[0;34m\"rbf\"\u001b[0m\u001b[0;34m,\u001b[0m \u001b[0mgamma\u001b[0m\u001b[0;34m=\u001b[0m\u001b[0;34m'scale'\u001b[0m\u001b[0;34m)\u001b[0m\u001b[0;34m.\u001b[0m\u001b[0mfit\u001b[0m\u001b[0;34m(\u001b[0m\u001b[0mdata_virus_train\u001b[0m\u001b[0;34m)\u001b[0m\u001b[0;34m\u001b[0m\u001b[0;34m\u001b[0m\u001b[0m\n",
      "\u001b[0;31mNameError\u001b[0m: name 'OneClassSVM' is not defined"
     ]
    }
   ],
   "source": [
    "one_svm_worm = OneClassSVM(nu=0.001, kernel=\"rbf\", gamma='scale').fit(data_worm_train)\n",
    "one_svm_trojan = OneClassSVM(nu=0.001, kernel=\"rbf\", gamma='scale').fit(data_trojan_train)\n",
    "one_svm_backdoor = OneClassSVM(nu=0.001, kernel=\"rbf\", gamma='scale').fit(data_backdoor_train)\n",
    "one_svm_virus = OneClassSVM(nu=0.001, kernel=\"rbf\", gamma='scale').fit(data_virus_train)"
   ]
  },
  {
   "cell_type": "code",
   "execution_count": 10,
   "metadata": {},
   "outputs": [],
   "source": [
    "# one_svm_trojan = OneClassSVM(nu=0.001, kernel=\"rbf\", gamma='scale').fit(data_trojan_train)\n",
    "# percen(one_svm_trojan.predict(data_trojan_val))"
   ]
  },
  {
   "cell_type": "code",
   "execution_count": 13,
   "metadata": {},
   "outputs": [
    {
     "output_type": "stream",
     "name": "stderr",
     "text": [
      "100%|██████████| 200/200 [00:01<00:00, 176.82it/s]\n",
      "100%|██████████| 200/200 [00:04<00:00, 48.34it/s]\n",
      "100%|██████████| 200/200 [00:03<00:00, 51.06it/s]\n",
      "100%|██████████| 200/200 [00:03<00:00, 50.06it/s]\n",
      "100%|██████████| 200/200 [00:04<00:00, 49.99it/s]\n",
      "100%|██████████| 200/200 [00:03<00:00, 51.67it/s]\n",
      "100%|██████████| 200/200 [00:04<00:00, 49.48it/s]\n",
      "100%|██████████| 200/200 [00:03<00:00, 52.98it/s]\n",
      "100%|██████████| 200/200 [00:03<00:00, 51.90it/s]\n",
      "100%|██████████| 148/148 [00:02<00:00, 55.83it/s]\n",
      "(1742, 10)\n"
     ]
    }
   ],
   "source": [
    "# 对第一个测试子集进行novelty detection\n",
    "# 分批预测，防止内存过载\n",
    "batch_size = 200\n",
    "for idx in range(0, len(data_test_1), batch_size):\n",
    "    codes_tmp, labels_tmp = path_loader(data_test_1[idx:idx+batch_size])\n",
    "    codes_tmp, labels_tmp = test_data_loader(codes_tmp, labels_tmp)\n",
    "    feature_tmp = layer_model.predict(codes_tmp)\n",
    "    feature_test = feature_tmp if idx == 0 else np.concatenate((feature_test, feature_tmp), axis=0)\n",
    "\n",
    "data_test_1['ocsvm'] = ''\n",
    "\n",
    "res_1 = one_svm_backdoor.predict(feature_test)\n",
    "res_2 = one_svm_virus.predict(feature_test)\n",
    "res_3 = one_svm_worm.predict(feature_test)\n",
    "res_4 = one_svm_trojan.predict(feature_test)\n",
    "\n",
    "# 综合不同分类器的结果判断最终结果,若分类器分类成功，则有一个结果趋近于1,另外三个趋近于-1,res>0或res==-4说明分类器并不能准确判定类型，\n",
    "for idx in range(data_test_1.shape[0]):\n",
    "    res = res_1[idx]+res_2[idx]+res_3[idx]+res_4[idx]\n",
    "    if res == -4 or res >= 0:\n",
    "        data_test_1.at[idx, 'ocsvm'] = 1\n",
    "    else:\n",
    "        data_test_1.at[idx, 'ocsvm'] = 0\n",
    "        \n",
    "data_normal = data_test_1[data_test_1['ocsvm']==0]\n",
    "print(data_normal.shape)"
   ]
  },
  {
   "cell_type": "code",
   "execution_count": 15,
   "metadata": {},
   "outputs": [
    {
     "output_type": "stream",
     "name": "stderr",
     "text": [
      "100%|██████████| 200/200 [00:01<00:00, 179.03it/s]\n",
      "100%|██████████| 200/200 [00:00<00:00, 217.71it/s]\n",
      "100%|██████████| 200/200 [00:00<00:00, 216.56it/s]\n",
      "100%|██████████| 200/200 [00:01<00:00, 197.43it/s]\n",
      "100%|██████████| 200/200 [00:01<00:00, 153.06it/s]\n",
      "100%|██████████| 200/200 [00:00<00:00, 249.29it/s]\n",
      "100%|██████████| 200/200 [00:00<00:00, 232.33it/s]\n",
      "100%|██████████| 200/200 [00:00<00:00, 260.41it/s]\n",
      "100%|██████████| 142/142 [00:00<00:00, 200.51it/s]\n",
      "              precision    recall  f1-score   support\n",
      "\n",
      "       virus     0.9337    0.9931    0.9625       581\n",
      "    backdoor     0.9818    0.9963    0.9890       541\n",
      "        worm     0.9863    0.9031    0.9429       320\n",
      "      trojan     1.0000    0.9400    0.9691       300\n",
      "\n",
      "    accuracy                         0.9684      1742\n",
      "   macro avg     0.9754    0.9581    0.9659      1742\n",
      "weighted avg     0.9697    0.9684    0.9682      1742\n",
      "\n"
     ]
    }
   ],
   "source": [
    "from sklearn.metrics import classification_report\n",
    "# 使用时间切分模型预测\n",
    "\n",
    "codes_normal, labels_normal = path_loader(data_normal)\n",
    "# 分批预测\n",
    "batch_size = 200\n",
    "for idx in range(0, len(codes_normal), batch_size):\n",
    "    codes_tmp, labels_tmp = test_data_loader(codes_normal[idx: idx+batch_size], labels_normal[idx: idx+batch_size])\n",
    "    y_pred_tmp = model.predict(codes_tmp)\n",
    "    y_true_tmp = np.argmax(labels_tmp, axis=1)\n",
    "    y_pred_tmp = np.argmax(y_pred_tmp, axis=1)\n",
    "    y_pred = y_pred_tmp if idx == 0 else np.concatenate((y_pred, y_pred_tmp), axis=0)\n",
    "    y_true = y_true_tmp if idx == 0 else np.concatenate((y_true, y_true_tmp), axis=0)\n",
    "\n",
    "# codes_normal, labels_normal = test_data_loader(codes_normal, labels_normal)\n",
    "\n",
    "target_names = {'trojan', 'virus', 'worm', 'backdoor'}\n",
    "print(classification_report(y_true, y_pred, target_names=target_names, digits=4))"
   ]
  },
  {
   "cell_type": "code",
   "execution_count": 16,
   "metadata": {},
   "outputs": [
    {
     "output_type": "stream",
     "name": "stderr",
     "text": [
      "100%|██████████| 200/200 [00:04<00:00, 46.42it/s]\n",
      "100%|██████████| 200/200 [00:03<00:00, 62.19it/s]\n",
      "100%|██████████| 200/200 [00:03<00:00, 52.14it/s]\n",
      "100%|██████████| 200/200 [00:03<00:00, 58.41it/s]\n",
      "100%|██████████| 200/200 [00:04<00:00, 47.28it/s]\n",
      "100%|██████████| 200/200 [00:03<00:00, 51.00it/s]\n",
      "100%|██████████| 200/200 [00:03<00:00, 57.56it/s]\n",
      "100%|██████████| 200/200 [00:03<00:00, 58.61it/s]\n",
      "100%|██████████| 200/200 [00:02<00:00, 68.53it/s]\n",
      "100%|██████████| 148/148 [00:02<00:00, 63.35it/s]\n"
     ]
    }
   ],
   "source": [
    "# 将模型预测错误的数据标注为OOD数据\n",
    "# 分批预测，防止内存过载\n",
    "batch_size = 200\n",
    "for idx in range(0, len(data_test_1), batch_size):\n",
    "    codes_tmp, labels_tmp = path_loader(data_test_1[idx:idx+batch_size])\n",
    "    codes_tmp, labels_tmp = test_data_loader(codes_tmp, labels_tmp)\n",
    "    test_pred_tmp = model.predict(codes_tmp)\n",
    "    test_pred_tmp = np.argmax(test_pred_tmp, axis=1)\n",
    "    test_true_tmp = np.argmax(labels_tmp, axis=1)\n",
    "    bool_pred_tmp = np.equal(test_pred_tmp, test_true_tmp)\n",
    "    bool_pred = bool_pred_tmp if idx == 0 else np.concatenate((bool_pred, bool_pred_tmp), axis=0)\n",
    "\n",
    "data_test_1['id'] = bool_pred\n",
    "data_test_1.to_csv('data_test_1.csv', index=0)"
   ]
  },
  {
   "cell_type": "code",
   "execution_count": 17,
   "metadata": {},
   "outputs": [
    {
     "output_type": "stream",
     "name": "stdout",
     "text": [
      "              precision    recall  f1-score   support\n\n           0     0.9684    0.9425    0.9553      1790\n           1     0.5000    0.6519    0.5659       158\n\n    accuracy                         0.9189      1948\n   macro avg     0.7342    0.7972    0.7606      1948\nweighted avg     0.9304    0.9189    0.9237      1948\n\n"
     ]
    }
   ],
   "source": [
    "# 计算ocsvm识别的准确率\n",
    "\n",
    "svm_pred = np.array(data_test_1['ocsvm'])\n",
    "svm_pred = svm_pred.astype('int64')\n",
    "ood2label = {True: 0, False: 1}\n",
    "label_id = np.array(data_test_1['id'].map(lambda x: ood2label[x]))\n",
    "print(classification_report(label_id, svm_pred, digits=4))"
   ]
  },
  {
   "cell_type": "code",
   "execution_count": 18,
   "metadata": {},
   "outputs": [
    {
     "output_type": "stream",
     "name": "stderr",
     "text": [
      "100%|██████████| 200/200 [00:08<00:00, 23.75it/s]\n",
      "100%|██████████| 200/200 [00:09<00:00, 21.01it/s]\n",
      "100%|██████████| 200/200 [00:07<00:00, 27.87it/s]\n",
      "100%|██████████| 200/200 [00:06<00:00, 32.67it/s]\n",
      "100%|██████████| 200/200 [00:04<00:00, 44.56it/s]\n",
      "100%|██████████| 200/200 [00:08<00:00, 24.00it/s]\n",
      "100%|██████████| 200/200 [00:05<00:00, 39.06it/s]\n",
      "100%|██████████| 200/200 [00:04<00:00, 47.76it/s]\n",
      "100%|██████████| 200/200 [00:04<00:00, 43.39it/s]\n",
      "100%|██████████| 200/200 [00:04<00:00, 46.37it/s]\n",
      "100%|██████████| 94/94 [00:02<00:00, 42.02it/s]\n",
      "(1780, 10)\n"
     ]
    }
   ],
   "source": [
    "# 对第二个测试子集进行novelty detection\n",
    "# 分批预测，防止内存过载\n",
    "batch_size = 200\n",
    "for idx in range(0, len(data_test_2), batch_size):\n",
    "    codes_tmp, labels_tmp = path_loader(data_test_2[idx:idx+batch_size])\n",
    "    codes_tmp, labels_tmp = test_data_loader(codes_tmp, labels_tmp)\n",
    "    feature_tmp = layer_model.predict(codes_tmp)\n",
    "    feature_test_2 = feature_tmp if idx == 0 else np.concatenate((feature_test_2, feature_tmp), axis=0)\n",
    "\n",
    "data_test_２['novelty'] = ''\n",
    "\n",
    "res_1 = one_svm_backdoor.predict(feature_test_2)\n",
    "res_2 = one_svm_virus.predict(feature_test_2)\n",
    "res_3 = one_svm_worm.predict(feature_test_2)\n",
    "res_4 = one_svm_trojan.predict(feature_test_2)\n",
    "\n",
    "# 综合不同分类器的结果判断最终结果\n",
    "for idx in range(data_test_２.shape[0]):\n",
    "    res = res_1[idx]+res_2[idx]+res_3[idx]+res_4[idx]\n",
    "    if res == -4 or res >= 0:\n",
    "        data_test_２.at[idx, 'novelty'] = 1\n",
    "    else:\n",
    "        data_test_２.at[idx, 'novelty'] = 0\n",
    "        \n",
    "data_normal = data_test_２[data_test_２['novelty']==0]\n",
    "print(data_normal.shape)"
   ]
  },
  {
   "cell_type": "code",
   "execution_count": 19,
   "metadata": {},
   "outputs": [
    {
     "output_type": "stream",
     "name": "stderr",
     "text": [
      "100%|██████████| 200/200 [00:01<00:00, 193.42it/s]\n",
      "100%|██████████| 200/200 [00:01<00:00, 174.05it/s]\n",
      "100%|██████████| 200/200 [00:00<00:00, 221.00it/s]\n",
      "100%|██████████| 200/200 [00:01<00:00, 199.21it/s]\n",
      "100%|██████████| 200/200 [00:00<00:00, 224.40it/s]\n",
      "100%|██████████| 200/200 [00:01<00:00, 169.56it/s]\n",
      "100%|██████████| 200/200 [00:01<00:00, 193.66it/s]\n",
      "100%|██████████| 200/200 [00:01<00:00, 176.09it/s]\n",
      "100%|██████████| 180/180 [00:01<00:00, 166.43it/s]\n",
      "              precision    recall  f1-score   support\n",
      "\n",
      "       virus     0.9676    0.9676    0.9676       524\n",
      "    backdoor     0.9580    0.9887    0.9731       530\n",
      "        worm     0.9877    0.9902    0.9890       407\n",
      "      trojan     0.9900    0.9342    0.9613       319\n",
      "\n",
      "    accuracy                         0.9730      1780\n",
      "   macro avg     0.9758    0.9701    0.9727      1780\n",
      "weighted avg     0.9733    0.9730    0.9730      1780\n",
      "\n"
     ]
    }
   ],
   "source": [
    "from sklearn.metrics import classification_report\n",
    "\n",
    "codes_normal, labels_normal = path_loader(data_normal)\n",
    "\n",
    "# 分批预测\n",
    "batch_size = 200\n",
    "for idx in range(0, len(codes_normal), batch_size):\n",
    "    codes_tmp, labels_tmp = test_data_loader(codes_normal[idx: idx+batch_size], labels_normal[idx: idx+batch_size])\n",
    "    y_pred_tmp = model.predict(codes_tmp)\n",
    "    y_true_tmp = np.argmax(labels_tmp, axis=1)\n",
    "    y_pred_tmp = np.argmax(y_pred_tmp, axis=1)\n",
    "    y_pred = y_pred_tmp if idx == 0 else np.concatenate((y_pred, y_pred_tmp), axis=0)\n",
    "    y_true = y_true_tmp if idx == 0 else np.concatenate((y_true, y_true_tmp), axis=0)\n",
    "\n",
    "target_names = {'trojan', 'virus', 'worm', 'backdoor'}\n",
    "print(classification_report(y_true, y_pred, target_names=target_names, digits=4))"
   ]
  },
  {
   "cell_type": "code",
   "execution_count": 20,
   "metadata": {},
   "outputs": [
    {
     "output_type": "stream",
     "name": "stderr",
     "text": [
      "100%|██████████| 200/200 [00:01<00:00, 131.16it/s]\n",
      "100%|██████████| 200/200 [00:01<00:00, 179.64it/s]\n",
      "100%|██████████| 200/200 [00:01<00:00, 186.90it/s]\n",
      "100%|██████████| 200/200 [00:01<00:00, 188.54it/s]\n",
      "100%|██████████| 200/200 [00:00<00:00, 208.06it/s]\n",
      "100%|██████████| 200/200 [00:00<00:00, 219.18it/s]\n",
      "100%|██████████| 200/200 [00:01<00:00, 144.77it/s]\n",
      "100%|██████████| 200/200 [00:00<00:00, 208.64it/s]\n",
      "100%|██████████| 200/200 [00:01<00:00, 150.11it/s]\n",
      "100%|██████████| 200/200 [00:00<00:00, 259.84it/s]\n",
      "100%|██████████| 94/94 [00:00<00:00, 125.94it/s]\n"
     ]
    }
   ],
   "source": [
    "# 将模型预测错误的数据标注为OOD数据\n",
    "# 分批预测，防止内存过载\n",
    "batch_size = 200\n",
    "for idx in range(0, len(data_test_2), batch_size):\n",
    "    codes_tmp, labels_tmp = path_loader(data_test_2[idx:idx+batch_size])\n",
    "    codes_tmp, labels_tmp = test_data_loader(codes_tmp, labels_tmp)\n",
    "    test_pred_tmp = model.predict(codes_tmp)\n",
    "    test_pred_tmp = np.argmax(test_pred_tmp, axis=1)\n",
    "    test_true_tmp = np.argmax(labels_tmp, axis=1)\n",
    "    bool_pred_tmp = np.equal(test_pred_tmp, test_true_tmp)\n",
    "    bool_pred = bool_pred_tmp if idx == 0 else np.concatenate((bool_pred, bool_pred_tmp), axis=0)\n",
    "\n",
    "data_test_2['id'] = bool_pred\n",
    "data_test_2.to_csv('data_test_2.csv', index=0)"
   ]
  },
  {
   "cell_type": "code",
   "execution_count": 21,
   "metadata": {},
   "outputs": [
    {
     "output_type": "stream",
     "name": "stdout",
     "text": [
      "              precision    recall  f1-score   support\n\n           0     0.9730    0.8956    0.9327      1934\n           1     0.3567    0.7000    0.4726       160\n\n    accuracy                         0.8806      2094\n   macro avg     0.6649    0.7978    0.7026      2094\nweighted avg     0.9259    0.8806    0.8975      2094\n\n"
     ]
    }
   ],
   "source": [
    "# 计算ocsvm识别的准确率\n",
    "\n",
    "svm_pred = np.array(data_test_2['novelty'])\n",
    "svm_pred = svm_pred.astype('int64')\n",
    "ood2label = {True: 0, False: 1}\n",
    "label_id = np.array(data_test_2['id'].map(lambda x: ood2label[x]))\n",
    "print(classification_report(label_id, svm_pred, digits=4))"
   ]
  }
 ],
 "metadata": {
  "kernelspec": {
   "name": "python388jvsc74a57bd0d8e1a1fcec363f1a5f290fc0ebbcefa1e3a93960ec6d03d7b21ddb10ba87d178",
   "display_name": "Python 3.8.8 64-bit ('tf2-gpu': conda)"
  },
  "language_info": {
   "codemirror_mode": {
    "name": "ipython",
    "version": 3
   },
   "file_extension": ".py",
   "mimetype": "text/x-python",
   "name": "python",
   "nbconvert_exporter": "python",
   "pygments_lexer": "ipython3",
   "version": "3.8.8-final"
  }
 },
 "nbformat": 4,
 "nbformat_minor": 4
}