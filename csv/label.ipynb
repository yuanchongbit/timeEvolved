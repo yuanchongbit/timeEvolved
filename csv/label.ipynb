{
 "metadata": {
  "language_info": {
   "codemirror_mode": {
    "name": "ipython",
    "version": 3
   },
   "file_extension": ".py",
   "mimetype": "text/x-python",
   "name": "python",
   "nbconvert_exporter": "python",
   "pygments_lexer": "ipython3",
   "version": "3.6.2"
  },
  "orig_nbformat": 2,
  "kernelspec": {
   "name": "python362jvsc74a57bd091170668c7aaa2e97a1dfdf8cba9fdf7715af8a3201b573622aa3867acc88e1b",
   "display_name": "Python 3.6.2 64-bit ('tf-gpu': conda)"
  },
  "metadata": {
   "interpreter": {
    "hash": "91170668c7aaa2e97a1dfdf8cba9fdf7715af8a3201b573622aa3867acc88e1b"
   }
  }
 },
 "nbformat": 4,
 "nbformat_minor": 2,
 "cells": [
  {
   "source": [
    "# 生成数据集的描述文件\n",
    "要提取的信息是时间戳信息以及标签信息  \n",
    "https://www.kaspersky.com/resource-center/threats/trojans 可以查看家族信息      \n",
    "https://www.kaspersky.com/resource-center/threats/types-of-malware 查看恶意软件类别"
   ],
   "cell_type": "markdown",
   "metadata": {}
  },
  {
   "cell_type": "code",
   "execution_count": 1,
   "metadata": {},
   "outputs": [
    {
     "output_type": "stream",
     "name": "stderr",
     "text": [
      " 66%|██████▌   | 25402/38438 [00:00<00:00, 253983.30it/s]start handle 2017-10-20\n",
      "100%|██████████| 38438/38438 [00:00<00:00, 252606.68it/s]start handle 2019-11-29\n",
      "\n",
      "100%|██████████| 47142/47142 [00:00<00:00, 260437.27it/s]\n",
      "  0%|          | 0/134575 [00:00<?, ?it/s]start handle 2018-03-14\n",
      "100%|██████████| 134575/134575 [00:00<00:00, 326613.07it/s]\n",
      " 61%|██████▏   | 26244/42799 [00:00<00:00, 262437.75it/s]start handle 2018-07-17\n",
      "100%|██████████| 42799/42799 [00:00<00:00, 267031.24it/s]\n",
      " 35%|███▌      | 24939/71104 [00:00<00:00, 249365.27it/s]start handle 2019-05-10\n",
      "100%|██████████| 71104/71104 [00:00<00:00, 228103.79it/s]\n",
      "100%|██████████| 13762/13762 [00:00<00:00, 150384.32it/s]\n",
      "start handle 2017-11-20\n",
      "start handle 2018-06-19\n",
      "100%|██████████| 154001/154001 [00:00<00:00, 339403.89it/s]\n"
     ]
    }
   ],
   "source": [
    "# 根据样本生成csv文件，后续加载对应的json文件并获取label等信息\n",
    "\n",
    "import csv\n",
    "import os\n",
    "from tqdm import tqdm\n",
    "\n",
    "dirnames = [dirname for dirname in os.listdir('../data/') if '-' in dirname]\n",
    "columns = ['name', 'first_seen', 'scan_date', 'size', 'trojan', 'virus', 'worm', 'backdoor', 'label']\n",
    "\n",
    "for dirname in dirnames:\n",
    "    print('start handle % s' % dirname)\n",
    "    with open(dirname + '.csv', 'w', encoding='utf-8') as csvfile:\n",
    "        writer = csv.writer(csvfile)\n",
    "        writer.writerow(columns)\n",
    "        dirpath = '../data/' + dirname\n",
    "        for file in tqdm(os.listdir(dirpath)):\n",
    "            if (file == '.ipynb_checkpoints'):\n",
    "                continue\n",
    "            if not file.endswith('.json'):\n",
    "                filepath = os.path.join(dirpath, file)\n",
    "                res = [filepath] + 8*['none']\n",
    "                writer.writerow(res)"
   ]
  },
  {
   "cell_type": "code",
   "execution_count": 2,
   "metadata": {},
   "outputs": [
    {
     "output_type": "stream",
     "name": "stderr",
     "text": [
      "0it [00:00, ?it/s]start handle 2019-11-29.csv\n",
      "2019-11-29.csv contain  0 json file\n",
      "after json file extracted, we acquire  0  available data items\n",
      "start handle 2017-10-20.csv\n",
      "\n",
      "  1%|          | 235/19219 [00:00<00:08, 2345.44it/s]2017-10-20.csv contain  19219 json file\n",
      "100%|██████████| 19219/19219 [02:05<00:00, 153.34it/s]\n",
      "after json file extracted, we acquire  18469  available data items\n",
      "start handle 2018-07-17.csv\n",
      "0it [00:00, ?it/s]2018-07-17.csv contain  0 json file\n",
      "after json file extracted, we acquire  0  available data items\n",
      "start handle 2018-03-14.csv\n",
      "\n",
      "  0%|          | 6/56429 [00:00<16:53, 55.69it/s]2018-03-14.csv contain  56429 json file\n",
      " 35%|███▍      | 19498/56429 [05:26<10:57, 56.14it/s]JSONDecodeError\n",
      " 66%|██████▌   | 37270/56429 [10:42<04:53, 65.28it/s]JSONDecodeError\n",
      "100%|██████████| 56429/56429 [16:29<00:00, 57.01it/s]\n",
      "after json file extracted, we acquire  55160  available data items\n",
      "start handle 2018-06-19.csv\n",
      "  0%|          | 9/52056 [00:00<09:42, 89.37it/s]2018-06-19.csv contain  52056 json file\n",
      " 60%|█████▉    | 31230/52056 [05:19<03:18, 105.15it/s]JSONDecodeError\n",
      "100%|██████████| 52056/52056 [11:10<00:00, 77.63it/s]\n",
      "after json file extracted, we acquire  48997  available data items\n",
      "  0%|          | 3/6881 [00:00<04:10, 27.41it/s]start handle 2017-11-20.csv\n",
      "2017-11-20.csv contain  6881 json file\n",
      "100%|██████████| 6881/6881 [02:16<00:00, 32.14it/s]\n",
      "  0%|          | 0/35552 [00:00<?, ?it/s]after json file extracted, we acquire  6878  available data items\n",
      "start handle 2019-05-10.csv\n",
      "2019-05-10.csv contain  35552 json file\n",
      "100%|██████████| 35552/35552 [15:56<00:00, 37.16it/s]\n",
      "after json file extracted, we acquire  34420  available data items\n"
     ]
    }
   ],
   "source": [
    "# 获取样本的标签信息\n",
    "\n",
    "import json\n",
    "import csv\n",
    "import os\n",
    "import pandas as pd \n",
    "from tqdm import tqdm\n",
    "\n",
    "# 统计json文件中的各种类别分别出现的次数信息\n",
    "def label_count(scan_res, label_all):\n",
    "\n",
    "    label_res = {i: 0 for i in label_all}\n",
    "    for item in scan_res:\n",
    "        label = scan_res[item]['result']\n",
    "        if label:\n",
    "            label = label.lower()\n",
    "            for i in label_all[: -1]:\n",
    "                if i in label:\n",
    "                    label_res[i] += 1\n",
    "    \n",
    "    label_res['label'] = max(label_res, key=label_res.get)\n",
    "\n",
    "    return label_res\n",
    "\n",
    "\n",
    "# 判断恶意样本对应的json文件是否存在\n",
    "def judge_json(path):\n",
    "    path += '.json'\n",
    "    if os.path.exists(path):\n",
    "        return True\n",
    "    else:\n",
    "        return False\n",
    "\n",
    "\n",
    "# 生成对应的csv文件\n",
    "def generate_json(dir_name, columns, label_all):\n",
    "\n",
    "    data = pd.read_csv(dir_name)\n",
    "    data = data[data['name'].apply(judge_json)]\n",
    "    print(dir_name + \" contain \", len(data), \"json file\")\n",
    "    data = data.reset_index(drop=True)\n",
    "    for idx in tqdm(range(len(data))):\n",
    "        json_path = data.at[idx, 'name'] + '.json'\n",
    "        # print(json_path)\n",
    "        try:\n",
    "            with open(json_path, 'r', encoding='utf-8') as file:\n",
    "                info = json.load(file)\n",
    "                scan_res = info['scans']\n",
    "                # print(scan_res)\n",
    "                label_res = label_count(scan_res, label_all)\n",
    "                label_res_1 = {k: v for k, v in label_res.items() if k != 'label'}\n",
    "                max_value = max(label_res_1.values())\n",
    "                if max_value < 3:\n",
    "                    continue\n",
    "                data.at[idx, 'first_seen'] = info['first_seen']\n",
    "                \n",
    "                data.at[idx, 'scan_date'] = info['scan_date']\n",
    "                data.at[idx, 'size'] = info['size']\n",
    "                data.at[idx, 'trojan'] = label_res['trojan']\n",
    "                data.at[idx, 'virus'] = label_res['virus']\n",
    "                data.at[idx, 'worm'] = label_res['worm']\n",
    "                data.at[idx, 'backdoor'] = label_res['backdoor']\n",
    "                data.at[idx, 'label'] = label_res['label']\n",
    "        except:\n",
    "            print('JSONDecodeError')\n",
    "\n",
    "    data = data[data['label'] != 'none']\n",
    "    data = data.reset_index(drop=True)\n",
    "    print(\"after json file extracted, we acquire \", len(data), \" available data items\")\n",
    "    dir_name = './' + dir_name\n",
    "    data.to_csv(dir_name, index = 0)\n",
    "\n",
    "\n",
    "# 提取json文件里的家族信息以及时间戳信息\n",
    "\n",
    "label_all = ['trojan', 'virus', 'worm', 'backdoor', 'label']\n",
    "dir_names = [name for name in os.listdir('./')]\n",
    "columns = ['name', 'scan_date', 'first_seen', 'size'] + label_all \n",
    "for dir_name in dir_names:\n",
    "    if '-' in dir_name:\n",
    "        print('start handle ' + dir_name)\n",
    "        generate_json(dir_name, columns, label_all)"
   ]
  },
  {
   "source": [
    "- 2021年6月18日实验记录  \n",
    "2017-10-20.csv contain 19219 json file  \n",
    "after json file extracted, we acquire  18469  available data items  \n",
    "2017-11-20.csv contain  6881 json file  \n",
    "after json file extracted, we acquire  6878  available data items  \n",
    "2018-03-14.csv contain  56429 json file  \n",
    "after json file extracted, we acquire  55160  available data items  \n",
    "2018-06-19.csv contain  52056 json file  \n",
    "after json file extracted, we acquire  48997  available data items  \n",
    "2019-05-10.csv contain  35552 json file  \n",
    "after json file extracted, we acquire  34420  available data items"
   ],
   "cell_type": "markdown",
   "metadata": {}
  },
  {
   "cell_type": "code",
   "execution_count": 3,
   "metadata": {},
   "outputs": [
    {
     "output_type": "stream",
     "name": "stdout",
     "text": [
      "loading 2017-10-20.csv\n",
      "Counter({'trojan': 15126, 'virus': 1840, 'worm': 873, 'backdoor': 630})\n",
      "(18469, 9)\n",
      "loading 2018-03-14.csv\n",
      "Counter({'trojan': 38687, 'virus': 11456, 'worm': 4244, 'backdoor': 773})\n",
      "(55160, 9)\n",
      "loading 2018-06-19.csv\n",
      "Counter({'trojan': 37361, 'virus': 8070, 'worm': 2993, 'backdoor': 573})\n",
      "(48997, 9)\n",
      "loading 2017-11-20.csv\n",
      "Counter({'trojan': 6870, 'worm': 4, 'virus': 3, 'backdoor': 1})\n",
      "(6878, 9)\n",
      "loading 2019-05-10.csv\n",
      "Counter({'trojan': 22575, 'virus': 7040, 'worm': 3881, 'backdoor': 924})\n",
      "(34420, 9)\n"
     ]
    }
   ],
   "source": [
    "# 加载csv文件\n",
    "import os \n",
    "import pandas as pd \n",
    "from collections import Counter\n",
    "\n",
    "df = pd.DataFrame(columns = ['name', 'first_seen', 'scan_date', 'size', 'trojan',\n",
    "                             'virus', 'worm', 'backdoor', 'label'])\n",
    "for file in os.listdir('./'):\n",
    "    if '-' in file:\n",
    "        print('loading ' + file)\n",
    "        df_file = pd.read_csv(file)\n",
    "        print(Counter(df_file.label))\n",
    "        print(df_file.shape)\n",
    "        df = pd.concat([df, df_file], axis=0, ignore_index=True)\n",
    "print(Counter(df.label))\n",
    "print(df.shape)"
   ]
  },
  {
   "source": [
    "- 2021年6月18日实验记录  \n",
    "loading 2017-10-20.csv  \n",
    "Counter({'trojan': 15126, 'virus': 1840, 'worm': 873, 'backdoor': 630})  \n",
    "(18469, 9)  \n",
    "loading 2018-03-14.csv  \n",
    "Counter({'trojan': 38687, 'virus': 11456, 'worm': 4244, 'backdoor': 773})  \n",
    "(55160, 9)  \n",
    "loading 2018-06-19.csv  \n",
    "Counter({'trojan': 37361, 'virus': 8070, 'worm': 2993, 'backdoor': 573})  \n",
    "(48997, 9)  \n",
    "loading 2017-11-20.csv  \n",
    "Counter({'trojan': 6870, 'worm': 4, 'virus': 3, 'backdoor': 1})  \n",
    "(6878, 9)  \n",
    "loading 2019-05-10.csv  \n",
    "Counter({'trojan': 22575, 'virus': 7040, 'worm': 3881, 'backdoor': 924})  \n",
    "(34420, 9)   \n",
    "总计：  \n",
    "Counter({'trojan': 120619, 'virus': 28409, 'worm': 11995, 'backdoor': 2901})   \n",
    "(163924, 9)"
   ],
   "cell_type": "markdown",
   "metadata": {}
  },
  {
   "cell_type": "code",
   "execution_count": 5,
   "metadata": {},
   "outputs": [
    {
     "output_type": "execute_result",
     "data": {
      "text/plain": [
       "                                                name  first_seen   scan_date  \\\n",
       "0  ../data/2017-10-20/270b645ecae6ff84c246c82d960...  2017-05-11  2017-10-20   \n",
       "1  ../data/2017-10-20/12ddae06e09b87e9148ccb0be49...  2017-10-20  2017-10-20   \n",
       "2  ../data/2017-10-20/ccc7664e5afdec3bf84ecc1878b...  2017-09-20  2017-10-20   \n",
       "3  ../data/2017-10-20/821c9c2ac136f72cd064dcd47c4...  2017-10-20  2017-10-20   \n",
       "4  ../data/2017-10-20/75a3f077ca0341cb0143ea4484f...  2017-09-20  2017-10-20   \n",
       "\n",
       "      size trojan virus worm backdoor   label  \n",
       "0  1269584      6     3    0        0  trojan  \n",
       "1  4575744      7     1    0        0  trojan  \n",
       "2  2017667     24     0    3        1  trojan  \n",
       "3    24064     18     0    0       15  trojan  \n",
       "4   880669     29     1    3        0  trojan  "
      ],
      "text/html": "<div>\n<style>\n    .dataframe thead tr:only-child th {\n        text-align: right;\n    }\n\n    .dataframe thead th {\n        text-align: left;\n    }\n\n    .dataframe tbody tr th {\n        vertical-align: top;\n    }\n</style>\n<table border=\"1\" class=\"dataframe\">\n  <thead>\n    <tr style=\"text-align: right;\">\n      <th></th>\n      <th>name</th>\n      <th>first_seen</th>\n      <th>scan_date</th>\n      <th>size</th>\n      <th>trojan</th>\n      <th>virus</th>\n      <th>worm</th>\n      <th>backdoor</th>\n      <th>label</th>\n    </tr>\n  </thead>\n  <tbody>\n    <tr>\n      <th>0</th>\n      <td>../data/2017-10-20/270b645ecae6ff84c246c82d960...</td>\n      <td>2017-05-11</td>\n      <td>2017-10-20</td>\n      <td>1269584</td>\n      <td>6</td>\n      <td>3</td>\n      <td>0</td>\n      <td>0</td>\n      <td>trojan</td>\n    </tr>\n    <tr>\n      <th>1</th>\n      <td>../data/2017-10-20/12ddae06e09b87e9148ccb0be49...</td>\n      <td>2017-10-20</td>\n      <td>2017-10-20</td>\n      <td>4575744</td>\n      <td>7</td>\n      <td>1</td>\n      <td>0</td>\n      <td>0</td>\n      <td>trojan</td>\n    </tr>\n    <tr>\n      <th>2</th>\n      <td>../data/2017-10-20/ccc7664e5afdec3bf84ecc1878b...</td>\n      <td>2017-09-20</td>\n      <td>2017-10-20</td>\n      <td>2017667</td>\n      <td>24</td>\n      <td>0</td>\n      <td>3</td>\n      <td>1</td>\n      <td>trojan</td>\n    </tr>\n    <tr>\n      <th>3</th>\n      <td>../data/2017-10-20/821c9c2ac136f72cd064dcd47c4...</td>\n      <td>2017-10-20</td>\n      <td>2017-10-20</td>\n      <td>24064</td>\n      <td>18</td>\n      <td>0</td>\n      <td>0</td>\n      <td>15</td>\n      <td>trojan</td>\n    </tr>\n    <tr>\n      <th>4</th>\n      <td>../data/2017-10-20/75a3f077ca0341cb0143ea4484f...</td>\n      <td>2017-09-20</td>\n      <td>2017-10-20</td>\n      <td>880669</td>\n      <td>29</td>\n      <td>1</td>\n      <td>3</td>\n      <td>0</td>\n      <td>trojan</td>\n    </tr>\n  </tbody>\n</table>\n</div>"
     },
     "metadata": {},
     "execution_count": 5
    }
   ],
   "source": [
    "# 对时间信息进行处理，只显示到月份\n",
    "\n",
    "def handle_time(item):\n",
    "    item = item.split(' ')[0][:10]\n",
    "    return item\n",
    "\n",
    "df['scan_date'] = df['scan_date'].apply(handle_time)\n",
    "df['first_seen'] = df['first_seen'].apply(handle_time)\n",
    "df.head(5)"
   ]
  },
  {
   "cell_type": "code",
   "execution_count": 7,
   "metadata": {},
   "outputs": [
    {
     "output_type": "stream",
     "name": "stdout",
     "text": [
      "(154568, 9)\nCounter({'2018': 102100, '2019': 33412, '2017': 19056})\nCounter({'trojan': 111633, 'virus': 28197, 'worm': 11922, 'backdoor': 2816})\n"
     ]
    }
   ],
   "source": [
    "# 剔除掉2016年之前以及2019年之后的样本\n",
    "\n",
    "def judge(time):\n",
    "    if time[:4] < '2017' or time[:4] > '2019':\n",
    "        return False\n",
    "    else:\n",
    "        return True\n",
    "df_1 = df[df['first_seen'].apply(judge)]\n",
    "\n",
    "print(df_1.shape)\n",
    "print(Counter(df_1['first_seen'].apply(lambda x: x[:4])))\n",
    "print(Counter(df_1['label']))\n",
    "df_1.to_csv('./dataset.csv', index=0)"
   ]
  },
  {
   "source": [
    "- 2021年6月18日实验记录  \n",
    "时间序列保留至月份，提出2016年以前及2019年之后的样本后  \n",
    "数量： 154568  \n",
    "按年份统计： Counter({'2018': 102100, '2019': 33412, '2017': 19056})  \n",
    "按样本种类统计： Counter({'trojan': 111633, 'virus': 28197, 'worm': 11922, 'backdoor': 2816})"
   ],
   "cell_type": "markdown",
   "metadata": {}
  },
  {
   "cell_type": "code",
   "execution_count": 27,
   "metadata": {},
   "outputs": [],
   "source": [
    "# # 将有用的样本复制到新的文件夹中，用于反汇编提取操作码\n",
    "\n",
    "# import shutil \n",
    "# from tqdm import tqdm\n",
    "\n",
    "# num = 0\n",
    "# for idx, item in tqdm(enumerate(df_1['name'])):\n",
    "#     path_obj = '../data/dataset/' + item[19:]\n",
    "#     shutil.copyfile(item, path_obj)\n",
    "\n"
   ]
  },
  {
   "cell_type": "code",
   "execution_count": 8,
   "metadata": {},
   "outputs": [
    {
     "output_type": "stream",
     "name": "stdout",
     "text": [
      "(11922, 111633, 28197, 2816)\nCounter({'2018': 7204, '2019': 3859, '2017': 859})\nCounter({'2018': 74210, '2019': 21675, '2017': 15748})\nCounter({'2018': 19363, '2019': 7000, '2017': 1834})\nCounter({'2018': 1323, '2019': 878, '2017': 615})\n"
     ]
    }
   ],
   "source": [
    "# 将四个类别的样本进行分开采样\n",
    "\n",
    "df_worm = df_1[df_1['label'] == 'worm']\n",
    "df_trojan = df_1[df_1['label'] == 'trojan']\n",
    "df_virus = df_1[df_1['label'] == 'virus']\n",
    "df_backdoor = df_1[df_1['label'] == 'backdoor']\n",
    "print((df_worm.shape[0], df_trojan.shape[0], df_virus.shape[0], df_backdoor.shape[0]))\n",
    "print(Counter(df_worm['first_seen'].apply(lambda x: x[:4])))\n",
    "print(Counter(df_trojan['first_seen'].apply(lambda x: x[:4])))\n",
    "print(Counter(df_virus['first_seen'].apply(lambda x: x[:4])))\n",
    "print(Counter(df_backdoor['first_seen'].apply(lambda x: x[:4])))"
   ]
  },
  {
   "source": [
    "- 2021年6月18日实验记录  \n",
    "取样前统计    \n",
    "worm统计：Counter({'2018': 7204, '2019': 3859, '2017': 859})  \n",
    "trojan统计:Counter({'2018': 74210, '2019': 21675, '2017': 15748})  \n",
    "virus统计：Counter({'2018': 19363, '2019': 7000, '2017': 1834})  \n",
    "backdoor统计：Counter({'2018': 1323, '2019': 878, '2017': 615})"
   ],
   "cell_type": "markdown",
   "metadata": {}
  },
  {
   "cell_type": "code",
   "execution_count": 12,
   "metadata": {},
   "outputs": [
    {
     "output_type": "stream",
     "name": "stdout",
     "text": [
      "virus取样后统计： Counter({'2018': 1600, '2017': 1000, '2019': 1000})\ntrojan取样后统计： Counter({'2018': 1600, '2017': 1000, '2019': 1000})\nworm取样后统计： Counter({'2018': 1600, '2019': 1000, '2017': 859})\n13475\n合并后按年份进行统计： Counter({'2018': 6123, '2019': 3878, '2017': 3474})\n合并后按类型统计： Counter({'trojan': 3600, 'virus': 3600, 'worm': 3459, 'backdoor': 2816})\n"
     ]
    }
   ],
   "source": [
    "# 对virus进行下采样, 选较小的一批文件，取样方式待商榷\n",
    "df_virus_2017 = df_virus[df_virus['first_seen'].apply(lambda x: x[:4]) == '2017']\n",
    "df_virus_2018 = df_virus[df_virus['first_seen'].apply(lambda x: x[:4]) == '2018']\n",
    "df_virus_2019 = df_virus[df_virus['first_seen'].apply(lambda x: x[:4]) == '2019']\n",
    "\n",
    "df_virus_2017 = df_virus_2017.sort_values(by='size', ascending=True, inplace=False)\n",
    "df_virus_2017 = df_virus_2017.reset_index(drop=True)\n",
    "df_virus_2018 = df_virus_2018.sort_values(by='size', ascending=True, inplace=False)\n",
    "df_virus_2018 = df_virus_2018.reset_index(drop=True)\n",
    "df_virus_2019 = df_virus_2019.sort_values(by='size', ascending=True, inplace=False)\n",
    "df_virus_2019 = df_virus_2019.reset_index(drop=True)\n",
    "\n",
    "df_virus_2017 = df_virus_2017[:1000]\n",
    "df_virus_2018 = df_virus_2018[:1600]\n",
    "df_virus_2019 = df_virus_2019[:1000]\n",
    "\n",
    "df_virus = pd.concat([df_virus_2017, df_virus_2018, df_virus_2019], axis=0, ignore_index=True)\n",
    "df_virus = df_virus.reset_index(drop=True)\n",
    "\n",
    "print(\"virus取样后统计：\", Counter(df_virus['first_seen'].apply(lambda x: x[:4])))\n",
    "\n",
    "\n",
    "# 对trojan进行采样\n",
    "df_trojan_2017 = df_trojan[df_trojan['first_seen'].apply(lambda x: x[:4]) == '2017']\n",
    "df_trojan_2018 = df_trojan[df_trojan['first_seen'].apply(lambda x: x[:4]) == '2018']\n",
    "df_trojan_2019 = df_trojan[df_trojan['first_seen'].apply(lambda x: x[:4]) == '2019']\n",
    "\n",
    "df_trojan_2017 = df_trojan_2017.sort_values(by='size', ascending=True, inplace=False)\n",
    "df_trojan_2017 = df_trojan_2017.reset_index(drop=True)\n",
    "df_trojan_2018 = df_trojan_2018.sort_values(by='size', ascending=True, inplace=False)\n",
    "df_trojan_2018 = df_trojan_2018.reset_index(drop=True)\n",
    "df_trojan_2019 = df_trojan_2019.sort_values(by='size', ascending=True, inplace=False)\n",
    "df_trojan_2019 = df_trojan_2019.reset_index(drop=True)\n",
    "\n",
    "\n",
    "df_trojan_2017 = df_trojan_2017[:1000]\n",
    "df_trojan_2018 = df_trojan_2018[:1600]\n",
    "df_trojan_2019 = df_trojan_2019[:1000]\n",
    "\n",
    "df_trojan = pd.concat([df_trojan_2017, df_trojan_2018, df_trojan_2019], axis=0, ignore_index=True)\n",
    "df_trojan = df_trojan.reset_index(drop=True)\n",
    "\n",
    "print(\"trojan取样后统计：\", Counter(df_trojan['first_seen'].apply(lambda x: x[:4])))\n",
    "\n",
    "\n",
    "# 对worm进行下采样\n",
    "df_worm_2017 = df_worm[df_worm['first_seen'].apply(lambda x: x[:4]) == '2017']\n",
    "df_worm_2018 = df_worm[df_worm['first_seen'].apply(lambda x: x[:4]) == '2018']\n",
    "df_worm_2019 = df_worm[df_worm['first_seen'].apply(lambda x: x[:4]) == '2019']\n",
    "\n",
    "df_worm_2017 = df_worm_2017.sort_values(by='size', ascending=True, inplace=False)\n",
    "df_worm_2017 = df_worm_2017.reset_index(drop=True)\n",
    "df_worm_2018 = df_worm_2018.sort_values(by='size', ascending=True, inplace=False)\n",
    "df_worm_2018 = df_worm_2018.reset_index(drop=True)\n",
    "df_worm_2019 = df_worm_2019.sort_values(by='size', ascending=True, inplace=False)\n",
    "df_worm_2019 = df_worm_2019.reset_index(drop=True)\n",
    "\n",
    "\n",
    "#df_worm_2017 = df_worm_2017[:1000]\n",
    "df_worm_2018 = df_worm_2018[:1600]\n",
    "df_worm_2019 = df_worm_2019[:1000]\n",
    "\n",
    "df_worm = pd.concat([df_worm_2017, df_worm_2018, df_worm_2019], axis=0, ignore_index=True)\n",
    "df_worm = df_worm.reset_index(drop=True)\n",
    "\n",
    "print(\"worm取样后统计：\", Counter(df_worm['first_seen'].apply(lambda x: x[:4])))\n",
    "\n",
    "\n",
    "# 将数据进行合并然后生成总的csv文件\n",
    "df_2 = pd.concat([df_backdoor, df_trojan, df_virus, df_worm], axis=0, ignore_index=True)\n",
    "df_2 = df_2.reset_index(drop=True)\n",
    "\n",
    "df_2.to_csv('./dataset_handled.csv', index=0)\n",
    "print(len(df_2))\n",
    "print(\"合并后按年份进行统计：\", Counter(df_2['first_seen'].apply(lambda x: x[:4])))\n",
    "print(\"合并后按类型统计：\", Counter(df_2['label']))"
   ]
  },
  {
   "source": [
    "- 2021年6月18日实验记录  \n",
    "以backdoor的数量为参照进行取样  \n",
    "virus取样后统计： Counter({'2018': 1600, '2017': 1000, '2019': 1000})  \n",
    "trojan取样后统计： Counter({'2018': 1600, '2017': 1000, '2019': 1000})  \n",
    "worm取样后统计： Counter({'2018': 1600, '2019': 1000, '2017': 859})   \n",
    "取样后总数量： 13475  \n",
    "合并后按年份进行统计： Counter({'2018': 6123, '2019': 3878, '2017': 3474})  \n",
    "合并后按类型统计： Counter({'trojan': 3600, 'virus': 3600, 'worm': 3459, 'backdoor': 2816})\n"
   ],
   "cell_type": "markdown",
   "metadata": {}
  },
  {
   "cell_type": "code",
   "execution_count": 42,
   "metadata": {},
   "outputs": [],
   "source": [
    "import pandas as pd \n",
    "\n",
    "df_2 = pd.read_csv('dataset.csv')\n",
    "\n",
    "# 将样本拷贝到新的文件夹\n",
    "\n",
    "import shutil\n",
    "from tqdm import tqdm\n",
    "\n",
    "num = 0\n",
    "for idx, item in tqdm(enumerate(df_2['name'])):\n",
    "    path_obj = '../dataset' + item[7:]\n",
    "    shutil.copyfile(item, path_obj)\n",
    "\n",
    "df_2018 = df_2[df_2['first_seen'].apply(lambda x: x[:4]) == '2018']\n",
    "Counter(df_2018['first_seen'].apply(lambda x: x[:7]))"
   ]
  }
 ]
}