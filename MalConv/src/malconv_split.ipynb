{
 "cells": [
  {
   "cell_type": "markdown",
   "metadata": {},
   "source": [
    "## 进行时间切分实验"
   ]
  },
  {
   "cell_type": "code",
   "execution_count": 1,
   "metadata": {},
   "outputs": [
    {
     "output_type": "stream",
     "name": "stdout",
     "text": [
      "2.4.1\n"
     ]
    }
   ],
   "source": [
    "import tensorflow as tf \n",
    "\n",
    "print(tf.__version__)"
   ]
  },
  {
   "cell_type": "code",
   "execution_count": 5,
   "metadata": {},
   "outputs": [],
   "source": [
    "import pandas as pd\n",
    "import os\n",
    "import numpy as np\n",
    "import tensorflow as tf\n",
    "from tqdm import tqdm\n",
    "\n",
    "os.environ['TF_CPP_MIN_LOG_LEVEL'] = '2'"
   ]
  },
  {
   "cell_type": "code",
   "execution_count": 6,
   "metadata": {},
   "outputs": [
    {
     "output_type": "stream",
     "name": "stdout",
     "text": [
      "(6929, 9) (2668, 9) (3878, 9)\n"
     ]
    }
   ],
   "source": [
    "# 加载数据 为平衡数据量，将2018年3月之前的数据和2017年的数据合并\n",
    "def judge_1(time):\n",
    "    time = time[:7].replace('-', '')\n",
    "    if time <= '201803':\n",
    "        return True\n",
    "    else:\n",
    "        return False\n",
    "\n",
    "def judge_2(time):\n",
    "    time = time[:7].replace('-', '')\n",
    "    if time > '201803':\n",
    "        return True\n",
    "    else:\n",
    "        return False\n",
    "\n",
    "name2label = {'trojan':0, 'virus':1, 'worm':2, 'backdoor':3}\n",
    "data_csv = pd.read_csv('../../csv/dataset_handled.csv')\n",
    "data_2017 = data_csv[data_csv['first_seen'].apply(lambda x: x[:4]) == '2017']\n",
    "data_2018 = data_csv[data_csv['first_seen'].apply(lambda x: x[:4]) == '2018']\n",
    "data_2019 = data_csv[data_csv['first_seen'].apply(lambda x: x[:4]) == '2019']\n",
    "    \n",
    "data_2018_1 = data_2018[data_2018['first_seen'].apply(judge_1)]\n",
    "data_2018_2 = data_2018[data_2018['first_seen'].apply(judge_2)]\n",
    "\n",
    "data_train = data_2017.append(data_2018_１)\n",
    "data_test_1 = data_2018_2\n",
    "data_test_2 = data_2019\n",
    "print(data_train.shape, data_test_1.shape, data_test_2.shape)"
   ]
  },
  {
   "cell_type": "code",
   "execution_count": 9,
   "metadata": {},
   "outputs": [
    {
     "output_type": "stream",
     "name": "stdout",
     "text": [
      "Counter({'worm': 1900, 'virus': 1865, 'trojan': 1783, 'backdoor': 1381})\nCounter({'trojan': 817, 'virus': 735, 'worm': 559, 'backdoor': 557})\nCounter({'trojan': 1000, 'virus': 1000, 'worm': 1000, 'backdoor': 878})\n"
     ]
    }
   ],
   "source": [
    "from collections import Counter\n",
    "\n",
    "print(Counter(data_train.label))\n",
    "print(Counter(data_test_1.label))\n",
    "print(Counter(data_test_2.label))"
   ]
  },
  {
   "cell_type": "code",
   "execution_count": 7,
   "metadata": {},
   "outputs": [],
   "source": [
    "data_test_1.to_csv(\"data_test_1.csv\")\n",
    "data_test_2.to_csv(\"data_test_2.csv\")"
   ]
  },
  {
   "cell_type": "code",
   "execution_count": 10,
   "metadata": {},
   "outputs": [
    {
     "output_type": "stream",
     "name": "stdout",
     "text": [
      "(6929, 9) (1948, 9) (2094, 9)\n"
     ]
    }
   ],
   "source": [
    "# 对测试集进行下采样\n",
    "data_train = data_train.sample(frac=1, random_state=1).reset_index(drop=True)\n",
    "data_test_1 = data_test_1.sample(frac=0.73, random_state=1).reset_index(drop=True)\n",
    "data_test_2 = data_test_2.sample(frac=0.54, random_state=1).reset_index(drop=True)\n",
    "print(data_train.shape, data_test_1.shape, data_test_2.shape)"
   ]
  },
  {
   "cell_type": "code",
   "execution_count": 11,
   "metadata": {},
   "outputs": [
    {
     "output_type": "execute_result",
     "data": {
      "text/plain": [
       "(Counter({'worm': 1900, 'trojan': 1783, 'backdoor': 1381, 'virus': 1865}),\n",
       " Counter({'worm': 415, 'trojan': 589, 'virus': 541, 'backdoor': 403}),\n",
       " Counter({'worm': 523, 'backdoor': 480, 'trojan': 553, 'virus': 538}),\n",
       " Counter({'backdoor': 2816, 'trojan': 3600, 'virus': 3600, 'worm': 3459}))"
      ]
     },
     "metadata": {},
     "execution_count": 11
    }
   ],
   "source": [
    "from collections import Counter\n",
    "Counter(data_train['label']), Counter(data_test_１['label']), Counter(data_test_2['label']), Counter(data_csv['label'])"
   ]
  },
  {
   "cell_type": "code",
   "execution_count": 12,
   "metadata": {},
   "outputs": [],
   "source": [
    "from utils import *\n",
    "data_path_1, labels_1 = path_loader(data_train)\n",
    "data_path_2, labels_2 = path_loader(data_test_1)\n",
    "data_path_3, labels_3 = path_loader(data_test_2)"
   ]
  },
  {
   "cell_type": "code",
   "execution_count": 7,
   "metadata": {
    "tags": []
   },
   "outputs": [
    {
     "output_type": "stream",
     "name": "stdout",
     "text": [
      "Epoch 1/7\n",
      "46/46 [==============================] - 455s 10s/step - loss: 1.8797 - categorical_accuracy: 0.5993 - val_loss: 0.9333 - val_categorical_accuracy: 0.9196\n",
      "Epoch 2/7\n",
      "46/46 [==============================] - 420s 9s/step - loss: 0.7994 - categorical_accuracy: 0.9239 - val_loss: 0.5008 - val_categorical_accuracy: 0.9743\n",
      "Epoch 3/7\n",
      "46/46 [==============================] - 489s 11s/step - loss: 0.4644 - categorical_accuracy: 0.9701 - val_loss: 0.3318 - val_categorical_accuracy: 0.9888\n",
      "Epoch 4/7\n",
      "46/46 [==============================] - 396s 9s/step - loss: 0.3147 - categorical_accuracy: 0.9867 - val_loss: 0.2313 - val_categorical_accuracy: 0.9955\n",
      "Epoch 5/7\n",
      "46/46 [==============================] - 303s 7s/step - loss: 0.2312 - categorical_accuracy: 0.9929 - val_loss: 0.1796 - val_categorical_accuracy: 0.9989\n",
      "Epoch 6/7\n",
      "46/46 [==============================] - 456s 10s/step - loss: 0.1777 - categorical_accuracy: 0.9976 - val_loss: 0.1527 - val_categorical_accuracy: 0.9978\n",
      "Epoch 7/7\n",
      "46/46 [==============================] - 519s 11s/step - loss: 0.1475 - categorical_accuracy: 0.9988 - val_loss: 0.1323 - val_categorical_accuracy: 0.9989\n"
     ]
    }
   ],
   "source": [
    "# 加载数据并进行训练\n",
    "from tensorflow import keras\n",
    "from tensorflow.keras import layers, optimizers, Sequential, metrics\n",
    "from tensorflow.keras import Input, Model, regularizers\n",
    "from malconv import get_malconv\n",
    "\n",
    "\n",
    "batch_size = 128\n",
    "db_train = tf.data.Dataset.from_generator(train_data_generator, args=[data_path_1, labels_1, 'train'], \n",
    "                                          output_types=(tf.float32, tf.int32), output_shapes=((None,), (4, )))\n",
    "db_train = db_train.batch(batch_size).repeat(9)\n",
    "\n",
    "db_val = tf.data.Dataset.from_generator(train_data_generator, args=[data_path_1, labels_1, 'val'], \n",
    "                                          output_types=(tf.float32, tf.int32), output_shapes=((None,), (4, )))\n",
    "db_val = db_val.batch(batch_size).repeat(8)\n",
    "\n",
    "model = get_malconv()\n",
    "model.compile(optimizer=keras.optimizers.Adam(),\n",
    "             loss=keras..CategoricalCrossentropy(from_logits=True),\n",
    "             metrics=[keras.metrics.CategoricalAccuracy()])\n",
    "\n",
    "history = model.fit(db_train,\n",
    "                    epochs=7,\n",
    "                    steps_per_epoch=46,\n",
    "                    validation_data=db_val,\n",
    "                    validation_steps=7)"
   ]
  },
  {
   "cell_type": "code",
   "execution_count": 13,
   "metadata": {},
   "outputs": [
    {
     "output_type": "error",
     "ename": "NameError",
     "evalue": "name 'history' is not defined",
     "traceback": [
      "\u001b[0;31m---------------------------------------------------------------------------\u001b[0m",
      "\u001b[0;31mNameError\u001b[0m                                 Traceback (most recent call last)",
      "\u001b[0;32m<ipython-input-13-15aeaaa37117>\u001b[0m in \u001b[0;36m<module>\u001b[0;34m\u001b[0m\n\u001b[1;32m     20\u001b[0m    \u001b[0mplt\u001b[0m\u001b[0;34m.\u001b[0m\u001b[0msavefig\u001b[0m\u001b[0;34m(\u001b[0m\u001b[0;34m\"./figures/\"\u001b[0m \u001b[0;34m+\u001b[0m \u001b[0mmodel_name\u001b[0m \u001b[0;34m+\u001b[0m \u001b[0;34m'.png'\u001b[0m\u001b[0;34m)\u001b[0m\u001b[0;34m\u001b[0m\u001b[0;34m\u001b[0m\u001b[0m\n\u001b[1;32m     21\u001b[0m \u001b[0;34m\u001b[0m\u001b[0m\n\u001b[0;32m---> 22\u001b[0;31m \u001b[0mPlotLoss\u001b[0m\u001b[0;34m(\u001b[0m\u001b[0;34m'malconv_split'\u001b[0m\u001b[0;34m,\u001b[0m \u001b[0mhistory\u001b[0m\u001b[0;34m)\u001b[0m\u001b[0;34m\u001b[0m\u001b[0;34m\u001b[0m\u001b[0m\n\u001b[0m",
      "\u001b[0;31mNameError\u001b[0m: name 'history' is not defined"
     ]
    }
   ],
   "source": [
    " # 绘制loss和acc曲线\n",
    "def PlotLoss(model_name, history):\n",
    "    \n",
    "    p1 = plt.figure(figsize=(10, 3.5),dpi=300)\n",
    "    ax1 = p1.add_subplot(1,2,1)\n",
    "    plt.plot(history.history['loss'])\n",
    "    plt.plot(history.history['val_loss'])\n",
    "    plt.title(\"model loss\")\n",
    "    plt.ylabel(\"loss\")\n",
    "    plt.xlabel(\"epoch\")\n",
    "    plt.legend([\"train\",\"val\"],loc=\"upper right\")\n",
    "\n",
    "    ax2 = p1.add_subplot(1,2,2)\n",
    "    plt.plot(history.history['categorical_accuracy'])\n",
    "    plt.plot(history.history['val_categorical_accuracy'])\n",
    "    plt.title(\"model accuracy\")\n",
    "    plt.ylabel(\"accuracy\")\n",
    "    plt.xlabel(\"epoch\")\n",
    "    plt.legend([\"train\",\"val\"],loc=\"lower right\")\n",
    "    plt.savefig(\"./figures/\" + model_name + '.png')\n",
    "\n",
    "PlotLoss('malconv_split', history)"
   ]
  },
  {
   "cell_type": "code",
   "execution_count": 9,
   "metadata": {},
   "outputs": [],
   "source": [
    "# 进行模型保存\n",
    "model.save('../model/malconv_split.h5')"
   ]
  },
  {
   "cell_type": "code",
   "execution_count": 14,
   "metadata": {},
   "outputs": [
    {
     "output_type": "stream",
     "name": "stderr",
     "text": [
      "100%|██████████| 100/100 [00:01<00:00, 65.43it/s]\n",
      "100%|██████████| 100/100 [00:01<00:00, 60.08it/s]\n",
      "100%|██████████| 100/100 [00:01<00:00, 63.91it/s]\n",
      "100%|██████████| 100/100 [00:01<00:00, 74.15it/s]\n",
      "100%|██████████| 100/100 [00:01<00:00, 72.04it/s]\n",
      "100%|██████████| 100/100 [00:01<00:00, 64.46it/s]\n",
      "100%|██████████| 100/100 [00:01<00:00, 60.88it/s]\n",
      "100%|██████████| 100/100 [00:01<00:00, 66.58it/s]\n",
      "100%|██████████| 100/100 [00:01<00:00, 53.95it/s]\n",
      "100%|██████████| 100/100 [00:01<00:00, 67.25it/s]\n",
      "100%|██████████| 100/100 [00:01<00:00, 51.36it/s]\n",
      "100%|██████████| 100/100 [00:02<00:00, 45.68it/s]\n",
      "100%|██████████| 100/100 [00:03<00:00, 31.12it/s]\n",
      "100%|██████████| 100/100 [00:02<00:00, 38.35it/s]\n",
      "100%|██████████| 100/100 [00:02<00:00, 45.98it/s]\n",
      "100%|██████████| 100/100 [00:04<00:00, 20.15it/s]\n",
      "100%|██████████| 100/100 [00:02<00:00, 36.23it/s]\n",
      "100%|██████████| 100/100 [00:02<00:00, 39.76it/s]\n",
      "100%|██████████| 100/100 [00:04<00:00, 20.33it/s]\n",
      "100%|██████████| 48/48 [00:01<00:00, 35.07it/s]\n",
      "              precision    recall  f1-score   support\n",
      "\n",
      "       virus     0.8820    0.9898    0.9328       589\n",
      "        worm     0.9506    0.9963    0.9729       541\n",
      "      trojan     0.9713    0.8169    0.8874       415\n",
      "    backdoor     0.8868    0.8164    0.8501       403\n",
      "\n",
      "    accuracy                         0.9189      1948\n",
      "   macro avg     0.9227    0.9048    0.9108      1948\n",
      "weighted avg     0.9211    0.9189    0.9172      1948\n",
      "\n"
     ]
    }
   ],
   "source": [
    "# 测试数据\n",
    "from sklearn.metrics import classification_report\n",
    "from tensorflow import keras\n",
    "model = keras.models.load_model('../model/malconv_split.h5')\n",
    "# 批量预测数据\n",
    "batch_size = 100\n",
    "for idx in range(0, len(data_path_2), batch_size):\n",
    "    code_tmp, label_tmp = test_data_loader(data_path_2[idx:idx+batch_size], labels_2[idx:idx+batch_size])\n",
    "    y_pred_tmp = model.predict(code_tmp)\n",
    "    y_pred_tmp = np.argmax(y_pred_tmp, axis=1)\n",
    "    y_true_tmp = np.argmax(label_tmp, axis=1)\n",
    "    y_pred = y_pred_tmp if idx == 0 else np.concatenate((y_pred, y_pred_tmp), axis = 0)\n",
    "    y_true = y_true_tmp if idx == 0 else np.concatenate((y_true, y_true_tmp), axis = 0)\n",
    "target_names = {'trojan', 'virus', 'worm', 'backdoor'}\n",
    "\n",
    "print(classification_report(y_true, y_pred, target_names=target_names, digits=4))"
   ]
  },
  {
   "cell_type": "code",
   "execution_count": 15,
   "metadata": {},
   "outputs": [
    {
     "output_type": "stream",
     "name": "stderr",
     "text": [
      "100%|██████████| 100/100 [00:04<00:00, 22.61it/s]\n",
      "100%|██████████| 100/100 [00:03<00:00, 25.45it/s]\n",
      "100%|██████████| 100/100 [00:05<00:00, 19.00it/s]\n",
      "100%|██████████| 100/100 [00:03<00:00, 27.47it/s]\n",
      "100%|██████████| 100/100 [00:03<00:00, 29.13it/s]\n",
      "100%|██████████| 100/100 [00:03<00:00, 27.45it/s]\n",
      "100%|██████████| 100/100 [00:04<00:00, 23.72it/s]\n",
      "100%|██████████| 100/100 [00:03<00:00, 27.86it/s]\n",
      "100%|██████████| 100/100 [00:03<00:00, 30.38it/s]\n",
      "100%|██████████| 100/100 [00:02<00:00, 35.15it/s]\n",
      "100%|██████████| 100/100 [00:03<00:00, 31.48it/s]\n",
      "100%|██████████| 100/100 [00:03<00:00, 32.11it/s]\n",
      "100%|██████████| 100/100 [00:04<00:00, 24.90it/s]\n",
      "100%|██████████| 100/100 [00:02<00:00, 35.43it/s]\n",
      "100%|██████████| 100/100 [00:02<00:00, 37.35it/s]\n",
      "100%|██████████| 100/100 [00:02<00:00, 36.69it/s]\n",
      "100%|██████████| 100/100 [00:02<00:00, 39.93it/s]\n",
      "100%|██████████| 100/100 [00:03<00:00, 31.27it/s]\n",
      "100%|██████████| 100/100 [00:02<00:00, 36.39it/s]\n",
      "100%|██████████| 100/100 [00:02<00:00, 41.23it/s]\n",
      "100%|██████████| 94/94 [00:02<00:00, 36.54it/s]\n",
      "              precision    recall  f1-score   support\n",
      "\n",
      "       virus     0.8801    0.9421    0.9100       553\n",
      "        worm     0.9088    0.9814    0.9437       538\n",
      "      trojan     0.9509    0.8891    0.9190       523\n",
      "    backdoor     0.9722    0.8750    0.9211       480\n",
      "\n",
      "    accuracy                         0.9236      2094\n",
      "   macro avg     0.9280    0.9219    0.9234      2094\n",
      "weighted avg     0.9263    0.9236    0.9234      2094\n",
      "\n"
     ]
    }
   ],
   "source": [
    "# 2019年测试集\n",
    "# 批量预测数据\n",
    "batch_size = 100\n",
    "for idx in range(0, len(data_path_3), batch_size):\n",
    "    code_tmp, label_tmp = test_data_loader(data_path_3[idx:idx+batch_size], labels_3[idx:idx+batch_size])\n",
    "    y_pred_tmp = model.predict(code_tmp)\n",
    "    y_pred_tmp = np.argmax(y_pred_tmp, axis=1)\n",
    "    y_true_tmp = np.argmax(label_tmp, axis=1)\n",
    "    y_pred = y_pred_tmp if idx == 0 else np.concatenate((y_pred, y_pred_tmp), axis = 0)\n",
    "    y_true = y_true_tmp if idx == 0 else np.concatenate((y_true, y_true_tmp), axis = 0)\n",
    "\n",
    "target_names = {'trojan', 'virus', 'worm', 'backdoor'}\n",
    "print(classification_report(y_true, y_pred, target_names=target_names, digits=4))"
   ]
  },
  {
   "cell_type": "code",
   "execution_count": 17,
   "metadata": {},
   "outputs": [
    {
     "output_type": "stream",
     "name": "stderr",
     "text": [
      "100%|██████████| 100/100 [00:03<00:00, 25.84it/s]\n",
      "100%|██████████| 100/100 [00:04<00:00, 23.55it/s]\n",
      "100%|██████████| 100/100 [00:03<00:00, 27.13it/s]\n",
      "100%|██████████| 100/100 [00:03<00:00, 25.77it/s]\n",
      "100%|██████████| 100/100 [00:03<00:00, 29.38it/s]\n",
      "100%|██████████| 100/100 [00:03<00:00, 26.98it/s]\n",
      "100%|██████████| 100/100 [00:04<00:00, 24.63it/s]\n",
      "100%|██████████| 100/100 [00:04<00:00, 22.85it/s]\n",
      "100%|██████████| 100/100 [00:02<00:00, 33.67it/s]\n",
      "100%|██████████| 100/100 [00:03<00:00, 28.74it/s]\n",
      "100%|██████████| 100/100 [00:04<00:00, 22.67it/s]\n",
      "100%|██████████| 100/100 [00:04<00:00, 21.49it/s]\n",
      "100%|██████████| 100/100 [00:04<00:00, 20.39it/s]\n",
      "100%|██████████| 100/100 [00:04<00:00, 22.85it/s]\n",
      "100%|██████████| 100/100 [00:06<00:00, 16.01it/s]\n",
      "100%|██████████| 100/100 [00:07<00:00, 13.02it/s]\n",
      "100%|██████████| 100/100 [00:05<00:00, 16.75it/s]\n",
      "100%|██████████| 100/100 [00:05<00:00, 16.85it/s]\n",
      "100%|██████████| 100/100 [00:09<00:00, 10.77it/s]\n",
      "100%|██████████| 100/100 [00:07<00:00, 12.77it/s]\n",
      "100%|██████████| 100/100 [00:09<00:00, 10.39it/s]\n",
      "100%|██████████| 100/100 [00:07<00:00, 13.56it/s]\n",
      "100%|██████████| 100/100 [00:07<00:00, 14.15it/s]\n",
      "100%|██████████| 100/100 [00:06<00:00, 15.55it/s]\n",
      "100%|██████████| 100/100 [00:04<00:00, 21.03it/s]\n",
      "100%|██████████| 100/100 [00:03<00:00, 31.99it/s]\n",
      "100%|██████████| 100/100 [00:03<00:00, 30.67it/s]\n",
      "100%|██████████| 100/100 [00:03<00:00, 29.68it/s]\n",
      "100%|██████████| 100/100 [00:03<00:00, 30.58it/s]\n",
      "100%|██████████| 100/100 [00:03<00:00, 26.06it/s]\n",
      "100%|██████████| 100/100 [00:03<00:00, 25.22it/s]\n",
      "100%|██████████| 100/100 [00:05<00:00, 19.10it/s]\n",
      "100%|██████████| 100/100 [00:04<00:00, 24.32it/s]\n",
      "100%|██████████| 100/100 [00:04<00:00, 21.44it/s]\n",
      "100%|██████████| 100/100 [00:04<00:00, 22.48it/s]\n",
      "100%|██████████| 100/100 [00:04<00:00, 22.00it/s]\n",
      "100%|██████████| 100/100 [00:04<00:00, 23.98it/s]\n",
      "100%|██████████| 100/100 [00:04<00:00, 22.69it/s]\n",
      "100%|██████████| 100/100 [00:04<00:00, 22.45it/s]\n",
      "100%|██████████| 100/100 [00:04<00:00, 24.54it/s]\n",
      "100%|██████████| 100/100 [00:04<00:00, 24.64it/s]\n",
      "100%|██████████| 100/100 [00:05<00:00, 19.87it/s]\n",
      "100%|██████████| 100/100 [00:03<00:00, 26.57it/s]\n",
      "100%|██████████| 100/100 [00:04<00:00, 21.88it/s]\n",
      "100%|██████████| 100/100 [00:03<00:00, 26.52it/s]\n",
      "100%|██████████| 100/100 [00:04<00:00, 21.40it/s]\n",
      "100%|██████████| 100/100 [00:07<00:00, 13.88it/s]\n",
      "100%|██████████| 100/100 [00:06<00:00, 16.31it/s]\n",
      "100%|██████████| 100/100 [00:06<00:00, 15.01it/s]\n",
      "100%|██████████| 100/100 [00:05<00:00, 17.24it/s]\n",
      "100%|██████████| 100/100 [00:04<00:00, 24.70it/s]\n",
      "100%|██████████| 100/100 [00:04<00:00, 21.29it/s]\n",
      "100%|██████████| 100/100 [00:04<00:00, 21.37it/s]\n",
      "100%|██████████| 100/100 [00:04<00:00, 24.03it/s]\n",
      "100%|██████████| 100/100 [00:04<00:00, 21.69it/s]\n",
      "100%|██████████| 100/100 [00:04<00:00, 24.52it/s]\n",
      "100%|██████████| 100/100 [00:03<00:00, 29.97it/s]\n",
      "100%|██████████| 100/100 [00:03<00:00, 28.93it/s]\n",
      "100%|██████████| 100/100 [00:03<00:00, 30.79it/s]\n",
      "100%|██████████| 100/100 [00:03<00:00, 27.24it/s]\n",
      "100%|██████████| 100/100 [00:03<00:00, 28.30it/s]\n",
      "100%|██████████| 100/100 [00:03<00:00, 31.33it/s]\n",
      "100%|██████████| 100/100 [00:03<00:00, 29.90it/s]\n",
      "100%|██████████| 100/100 [00:03<00:00, 27.02it/s]\n",
      "100%|██████████| 100/100 [00:03<00:00, 28.16it/s]\n",
      "100%|██████████| 100/100 [00:03<00:00, 27.31it/s]\n",
      "100%|██████████| 100/100 [00:02<00:00, 35.62it/s]\n",
      "100%|██████████| 100/100 [00:03<00:00, 25.33it/s]\n",
      "100%|██████████| 100/100 [00:03<00:00, 29.71it/s]\n",
      "100%|██████████| 29/29 [00:01<00:00, 19.76it/s]\n",
      "              precision    recall  f1-score   support\n",
      "\n",
      "       virus   1.000000  0.999439  0.999719      1783\n",
      "        worm   0.998928  0.999464  0.999196      1865\n",
      "      trojan   0.998947  0.998947  0.998947      1900\n",
      "    backdoor   1.000000  1.000000  1.000000      1381\n",
      "\n",
      "    accuracy                       0.999423      6929\n",
      "   macro avg   0.999469  0.999463  0.999466      6929\n",
      "weighted avg   0.999423  0.999423  0.999423      6929\n",
      "\n"
     ]
    }
   ],
   "source": [
    "# 训练数据\n",
    "from sklearn.metrics import classification_report\n",
    "from tensorflow import keras\n",
    "model = keras.models.load_model('../model/malconv_split.h5')\n",
    "\n",
    "# 批量预测数据\n",
    "batch_size = 100\n",
    "for idx in range(0, len(data_path_1), batch_size):\n",
    "    code_tmp, label_tmp = test_data_loader(data_path_1[idx:idx+batch_size], labels_1[idx:idx+batch_size])\n",
    "    y_pred_tmp = model.predict(code_tmp)\n",
    "    y_pred_tmp = np.argmax(y_pred_tmp, axis=1)\n",
    "    y_true_tmp = np.argmax(label_tmp, axis=1)\n",
    "    y_pred = y_pred_tmp if idx == 0 else np.concatenate((y_pred, y_pred_tmp), axis = 0)\n",
    "    y_true = y_true_tmp if idx == 0 else np.concatenate((y_true, y_true_tmp), axis = 0)\n",
    "\n",
    "# codes_train, labels_train = train_data_loader(data_path_１, labels_１, 'train')\n",
    "# y_pred = model.predict(codes_train)\n",
    "# y_pred = np.argmax(y_pred, axis=1)\n",
    "# y_true = np.argmax(labels_train, axis=1)\n",
    "target_names = {'trojan', 'virus', 'worm', 'backdoor'}\n",
    "print(classification_report(y_true, y_pred, target_names=target_names, digits=6))"
   ]
  },
  {
   "cell_type": "code",
   "execution_count": null,
   "metadata": {},
   "outputs": [],
   "source": []
  }
 ],
 "metadata": {
  "kernelspec": {
   "name": "python388jvsc74a57bd0d8e1a1fcec363f1a5f290fc0ebbcefa1e3a93960ec6d03d7b21ddb10ba87d178",
   "display_name": "Python 3.8.8 64-bit ('tf2-gpu': conda)"
  },
  "language_info": {
   "codemirror_mode": {
    "name": "ipython",
    "version": 3
   },
   "file_extension": ".py",
   "mimetype": "text/x-python",
   "name": "python",
   "nbconvert_exporter": "python",
   "pygments_lexer": "ipython3",
   "version": "3.8.8-final"
  },
  "metadata": {
   "interpreter": {
    "hash": "d8e1a1fcec363f1a5f290fc0ebbcefa1e3a93960ec6d03d7b21ddb10ba87d178"
   }
  }
 },
 "nbformat": 4,
 "nbformat_minor": 4
}