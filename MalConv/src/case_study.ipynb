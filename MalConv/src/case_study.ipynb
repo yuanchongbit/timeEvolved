{
 "cells": [
  {
   "cell_type": "markdown",
   "metadata": {},
   "source": [
    "## 进行实例化分析"
   ]
  },
  {
   "cell_type": "code",
   "execution_count": 2,
   "metadata": {},
   "outputs": [],
   "source": [
    "import pandas as pd\n",
    "\n",
    "data_csv = pd.read_csv('data_test_1.csv')"
   ]
  },
  {
   "cell_type": "code",
   "execution_count": 5,
   "metadata": {},
   "outputs": [
    {
     "name": "stdout",
     "output_type": "stream",
     "text": [
      "(499, 11) (562, 11) (623, 11) (409, 11)\n"
     ]
    }
   ],
   "source": [
    "data_backdoor = data_csv[data_csv['label']=='backdoor']\n",
    "data_virus = data_csv[data_csv['label']=='virus']\n",
    "data_trojan = data_csv[data_csv['label']=='trojan']\n",
    "data_worm = data_csv[data_csv['label']=='worm']\n",
    "print(data_backdoor.shape, data_virus.shape, data_trojan.shape, data_worm.shape)"
   ]
  },
  {
   "cell_type": "code",
   "execution_count": 6,
   "metadata": {},
   "outputs": [],
   "source": [
    "import numpy\n",
    "from PIL import Image\n",
    "import binascii\n",
    "def getMatrixfrom_bin(filename,width):\n",
    "    with open(filename, 'rb') as f:\n",
    "        content = f.read()\n",
    "    hexst = binascii.hexlify(content)  #将二进制文件转换为十六进制字符串\n",
    "    fh = numpy.array([int(hexst[i:i+2],16) for i in range(0, len(hexst), 2)])  #按字节分割\n",
    "    rn = len(fh)/width\n",
    "    fh = numpy.reshape(fh[:rn*width],(-1,width))  #根据设定的宽度生成矩阵\n",
    "    fh = numpy.uint8(fh)\n",
    "    return fn"
   ]
  },
  {
   "cell_type": "code",
   "execution_count": null,
   "metadata": {},
   "outputs": [],
   "source": [
    "backdoor_id = data"
   ]
  }
 ],
 "metadata": {
  "kernelspec": {
   "display_name": "Python 3",
   "language": "python",
   "name": "python3"
  },
  "language_info": {
   "codemirror_mode": {
    "name": "ipython",
    "version": 3
   },
   "file_extension": ".py",
   "mimetype": "text/x-python",
   "name": "python",
   "nbconvert_exporter": "python",
   "pygments_lexer": "ipython3",
   "version": "3.7.3"
  }
 },
 "nbformat": 4,
 "nbformat_minor": 4
}
