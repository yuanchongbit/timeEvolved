{
 "cells": [
  {
   "cell_type": "code",
   "execution_count": 1,
   "metadata": {},
   "outputs": [
    {
     "data": {
      "text/plain": [
       "'2.0.0'"
      ]
     },
     "execution_count": 1,
     "metadata": {},
     "output_type": "execute_result"
    }
   ],
   "source": [
    "import os\n",
    "import pandas as pd\n",
    "import numpy as np\n",
    "import tensorflow as tf\n",
    "from tqdm import tqdm\n",
    "from tensorflow import keras\n",
    "from tensorflow.keras import Model\n",
    "from tensorflow.keras import layers, optimizers, Sequential, metrics\n",
    "\n",
    "tf.__version__"
   ]
  },
  {
   "cell_type": "code",
   "execution_count": 2,
   "metadata": {},
   "outputs": [],
   "source": [
    "# 将2018年的数据作进一步拆分\n",
    "\n",
    "def judge_1(time):\n",
    "    time = time[:7].replace('-', '')\n",
    "    if time <= '201803':\n",
    "        return True\n",
    "    else:\n",
    "        return False\n",
    "\n",
    "def judge_2(time):\n",
    "    time = time[:7].replace('-', '')\n",
    "    if time > '201803':\n",
    "        return True\n",
    "    else:\n",
    "        return False\n",
    "\n",
    "    \n",
    "data_csv = pd.read_csv('../../../csv/dataset.csv')\n",
    "data_2017 = data_csv[data_csv['first_seen'].apply(lambda x: x[:4]) == '2017']\n",
    "data_2018 = data_csv[data_csv['first_seen'].apply(lambda x: x[:4]) == '2018']\n",
    "data_2019 = data_csv[data_csv['first_seen'].apply(lambda x: x[:4]) == '2019']\n",
    "data_2018_1 = data_2018[data_2018['first_seen'].apply(judge_1)]\n",
    "data_2018_2 = data_2018[data_2018['first_seen'].apply(judge_2)]\n",
    "\n",
    "data_train = data_2017\n",
    "data_train = data_train.sample(frac=1, random_state=1).reset_index(drop=True)"
   ]
  },
  {
   "cell_type": "code",
   "execution_count": 3,
   "metadata": {},
   "outputs": [],
   "source": [
    "name2label = {'trojan':0, 'virus':1, 'worm':2, 'backdoor':3}\n",
    "\n",
    "# 训练数据\n",
    "codes_train = data_train['name'].to_list()\n",
    "labels_train = data_train['label'].map(lambda x: name2label[x])\n",
    "labels_train = labels_train.to_list()"
   ]
  },
  {
   "cell_type": "code",
   "execution_count": 4,
   "metadata": {},
   "outputs": [],
   "source": [
    "def pad_data(res, max_len=200000):\n",
    "    \n",
    "    length = len(res)\n",
    "    if length > max_len:\n",
    "        return res[ :max_len]\n",
    "    elif length < max_len:\n",
    "        return res + [0]*(max_len-length)\n",
    "    return res\n",
    "\n",
    "\n",
    "def load_data(codes, labels, mode):\n",
    "    \n",
    "    if mode == 'train':    \n",
    "        codes = codes[: 3000]\n",
    "        labels = labels[: 3000]\n",
    "    elif mode == 'val':    \n",
    "        codes = codes[3000: ]\n",
    "        labels = labels[3000: ]\n",
    "    \n",
    "    labels = np.eye(4)[labels]\n",
    "    for idx in range(len(codes)):\n",
    "        fn = codes[idx]\n",
    "        fn = bytes.decode(fn)\n",
    "        fn = '../../../dataset/' + fn[8: ]\n",
    "        if not os.path.isfile(fn):\n",
    "            print(fn, 'not exist')\n",
    "        else:\n",
    "            with open(fn, 'rb') as f:\n",
    "                res = f.read()\n",
    "                res = [byte for byte in res]\n",
    "                res = pad_data(res)\n",
    "                yield res, labels[idx]\n",
    "\n",
    "                \n",
    "def load_test_data(codes, labels):\n",
    "    \n",
    "    for idx in range(len(codes)):\n",
    "        fn = codes[idx]\n",
    "        fn = bytes.decode(fn)\n",
    "        fn = '../../../dataset/' + fn[8: ]\n",
    "        if not os.path.isfile(fn):\n",
    "            print(fn, 'not exist')\n",
    "        else:\n",
    "            with open(fn, 'rb') as f:\n",
    "                res = f.read()\n",
    "                res = [byte for byte in res]\n",
    "                res = pad_data(res)\n",
    "                yield res, labels[idx]\n",
    "                \n",
    "                \n",
    "def load_val_data(codes, labels):\n",
    "    \n",
    "    res_all = []\n",
    "    for idx in tqdm(range(len(codes))):\n",
    "        fn = codes[idx]\n",
    "        fn = '../../../dataset/' + fn[8: ]\n",
    "        if not os.path.isfile(fn):\n",
    "            print(fn, 'not exist')\n",
    "        else:\n",
    "            with open(fn, 'rb') as f:\n",
    "                res = f.read()\n",
    "                res = [byte for byte in res]\n",
    "                res = pad_data(res)\n",
    "                res_all.append(res)\n",
    "    return np.array(res_all), labels"
   ]
  },
  {
   "cell_type": "code",
   "execution_count": 5,
   "metadata": {},
   "outputs": [],
   "source": [
    "# 定义网络结构\n",
    "from tensorflow.keras import Input, Model, regularizers\n",
    "from tensorflow import keras\n",
    "\n",
    "\n",
    "max_len = 200000\n",
    "win_size = 500\n",
    "\n",
    "x = Input((max_len,))\n",
    "emb = layers.Embedding(256, 8)(x)\n",
    "conv1 = layers.Conv1D(kernel_size\n",
    "                      =(win_size), filters=128, strides=(win_size), padding='same')(emb)\n",
    "conv2 = layers.Conv1D(kernel_size=(win_size), filters=128, strides=(win_size), padding='same')(emb)\n",
    "a = layers.Activation('sigmoid', name='sigmoid')(conv2)\n",
    "mul = layers.multiply([conv1, a])\n",
    "a = layers.Activation('relu', name='relu')(mul)\n",
    "p = layers.GlobalMaxPool1D()(a)\n",
    "d = layers.Dense(64, activation='relu', kernel_regularizer=regularizers.l2(0.01),\n",
    "                activity_regularizer=regularizers.l1(0.01))(p)\n",
    "# out1 = layers.Dense(4, activation='softmax')(d)\n",
    "# out2 = layers.Dense(4, activation='softmax')(d)\n",
    "# model = Model(inputs=x, outputs=[out1, out2])\n",
    "out = layers.Dense(4, activation=None)(d)\n",
    "model = Model(inputs=x, outputs=out)"
   ]
  },
  {
   "cell_type": "code",
   "execution_count": null,
   "metadata": {},
   "outputs": [
    {
     "name": "stdout",
     "output_type": "stream",
     "text": [
      "Train for 3 steps\n",
      "Epoch 1/5\n",
      "2/3 [===================>..........] - ETA: 23s - loss: 2.2415 - categorical_accuracy: 0.3789"
     ]
    }
   ],
   "source": [
    "batch_size = 128\n",
    "db_train = tf.data.Dataset.from_generator(load_data, args=[codes_train, labels_train, 'train'], \n",
    "                                          output_types=(tf.float32, tf.int32), output_shapes=((None,), (4, )))\n",
    "db_train = db_train.batch(batch_size).repeat(8)\n",
    "\n",
    "db_val = tf.data.Dataset.from_generator(load_data, args=[codes_train, labels_train, 'val'], \n",
    "                                          output_types=(tf.float32, tf.int32), output_shapes=((None,), (4, )))\n",
    "db_val = db_val.batch(batch_size).repeat(8)\n",
    "\n",
    "model.compile(optimizer=keras.optimizers.Adam(),\n",
    "             loss=keras.losses.CategoricalCrossentropy(from_logits=True),\n",
    "             metrics=[keras.metrics.CategoricalAccuracy()])\n",
    "\n",
    "history = model.fit(db_train,\n",
    "                    epochs=5,\n",
    "                    steps_per_epoch=3,\n",
    "                    validation_data=db_val)"
   ]
  },
  {
   "cell_type": "code",
   "execution_count": null,
   "metadata": {},
   "outputs": [],
   "source": [
    "# 自定义损失函数\n",
    "from tensorflow.keras import backend as K\n",
    "\n",
    "class discrepancyloss(keras.losses.Loss):\n",
    "    \n",
    "    def __init__(self, reduction=keras.losses.Reduction.NONE, name='discrepancyLoss'):\n",
    "        \n",
    "        super().__init__(reduction=reduction, name=name)\n",
    "    \n",
    "    def call(self, out, _):\n",
    "        \n",
    "        max_ = K.max(out, axis=1)\n",
    "        min_ = K.min(out, axis=1)\n",
    "        \n",
    "        return K.mean(1 - K.abs(max_-min_))"
   ]
  },
  {
   "cell_type": "code",
   "execution_count": 8,
   "metadata": {},
   "outputs": [
    {
     "name": "stderr",
     "output_type": "stream",
     "text": [
      "100%|██████████████████████████████████████████████████████████████████████████████| 1048/1048 [00:34<00:00, 30.70it/s]\n"
     ]
    }
   ],
   "source": [
    "# 准备数据集\n",
    "\n",
    "ood2label = {True: 0, False: 1}\n",
    "data_test_1 = pd.read_csv('data_test_1.csv')\n",
    "codes_test_1 = data_test_1['name'].to_list()\n",
    "labels_test_1 = data_test_1['ID'].map(lambda x: ood2label[x])\n",
    "labels_test_1 = labels_test_1.to_list()\n",
    "\n",
    "batch_size = 128\n",
    "sup_train = tf.data.Dataset.from_generator(load_data, args=[codes_train, labels_train, 'train'], \n",
    "                                          output_types=(tf.float32, tf.int32), output_shapes=((None,), (4, )))\n",
    "sup_train = sup_train.batch(batch_size)\n",
    "\n",
    "# unsup_train = tf.data.Dataset.from_generator(load_test_data, args=[codes_test_1, labels_test_1], \n",
    "#                                           output_types=(tf.float32, tf.int32), output_shapes=((None,), ()))\n",
    "# unsup_train = unsup_train.batch(batch_size)\n",
    "\n",
    "codes_val, labels_val = load_val_data(codes_test_1, labels_test_1)"
   ]
  },
  {
   "cell_type": "code",
   "execution_count": null,
   "metadata": {},
   "outputs": [
    {
     "name": "stderr",
     "output_type": "stream",
     "text": [
      "Setting up a new session...\n"
     ]
    },
    {
     "name": "stdout",
     "output_type": "stream",
     "text": [
      ">> Fine-tune a Model.\n",
      "Start of epoch 0 step 0\n",
      "Start of epoch 0 step 1\n",
      "Start of epoch 0 step 2\n",
      "Start of epoch 0 step 3\n",
      "Start of epoch 0 step 4\n",
      "Start of epoch 0 step 5\n",
      "Start of epoch 0 step 6\n",
      "Start of epoch 0 step 7\n"
     ]
    }
   ],
   "source": [
    "# 开始训练\n",
    "import visdom\n",
    "from evaluate import evaluate\n",
    "\n",
    "optimizer = keras.optimizers.Adam(learning_rate=0.001)\n",
    "loss_sup = keras.losses.CategoricalCrossentropy()\n",
    "loss_av = discrepancyloss()\n",
    "vis = visdom.Visdom(server='http://localhost')\n",
    "\n",
    "print('>> Fine-tune a Model.')\n",
    "best_roc = 0.0\n",
    "num_epochs = 10\n",
    "iters = 0\n",
    "plot_data = {'X': [], 'Y': [], 'legend': ['Sup. Loss', 'Av. Loss', 'Tot. Loss']}\n",
    "for epoch in range(num_epochs):\n",
    "    for step, batch in enumerate(sup_train):\n",
    "        \n",
    "        print('Start of epoch %d step %d' % (epoch,step))\n",
    "        x_batch_train, y_batch_train = batch\n",
    "        with tf.GradientTape() as tape:\n",
    "            out = model(x_batch_train)\n",
    "            loss_sup_value = loss_sup(y_batch_train, out)\n",
    "            loss_av_value = loss_av(out, _)\n",
    "            loss_value = loss_sup_value + loss_av_value\n",
    "        grads = tape.gradient(loss_value, model.trainable_weights)\n",
    "        optimizer.apply_gradients(zip(grads, model.trainable_weights))\n",
    "\n",
    "        # 可视化\n",
    "        if step % 2 == 0:\n",
    "            \n",
    "            loss_sup_value = loss_sup_value.numpy()\n",
    "            loss_unsup_value = loss_av_value.numpy()\n",
    "            loss_value = loss_value.numpy()\n",
    "            \n",
    "            plot_data['X'].append(iters)\n",
    "            plot_data['Y'].append([\n",
    "                loss_sup_value, loss_av_value, loss_value])\n",
    "            vis.line(\n",
    "                X=np.stack([np.array(plot_data['X'])] * len(plot_data['legend']), 1),\n",
    "                Y=np.array(plot_data['Y']),\n",
    "                opts={\n",
    "                    'title': 'Loss over Time',\n",
    "                    'legend': plot_data['legend'],\n",
    "                    'xlabel': 'Iterations',\n",
    "                    'ylabel': 'Loss',\n",
    "                    'width': 1200,\n",
    "                    'height': 390,\n",
    "                },\n",
    "                win=2\n",
    "            )\n",
    "        iters += 1\n",
    "            \n",
    "    # 进行验证\n",
    "    from sklearn import metrics\n",
    "    out_val = model.predict(codes_val)\n",
    "    labels = np.array(labels_val)\n",
    "    dists = np.max(out_val, axis=1).reshape((labels.shape[0], ))\n",
    "    auc = metrics.roc_auc_score(labels, dists)\n",
    "    print('Epoch{} AUROC: {:.3f}'.format(epoch, auc))\n",
    "    if best_auc < auc:\n",
    "        best_auc = auc\n",
    "        model.save_weights('./out/malconv_2.h5')\n",
    "        print('Model saved.')\n",
    "print('>> Finished.')"
   ]
  }
 ],
 "metadata": {
  "kernelspec": {
   "display_name": "Python 3",
   "language": "python",
   "name": "python3"
  },
  "language_info": {
   "codemirror_mode": {
    "name": "ipython",
    "version": 3
   },
   "file_extension": ".py",
   "mimetype": "text/x-python",
   "name": "python",
   "nbconvert_exporter": "python",
   "pygments_lexer": "ipython3",
   "version": "3.7.4"
  }
 },
 "nbformat": 4,
 "nbformat_minor": 4
}
