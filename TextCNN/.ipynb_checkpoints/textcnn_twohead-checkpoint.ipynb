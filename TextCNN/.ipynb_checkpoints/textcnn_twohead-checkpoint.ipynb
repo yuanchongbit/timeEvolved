{
 "cells": [
  {
   "cell_type": "markdown",
   "metadata": {},
   "source": [
    "## 构建Two-Head网络对OCSVM进行改进"
   ]
  },
  {
   "cell_type": "code",
   "execution_count": 1,
   "metadata": {},
   "outputs": [],
   "source": [
    "import pandas as pd\n",
    "import os\n",
    "import numpy as np\n",
    "import tensorflow as tf\n",
    "from tqdm import tqdm\n",
    "\n",
    "os.environ['TF_CPP_MIN_LOG_LEVEL'] = '2'"
   ]
  },
  {
   "cell_type": "code",
   "execution_count": 2,
   "metadata": {},
   "outputs": [
    {
     "name": "stdout",
     "output_type": "stream",
     "text": [
      "(6104, 5) (2642, 5) (3656, 5)\n"
     ]
    }
   ],
   "source": [
    "# 加载数据\n",
    "def judge_1(time):\n",
    "    time = time[:7].replace('-', '')\n",
    "    if time <= '201803':\n",
    "        return True\n",
    "    else:\n",
    "        return False\n",
    "\n",
    "def judge_2(time):\n",
    "    time = time[:7].replace('-', '')\n",
    "    if time > '201803':\n",
    "        return True\n",
    "    else:\n",
    "        return False\n",
    "\n",
    "name2label = {'trojan':0, 'virus':1, 'worm':2, 'backdoor':3}\n",
    "data_csv = pd.read_csv('res_handle.csv')\n",
    "data_2017 = data_csv[data_csv['first_seen'].apply(lambda x: x[:4]) == '2017']\n",
    "data_2018 = data_csv[data_csv['first_seen'].apply(lambda x: x[:4]) == '2018']\n",
    "data_2019 = data_csv[data_csv['first_seen'].apply(lambda x: x[:4]) == '2019']\n",
    "    \n",
    "data_2018_1 = data_2018[data_2018['first_seen'].apply(judge_1)]\n",
    "data_2018_2 = data_2018[data_2018['first_seen'].apply(judge_2)]\n",
    "\n",
    "data_train = data_2017.append(data_2018_１)\n",
    "data_test_1 = data_2018_２\n",
    "data_test_2 = data_2019\n",
    "print(data_train.shape, data_test_1.shape, data_test_2.shape)"
   ]
  },
  {
   "cell_type": "code",
   "execution_count": 3,
   "metadata": {},
   "outputs": [
    {
     "name": "stdout",
     "output_type": "stream",
     "text": [
      "(6104, 5) (1849, 5) (1828, 5)\n"
     ]
    }
   ],
   "source": [
    "# 对测试集进行下采样\n",
    "data_train = data_train.sample(frac=1, random_state=1).reset_index(drop=True)\n",
    "data_test_1 = data_test_1.sample(frac=0.7, random_state=1).reset_index(drop=True)\n",
    "data_test_2 = data_test_2.sample(frac=0.5, random_state=1).reset_index(drop=True)\n",
    "print(data_train.shape, data_test_1.shape, data_test_2.shape)"
   ]
  },
  {
   "cell_type": "code",
   "execution_count": 4,
   "metadata": {},
   "outputs": [],
   "source": [
    "from utils import path_loader\n",
    "data_path_1, labels_1 = path_loader(data_train)"
   ]
  },
  {
   "cell_type": "code",
   "execution_count": 5,
   "metadata": {},
   "outputs": [
    {
     "name": "stderr",
     "output_type": "stream",
     "text": [
      "100%|██████████| 12402/12402 [00:06<00:00, 1903.66it/s]\n"
     ]
    },
    {
     "data": {
      "text/plain": [
       "641"
      ]
     },
     "execution_count": 5,
     "metadata": {},
     "output_type": "execute_result"
    }
   ],
   "source": [
    "# 利用labelencoder构建opcode编码器\n",
    "\n",
    "from sklearn import preprocessing\n",
    "from tqdm import tqdm\n",
    "\n",
    "opcode_all = []\n",
    "for idx in tqdm(range(data_csv.shape[0])):\n",
    "    opcode_str = data_csv.at[idx, 'opcode'].split()\n",
    "    opcode_all += opcode_str\n",
    "    opcode_all = list(set(opcode_all))\n",
    "\n",
    "le = preprocessing.LabelEncoder()\n",
    "le.fit(opcode_all)\n",
    "len(list(le.classes_))"
   ]
  },
  {
   "cell_type": "code",
   "execution_count": 6,
   "metadata": {},
   "outputs": [],
   "source": [
    "# 创建TextCNN类\n",
    "from tensorflow import keras\n",
    "from tensorflow.keras import Input, Model, regularizers\n",
    "from tensorflow.keras.callbacks import EarlyStopping\n",
    "from tensorflow.keras.layers import Embedding, Dense, Conv1D, GlobalMaxPooling1D, Concatenate, Dropout\n",
    "\n",
    "class TextCNN(object):\n",
    "    def __init__(self, maxlen, max_features, embedding_dims,\n",
    "                 class_num=4,\n",
    "                 last_activation=None):\n",
    "        self.maxlen = maxlen\n",
    "        self.max_features = max_features\n",
    "        self.embedding_dims = embedding_dims\n",
    "        self.class_num = class_num\n",
    "        self.last_activation = last_activation\n",
    "\n",
    "    def get_model(self):\n",
    "        input = Input((self.maxlen,))\n",
    "\n",
    "        # Embedding part can try multichannel as same as origin paper\n",
    "        embedding = Embedding(self.max_features, self.embedding_dims, input_length=self.maxlen)(input)\n",
    "        convs = []\n",
    "        for kernel_size in [2, 3, 4, 5]:\n",
    "            c = Conv1D(128, kernel_size, activation='relu')(embedding)\n",
    "            c = GlobalMaxPooling1D()(c)\n",
    "            convs.append(c)\n",
    "        x = Concatenate()(convs)\n",
    "        d_1 = Dense(128, activation='relu', kernel_regularizer=regularizers.l2(0.01),\n",
    "                activity_regularizer=regularizers.l1(0.01))(x)\n",
    "        d_2 = Dense(64, activation='relu', kernel_regularizer=regularizers.l2(0.01),\n",
    "                activity_regularizer=regularizers.l1(0.01))(d_1)\n",
    "\n",
    "        output_1 = Dense(self.class_num, activation=self.last_activation)(d_2)\n",
    "        output_2 = Dense(self.class_num, activation=self.last_activation)(d_2)\n",
    "        model = Model(inputs=input, outputs=[output_1, output_2])\n",
    "        return model"
   ]
  },
  {
   "cell_type": "code",
   "execution_count": 7,
   "metadata": {},
   "outputs": [],
   "source": [
    "def pad_data(res, max_len=2850):\n",
    "    length = len(res)\n",
    "    if length > max_len:\n",
    "        return res[ :max_len]\n",
    "    elif length < max_len:\n",
    "        return res + [0]*(max_len-length)\n",
    "    return res\n",
    "\n",
    "\n",
    "def train_data_generator(codes, labels, mode):\n",
    "    \n",
    "    if mode == 'train':    \n",
    "        codes = codes[: 5100]\n",
    "        labels = labels[: 5100]\n",
    "    elif mode == 'val':    \n",
    "        codes = codes[5100: ]\n",
    "        labels = labels[5100: ]\n",
    "\n",
    "    labels_res = np.eye(4)[labels]\n",
    "    for idx in range(len(codes)):\n",
    "        fn = codes[idx]\n",
    "        fn = bytes.decode(fn)\n",
    "        op_string = data_csv[data_csv.name == fn]\n",
    "        if len(op_string) == 0:\n",
    "            print('null')\n",
    "            continue\n",
    "        op_string = op_string.iloc[0, 1].split()\n",
    "        res = list(le.transform(op_string))\n",
    "        res = pad_data(res)\n",
    "        yield res, labels_res[idx]\n",
    "        \n",
    "        \n",
    "def train_data_loader(codes, labels, mode):\n",
    "    \n",
    "    if mode == 'train':    \n",
    "        codes = codes[: 5100]\n",
    "        labels = labels[: 5100]\n",
    "    elif mode == 'val':    \n",
    "        codes = codes[5100: ]\n",
    "        labels = labels[5100: ]\n",
    "    \n",
    "    labels_res = np.eye(4)[labels]\n",
    "    res_all = []\n",
    "    for idx in tqdm(range(len(codes))):\n",
    "        fn = codes[idx]\n",
    "        op_string = data_csv[data_csv.name == fn]\n",
    "        op_string = op_string.iloc[0, 1].split()\n",
    "        res = list(le.transform(op_string))\n",
    "        res = pad_data(res)\n",
    "        res_all.append(res)\n",
    "    return np.array(res_all), labels_res\n",
    "\n",
    "\n",
    "def codes_loader(codes):\n",
    "    \n",
    "    res_all = []\n",
    "    for idx in tqdm(range(len(codes))):\n",
    "        fn = codes[idx]\n",
    "        op_string = data_csv[data_csv.name == fn]\n",
    "        op_string = op_string.iloc[0, 1].split()\n",
    "        res = list(le.transform(op_string))\n",
    "        res = pad_data(res)\n",
    "        res_all.append(res)\n",
    "    return np.array(res_all)\n",
    "\n",
    "\n",
    "def codes_generator(codes):\n",
    "    \n",
    "    for idx in range(len(codes)):\n",
    "        fn = codes[idx]\n",
    "        fn = bytes.decode(fn)\n",
    "        op_string = data_csv[data_csv.name == fn]\n",
    "        if len(op_string) == 0:\n",
    "            print('null')\n",
    "            continue\n",
    "        op_string = op_string.iloc[0, 1].split()\n",
    "        res = list(le.transform(op_string))\n",
    "        res = pad_data(res)\n",
    "        yield res\n",
    "        \n",
    "        \n",
    "def svmdata_generator(codes, labels, mode):\n",
    "    \n",
    "    if mode == 'train':    \n",
    "        codes = codes[: 522]\n",
    "        labels = labels[: 522]\n",
    "    elif mode == 'val':    \n",
    "        codes = codes[522: 1000]\n",
    "        labels = labels[522: 1000]\n",
    "    \n",
    "    labels_res = np.eye(4)[labels]\n",
    "    for idx in range(len(codes)):\n",
    "        fn = codes[idx]\n",
    "        fn = bytes.decode(fn)\n",
    "        op_string = data_csv[data_csv.name == fn]\n",
    "        if len(op_string) == 0:\n",
    "            print('null')\n",
    "            continue\n",
    "        op_string = op_string.iloc[0, 1].split()\n",
    "        res = list(le.transform(op_string))\n",
    "        res = pad_data(res)\n",
    "        yield res, labels_res[idx]"
   ]
  },
  {
   "cell_type": "code",
   "execution_count": 8,
   "metadata": {},
   "outputs": [
    {
     "name": "stdout",
     "output_type": "stream",
     "text": [
      "Start of epoch 0\n",
      "Training loss (for one batch) at step 0: 2.7705376148223877\n",
      "Training loss (for one batch) at step 10: 2.726393461227417\n",
      "Training loss (for one batch) at step 20: 2.6048378944396973\n",
      "Training loss (for one batch) at step 30: 2.243455648422241\n",
      "Training loss (for one batch) at step 40: 1.9515323638916016\n",
      "Training acc over epoch: 0.4785386621952057 0.5424311757087708\n",
      "Validation acc: 0.7154325246810913 0.7396789193153381\n",
      "Start of epoch 1\n",
      "Training loss (for one batch) at step 0: 1.4997968673706055\n",
      "Training loss (for one batch) at step 10: 1.638987421989441\n",
      "Training loss (for one batch) at step 20: 1.2217605113983154\n",
      "Training loss (for one batch) at step 30: 0.7607173919677734\n",
      "Training loss (for one batch) at step 40: 0.8473590016365051\n",
      "Training acc over epoch: 0.8202818036079407 0.8288007974624634\n",
      "Validation acc: 0.8768020868301392 0.8789318203926086\n",
      "Start of epoch 2\n",
      "Training loss (for one batch) at step 0: 0.6484870314598083\n",
      "Training loss (for one batch) at step 10: 0.8944337368011475\n",
      "Training loss (for one batch) at step 20: 0.6235805749893188\n",
      "Training loss (for one batch) at step 30: 0.34384405612945557\n",
      "Training loss (for one batch) at step 40: 0.481971800327301\n",
      "Training acc over epoch: 0.9174311757087708 0.918250322341919\n",
      "Validation acc: 0.9359436631202698 0.9392201900482178\n",
      "Start of epoch 3\n",
      "Training loss (for one batch) at step 0: 0.3478716015815735\n",
      "Training loss (for one batch) at step 10: 0.5263954401016235\n",
      "Training loss (for one batch) at step 20: 0.4083530306816101\n",
      "Training loss (for one batch) at step 30: 0.22379997372627258\n",
      "Training loss (for one batch) at step 40: 0.3323311507701874\n",
      "Training acc over epoch: 0.9411861300468445 0.9421690702438354\n",
      "Validation acc: 0.9469200372695923 0.9501965641975403\n",
      "Start of epoch 4\n",
      "Training loss (for one batch) at step 0: 0.25921526551246643\n",
      "Training loss (for one batch) at step 10: 0.37598228454589844\n",
      "Training loss (for one batch) at step 20: 0.3435092568397522\n",
      "Training loss (for one batch) at step 30: 0.16869334876537323\n",
      "Training loss (for one batch) at step 40: 0.26775050163269043\n",
      "Training acc over epoch: 0.954456090927124 0.9536369442939758\n",
      "Validation acc: 0.9593709111213684 0.9592070579528809\n",
      "Start of epoch 5\n",
      "Training loss (for one batch) at step 0: 0.20746734738349915\n",
      "Training loss (for one batch) at step 10: 0.31136780977249146\n",
      "Training loss (for one batch) at step 20: 0.3046228885650635\n",
      "Training loss (for one batch) at step 30: 0.13774287700653076\n",
      "Training loss (for one batch) at step 40: 0.2289668172597885\n",
      "Training acc over epoch: 0.9606814980506897 0.9608453512191772\n",
      "Validation acc: 0.9657601714134216 0.9664154648780823\n",
      "Start of epoch 6\n",
      "Training loss (for one batch) at step 0: 0.1718335747718811\n",
      "Training loss (for one batch) at step 10: 0.2813199758529663\n",
      "Training loss (for one batch) at step 20: 0.273551881313324\n",
      "Training loss (for one batch) at step 30: 0.11603720486164093\n",
      "Training loss (for one batch) at step 40: 0.2165929675102234\n",
      "Training acc over epoch: 0.9644495248794556 0.9646133780479431\n",
      "Validation acc: 0.9713302850723267 0.9714940786361694\n",
      "Start of epoch 7\n",
      "Training loss (for one batch) at step 0: 0.14633746445178986\n",
      "Training loss (for one batch) at step 10: 0.27367132902145386\n",
      "Training loss (for one batch) at step 20: 0.25124016404151917\n",
      "Training loss (for one batch) at step 30: 0.11218742281198502\n",
      "Training loss (for one batch) at step 40: 0.2233748733997345\n",
      "Training acc over epoch: 0.9673984050750732 0.9664154648780823\n",
      "Validation acc: 0.9744429588317871 0.9744429588317871\n",
      "Start of epoch 8\n",
      "Training loss (for one batch) at step 0: 0.12888427078723907\n",
      "Training loss (for one batch) at step 10: 0.3203544020652771\n",
      "Training loss (for one batch) at step 20: 0.21927697956562042\n",
      "Training loss (for one batch) at step 30: 0.12691184878349304\n",
      "Training loss (for one batch) at step 40: 0.2437552809715271\n",
      "Training acc over epoch: 0.9665793180465698 0.9664154648780823\n",
      "Validation acc: 0.9785386919975281 0.978210985660553\n",
      "Start of epoch 9\n",
      "Training loss (for one batch) at step 0: 0.13999336957931519\n",
      "Training loss (for one batch) at step 10: 0.3683774471282959\n",
      "Training loss (for one batch) at step 20: 0.2183879017829895\n",
      "Training loss (for one batch) at step 30: 0.1142532154917717\n",
      "Training loss (for one batch) at step 40: 0.14882521331310272\n",
      "Training acc over epoch: 0.9646133780479431 0.9649410247802734\n",
      "Validation acc: 0.9642857313156128 0.962811291217804\n",
      "Start of epoch 10\n",
      "Training loss (for one batch) at step 0: 0.28445348143577576\n",
      "Training loss (for one batch) at step 10: 0.2103816270828247\n",
      "Training loss (for one batch) at step 20: 0.33296793699264526\n",
      "Training loss (for one batch) at step 30: 0.07324691116809845\n",
      "Training loss (for one batch) at step 40: 0.08567143976688385\n",
      "Training acc over epoch: 0.9710026383399963 0.9713302850723267\n",
      "Validation acc: 0.9814875721931458 0.9814875721931458\n",
      "Start of epoch 11\n",
      "Training loss (for one batch) at step 0: 0.153464674949646\n",
      "Training loss (for one batch) at step 10: 0.16176456212997437\n",
      "Training loss (for one batch) at step 20: 0.23251183331012726\n",
      "Training loss (for one batch) at step 30: 0.10565398633480072\n",
      "Training loss (for one batch) at step 40: 0.09039229154586792\n",
      "Training acc over epoch: 0.9798492789268494 0.9796854257583618\n",
      "Validation acc: 0.983781099319458 0.9829620122909546\n",
      "Start of epoch 12\n",
      "Training loss (for one batch) at step 0: 0.14667542278766632\n",
      "Training loss (for one batch) at step 10: 0.1415652632713318\n",
      "Training loss (for one batch) at step 20: 0.18371081352233887\n",
      "Training loss (for one batch) at step 30: 0.10500436276197433\n",
      "Training loss (for one batch) at step 40: 0.09107376635074615\n",
      "Training acc over epoch: 0.9814875721931458 0.9814875721931458\n",
      "Validation acc: 0.9847640991210938 0.9834534525871277\n",
      "Start of epoch 13\n",
      "Training loss (for one batch) at step 0: 0.14349262416362762\n",
      "Training loss (for one batch) at step 10: 0.13159655034542084\n",
      "Training loss (for one batch) at step 20: 0.1575225591659546\n",
      "Training loss (for one batch) at step 30: 0.10034705698490143\n",
      "Training loss (for one batch) at step 40: 0.08345802128314972\n",
      "Training acc over epoch: 0.9826343655586243 0.9826343655586243\n",
      "Validation acc: 0.9842725992202759 0.9834534525871277\n",
      "Start of epoch 14\n",
      "Training loss (for one batch) at step 0: 0.13986602425575256\n",
      "Training loss (for one batch) at step 10: 0.12290040403604507\n",
      "Training loss (for one batch) at step 20: 0.13359913229942322\n",
      "Training loss (for one batch) at step 30: 0.09369570016860962\n",
      "Training loss (for one batch) at step 40: 0.07400491833686829\n",
      "Training acc over epoch: 0.9841088056564331 0.983781099319458\n",
      "Validation acc: 0.9834534525871277 0.9832896590232849\n",
      "Start of epoch 15\n",
      "Training loss (for one batch) at step 0: 0.13290348649024963\n",
      "Training loss (for one batch) at step 10: 0.11142070591449738\n",
      "Training loss (for one batch) at step 20: 0.11401259899139404\n",
      "Training loss (for one batch) at step 30: 0.08916115015745163\n",
      "Training loss (for one batch) at step 40: 0.0636860579252243\n",
      "Training acc over epoch: 0.9847640991210938 0.9847640991210938\n",
      "Validation acc: 0.9842725992202759 0.9849278926849365\n",
      "Start of epoch 16\n",
      "Training loss (for one batch) at step 0: 0.11730584502220154\n",
      "Training loss (for one batch) at step 10: 0.09768810868263245\n",
      "Training loss (for one batch) at step 20: 0.1016974002122879\n",
      "Training loss (for one batch) at step 30: 0.08743997663259506\n",
      "Training loss (for one batch) at step 40: 0.06035727262496948\n",
      "Training acc over epoch: 0.9850917458534241 0.9857470393180847\n",
      "Validation acc: 0.9852555990219116 0.9854193925857544\n",
      "Start of epoch 17\n",
      "Training loss (for one batch) at step 0: 0.10755211114883423\n",
      "Training loss (for one batch) at step 10: 0.0939193069934845\n",
      "Training loss (for one batch) at step 20: 0.09797294437885284\n",
      "Training loss (for one batch) at step 30: 0.08577658236026764\n",
      "Training loss (for one batch) at step 40: 0.06975635886192322\n",
      "Training acc over epoch: 0.9849278926849365 0.9854193925857544\n",
      "Validation acc: 0.9844364523887634 0.9846002459526062\n",
      "Start of epoch 18\n",
      "Training loss (for one batch) at step 0: 0.11356993019580841\n",
      "Training loss (for one batch) at step 10: 0.09567221999168396\n",
      "Training loss (for one batch) at step 20: 0.10863929986953735\n",
      "Training loss (for one batch) at step 30: 0.08289666473865509\n",
      "Training loss (for one batch) at step 40: 0.094146728515625\n",
      "Training acc over epoch: 0.9854193925857544 0.9855832457542419\n",
      "Validation acc: 0.9823066592216492 0.9811598658561707\n",
      "Start of epoch 19\n",
      "Training loss (for one batch) at step 0: 0.1300930380821228\n",
      "Training loss (for one batch) at step 10: 0.09851325303316116\n",
      "Training loss (for one batch) at step 20: 0.12254832684993744\n",
      "Training loss (for one batch) at step 30: 0.09074853360652924\n",
      "Training loss (for one batch) at step 40: 0.09850393235683441\n",
      "Training acc over epoch: 0.9847640991210938 0.9852555990219116\n",
      "Validation acc: 0.9803407788276672 0.9796854257583618\n",
      "Start of epoch 20\n",
      "Training loss (for one batch) at step 0: 0.13995850086212158\n",
      "Training loss (for one batch) at step 10: 0.10927219688892365\n",
      "Training loss (for one batch) at step 20: 0.15348294377326965\n",
      "Training loss (for one batch) at step 30: 0.1073436588048935\n",
      "Training loss (for one batch) at step 40: 0.06801252067089081\n",
      "Training acc over epoch: 0.9846002459526062 0.9847640991210938\n",
      "Validation acc: 0.9752621054649353 0.9744429588317871\n",
      "Start of epoch 21\n",
      "Training loss (for one batch) at step 0: 0.14973875880241394\n",
      "Training loss (for one batch) at step 10: 0.11269812285900116\n",
      "Training loss (for one batch) at step 20: 0.1854446679353714\n",
      "Training loss (for one batch) at step 30: 0.10362382233142853\n",
      "Training loss (for one batch) at step 40: 0.04375384747982025\n",
      "Training acc over epoch: 0.9839449524879456 0.983781099319458\n",
      "Validation acc: 0.9675622582435608 0.9669069647789001\n",
      "Start of epoch 22\n",
      "Training loss (for one batch) at step 0: 0.1434532105922699\n",
      "Training loss (for one batch) at step 10: 0.09308130294084549\n",
      "Training loss (for one batch) at step 20: 0.19056585431098938\n",
      "Training loss (for one batch) at step 30: 0.11193761974573135\n",
      "Training loss (for one batch) at step 40: 0.055978477001190186\n",
      "Training acc over epoch: 0.9803407788276672 0.9798492789268494\n",
      "Validation acc: 0.9849278926849365 0.9842725992202759\n",
      "Start of epoch 23\n",
      "Training loss (for one batch) at step 0: 0.1211310476064682\n",
      "Training loss (for one batch) at step 10: 0.22037570178508759\n",
      "Training loss (for one batch) at step 20: 0.4462219774723053\n",
      "Training loss (for one batch) at step 30: 0.19064828753471375\n",
      "Training loss (for one batch) at step 40: 0.07696313410997391\n",
      "Training acc over epoch: 0.9752621054649353 0.9747706651687622\n",
      "Validation acc: 0.9800131320953369 0.9796854257583618\n",
      "Start of epoch 24\n",
      "Training loss (for one batch) at step 0: 0.15017396211624146\n",
      "Training loss (for one batch) at step 10: 0.19298715889453888\n",
      "Training loss (for one batch) at step 20: 0.1660107672214508\n",
      "Training loss (for one batch) at step 30: 0.07342858612537384\n",
      "Training loss (for one batch) at step 40: 0.1657470464706421\n",
      "Training acc over epoch: 0.9769003987312317 0.977228045463562\n",
      "Validation acc: 0.9850917458534241 0.9854193925857544\n",
      "Start of epoch 25\n",
      "Training loss (for one batch) at step 0: 0.10175691545009613\n",
      "Training loss (for one batch) at step 10: 0.146968275308609\n",
      "Training loss (for one batch) at step 20: 0.12931478023529053\n",
      "Training loss (for one batch) at step 30: 0.0782957673072815\n",
      "Training loss (for one batch) at step 40: 0.04605390131473541\n",
      "Training acc over epoch: 0.9836173057556152 0.9832896590232849\n",
      "Validation acc: 0.9855832457542419 0.9852555990219116\n",
      "Start of epoch 26\n",
      "Training loss (for one batch) at step 0: 0.08605171740055084\n",
      "Training loss (for one batch) at step 10: 0.13975773751735687\n",
      "Training loss (for one batch) at step 20: 0.15115797519683838\n",
      "Training loss (for one batch) at step 30: 0.05702809989452362\n",
      "Training loss (for one batch) at step 40: 0.06403286010026932\n",
      "Training acc over epoch: 0.9834534525871277 0.9832896590232849\n",
      "Validation acc: 0.9855832457542419 0.9855832457542419\n",
      "Start of epoch 27\n",
      "Training loss (for one batch) at step 0: 0.07621882855892181\n",
      "Training loss (for one batch) at step 10: 0.13816097378730774\n",
      "Training loss (for one batch) at step 20: 0.14249663054943085\n",
      "Training loss (for one batch) at step 30: 0.04505813866853714\n",
      "Training loss (for one batch) at step 40: 0.032927341759204865\n",
      "Training acc over epoch: 0.9831258058547974 0.9834534525871277\n",
      "Validation acc: 0.9886959195137024 0.9885321259498596\n",
      "Start of epoch 28\n",
      "Training loss (for one batch) at step 0: 0.062207914888858795\n",
      "Training loss (for one batch) at step 10: 0.13314713537693024\n",
      "Training loss (for one batch) at step 20: 0.1408575177192688\n",
      "Training loss (for one batch) at step 30: 0.06344059109687805\n",
      "Training loss (for one batch) at step 40: 0.02174154296517372\n",
      "Training acc over epoch: 0.9824705123901367 0.982798159122467\n",
      "Validation acc: 0.9886959195137024 0.9882044792175293\n",
      "Start of epoch 29\n",
      "Training loss (for one batch) at step 0: 0.051098138093948364\n",
      "Training loss (for one batch) at step 10: 0.12090910226106644\n",
      "Training loss (for one batch) at step 20: 0.11023464053869247\n",
      "Training loss (for one batch) at step 30: 0.05369589477777481\n",
      "Training loss (for one batch) at step 40: 0.05295088142156601\n",
      "Training acc over epoch: 0.9836173057556152 0.9832896590232849\n",
      "Validation acc: 0.9883682727813721 0.9857470393180847\n",
      "Start of epoch 30\n",
      "Training loss (for one batch) at step 0: 0.0405120924115181\n",
      "Training loss (for one batch) at step 10: 0.13245870172977448\n",
      "Training loss (for one batch) at step 20: 0.09297020733356476\n",
      "Training loss (for one batch) at step 30: 0.05319046229124069\n",
      "Training loss (for one batch) at step 40: 0.07890450209379196\n",
      "Training acc over epoch: 0.986074686050415 0.9870576858520508\n",
      "Validation acc: 0.9846002459526062 0.9846002459526062\n",
      "Start of epoch 31\n",
      "Training loss (for one batch) at step 0: 0.042710475623607635\n",
      "Training loss (for one batch) at step 10: 0.12812596559524536\n",
      "Training loss (for one batch) at step 20: 0.09722219407558441\n",
      "Training loss (for one batch) at step 30: 0.04818171635270119\n",
      "Training loss (for one batch) at step 40: 0.09716574847698212\n",
      "Training acc over epoch: 0.9862385392189026 0.9864023327827454\n",
      "Validation acc: 0.98050457239151 0.9803407788276672\n",
      "Start of epoch 32\n",
      "Training loss (for one batch) at step 0: 0.050312843173742294\n",
      "Training loss (for one batch) at step 10: 0.1409880816936493\n",
      "Training loss (for one batch) at step 20: 0.10239265859127045\n",
      "Training loss (for one batch) at step 30: 0.03579622507095337\n",
      "Training loss (for one batch) at step 40: 0.06974567472934723\n",
      "Training acc over epoch: 0.9846002459526062 0.9847640991210938\n",
      "Validation acc: 0.98050457239151 0.9803407788276672\n",
      "Start of epoch 33\n",
      "Training loss (for one batch) at step 0: 0.051866527646780014\n",
      "Training loss (for one batch) at step 10: 0.15074902772903442\n",
      "Training loss (for one batch) at step 20: 0.08515435457229614\n",
      "Training loss (for one batch) at step 30: 0.03498993441462517\n",
      "Training loss (for one batch) at step 40: 0.016265947371721268\n",
      "Training acc over epoch: 0.9846002459526062 0.9850917458534241\n",
      "Validation acc: 0.9880406260490417 0.9877129793167114\n",
      "Start of epoch 34\n",
      "Training loss (for one batch) at step 0: 0.06229860335588455\n",
      "Training loss (for one batch) at step 10: 0.12050171196460724\n",
      "Training loss (for one batch) at step 20: 0.050205618143081665\n",
      "Training loss (for one batch) at step 30: 0.03205186501145363\n",
      "Training loss (for one batch) at step 40: 0.02744731679558754\n",
      "Training acc over epoch: 0.9864023327827454 0.9854193925857544\n",
      "Validation acc: 0.9886959195137024 0.9888597726821899\n",
      "Start of epoch 35\n",
      "Training loss (for one batch) at step 0: 0.04714100807905197\n",
      "Training loss (for one batch) at step 10: 0.07869193702936172\n",
      "Training loss (for one batch) at step 20: 0.05827130377292633\n",
      "Training loss (for one batch) at step 30: 0.03349559009075165\n",
      "Training loss (for one batch) at step 40: 0.024345465004444122\n",
      "Training acc over epoch: 0.9880406260490417 0.9877129793167114\n",
      "Validation acc: 0.9895150661468506 0.9893512725830078\n",
      "Start of epoch 36\n",
      "Training loss (for one batch) at step 0: 0.042063601315021515\n",
      "Training loss (for one batch) at step 10: 0.07136555016040802\n",
      "Training loss (for one batch) at step 20: 0.06399937719106674\n",
      "Training loss (for one batch) at step 30: 0.02757413312792778\n",
      "Training loss (for one batch) at step 40: 0.024690914899110794\n",
      "Training acc over epoch: 0.9882044792175293 0.9883682727813721\n",
      "Validation acc: 0.9895150661468506 0.9895150661468506\n",
      "Start of epoch 37\n",
      "Training loss (for one batch) at step 0: 0.035827286541461945\n",
      "Training loss (for one batch) at step 10: 0.07629597932100296\n",
      "Training loss (for one batch) at step 20: 0.05664898455142975\n",
      "Training loss (for one batch) at step 30: 0.02362900786101818\n",
      "Training loss (for one batch) at step 40: 0.02509257011115551\n",
      "Training acc over epoch: 0.9880406260490417 0.9883682727813721\n",
      "Validation acc: 0.9896789193153381 0.9896789193153381\n",
      "Start of epoch 38\n",
      "Training loss (for one batch) at step 0: 0.03649141639471054\n",
      "Training loss (for one batch) at step 10: 0.0729973316192627\n",
      "Training loss (for one batch) at step 20: 0.057973504066467285\n",
      "Training loss (for one batch) at step 30: 0.025290964171290398\n",
      "Training loss (for one batch) at step 40: 0.025906100869178772\n",
      "Training acc over epoch: 0.9875491261482239 0.9877129793167114\n",
      "Validation acc: 0.9896789193153381 0.9895150661468506\n",
      "Start of epoch 39\n",
      "Training loss (for one batch) at step 0: 0.03510366380214691\n",
      "Training loss (for one batch) at step 10: 0.07510822266340256\n",
      "Training loss (for one batch) at step 20: 0.058344002813100815\n",
      "Training loss (for one batch) at step 30: 0.020403899252414703\n",
      "Training loss (for one batch) at step 40: 0.029328707605600357\n",
      "Training acc over epoch: 0.9875491261482239 0.9878767728805542\n",
      "Validation acc: 0.9896789193153381 0.9895150661468506\n"
     ]
    }
   ],
   "source": [
    "from tensorflow.keras import Input, Model, regularizers\n",
    "from tensorflow import keras\n",
    "\n",
    "# 实例化TextCNN模型\n",
    "max_len = 2850\n",
    "max_features = 641\n",
    "embedding_dims = 16\n",
    "model = TextCNN(max_len, max_features, embedding_dims).get_model()\n",
    "\n",
    "# 创建dataset对象\n",
    "batch_size = 128\n",
    "max_len = 2850\n",
    "db_train = tf.data.Dataset.from_generator(train_data_generator, args=[data_path_1, labels_1, 'train'], \n",
    "                                          output_types=(tf.float32, tf.int32), output_shapes=((None,), (4, )))\n",
    "db_val = tf.data.Dataset.from_generator(train_data_generator, args=[data_path_1, labels_1, 'val'], \n",
    "                                          output_types=(tf.float32, tf.int32), output_shapes=((None,), (4, )))\n",
    "\n",
    "# 创建训练过程\n",
    "optimizer = keras.optimizers.Adam(learning_rate=0.001)\n",
    "loss_sup = keras.losses.CategoricalCrossentropy(from_logits=True)\n",
    "metrics_train_1 = keras.metrics.CategoricalAccuracy()\n",
    "metrics_train_2 = keras.metrics.CategoricalAccuracy()\n",
    "metrics_val_1 = keras.metrics.CategoricalAccuracy()\n",
    "metrics_val_2 = keras.metrics.CategoricalAccuracy()\n",
    "\n",
    "epochs = 40\n",
    "db_train = db_train.batch(batch_size)\n",
    "db_val = db_val.batch(batch_size)\n",
    "\n",
    "loss_all = []\n",
    "acc_all = []\n",
    "\n",
    "for epoch in range(epochs):\n",
    "    print('Start of epoch %d' % (epoch,))\n",
    "    \n",
    "    for step, (x_batch_train, y_batch_train) in enumerate(db_train):\n",
    "        with tf.GradientTape() as tape:\n",
    "            out1, out2 = model(x_batch_train)\n",
    "            loss_value = loss_sup(y_batch_train, out1) + loss_sup(y_batch_train, out2)\n",
    "        grads = tape.gradient(loss_value, model.trainable_weights)\n",
    "        optimizer.apply_gradients(zip(grads, model.trainable_weights))\n",
    "        metrics_train_1(y_batch_train, out1)\n",
    "        metrics_train_2(y_batch_train, out2)\n",
    "        \n",
    "        if step % 10 == 0:\n",
    "            loss_all.append(loss_value)\n",
    "            print('Training loss (for one batch) at step %s: %s' % (step, float(loss_value)))\n",
    "    train_acc_1 = metrics_train_1.result()\n",
    "    train_acc_2 = metrics_train_2.result()\n",
    "    print('Training acc over epoch: %s %s' % (float(train_acc_1), float(train_acc_2)))\n",
    "    metrics_train_1.reset_states()\n",
    "    metrics_train_2.reset_states()\n",
    "    \n",
    "    for x_batch_val, y_batch_val in db_val:\n",
    "        val_out_1, val_out_2 = model(x_batch_val)\n",
    "        metrics_val_1(y_batch_val, val_out_1)\n",
    "        metrics_val_2(y_batch_val, val_out_2)\n",
    "    \n",
    "    val_acc_1 = metrics_val_1.result()\n",
    "    val_acc_2 = metrics_val_2.result()\n",
    "    acc_all.append(val_acc_1)\n",
    "    print('Validation acc: %s %s' % (float(val_acc_1), float(val_acc_2))) \n",
    "    metrics_val_1.reset_states()\n",
    "    metrics_val_2.reset_states()"
   ]
  },
  {
   "cell_type": "code",
   "execution_count": 9,
   "metadata": {},
   "outputs": [],
   "source": [
    "# 保存模型\n",
    "model.save('./model/textcnn_twohead.h5')"
   ]
  },
  {
   "cell_type": "code",
   "execution_count": 10,
   "metadata": {},
   "outputs": [
    {
     "data": {
      "image/png": "[encoded data removed]",
      "text/plain": [
       "<Figure size 1500x1050 with 1 Axes>"
      ]
     },
     "metadata": {
      "needs_background": "light"
     },
     "output_type": "display_data"
    }
   ],
   "source": [
    "# 绘制损失函数曲线\n",
    "\n",
    "import matplotlib.pyplot as plt\n",
    "p1 = plt.figure(figsize=(5, 3.5),dpi=300)\n",
    "plt.plot(loss_all)\n",
    "plt.title(\"textcnn loss\")\n",
    "plt.ylabel(\"loss\")\n",
    "plt.xlabel(\"epoch\")\n",
    "plt.legend([\"train\"],loc=\"upper right\")\n",
    "plt.savefig(\"./figures/\" + \"twohead_loss.png\")"
   ]
  },
  {
   "cell_type": "code",
   "execution_count": 11,
   "metadata": {},
   "outputs": [
    {
     "name": "stderr",
     "output_type": "stream",
     "text": [
      "100%|██████████| 1849/1849 [00:11<00:00, 157.16it/s]\n"
     ]
    },
    {
     "name": "stdout",
     "output_type": "stream",
     "text": [
      "Test AUROC: 0.965\n"
     ]
    }
   ],
   "source": [
    "from tensorflow.keras import Input, Model, regularizers\n",
    "from tensorflow import keras\n",
    "from utils import *\n",
    "\n",
    "max_len = 2850\n",
    "max_features = 641\n",
    "embedding_dims = 16\n",
    "model = TextCNN(max_len, max_features, embedding_dims).get_model()\n",
    "model.load_weights('./model/textcnn_twohead.h5')\n",
    "\n",
    "data_test_1 = pd.read_csv('data_test_1.csv')\n",
    "ood2label = {True: 0, False: 1}\n",
    "labels_test_1 = data_test_1['id'].map(lambda x: ood2label[x])\n",
    "labels_test_1 = labels_test_1.to_list()\n",
    "paths_test_1 = data_test_1['name'].to_list()\n",
    "codes_test_1 = codes_loader(paths_test_1)\n",
    "labels_test_1 = np.array(labels_test_1)\n",
    "test_auc, discs = get_auc(model, codes_test_1, labels_test_1)\n",
    "print('Test AUROC: {:.3f}'.format(test_auc))\n",
    "plot_entropy(discs, labels_test_1, 'entropy_distribution_test1.png')"
   ]
  },
  {
   "cell_type": "code",
   "execution_count": 12,
   "metadata": {},
   "outputs": [
    {
     "name": "stderr",
     "output_type": "stream",
     "text": [
      "100%|██████████| 1828/1828 [00:06<00:00, 300.77it/s]\n"
     ]
    },
    {
     "name": "stdout",
     "output_type": "stream",
     "text": [
      "Test AUROC: 0.875\n"
     ]
    }
   ],
   "source": [
    "data_test_2 = pd.read_csv('data_test_2.csv')\n",
    "ood2label = {True: 0, False: 1}\n",
    "labels_test_2 = data_test_2['id'].map(lambda x: ood2label[x])\n",
    "labels_test_2 = labels_test_2.to_list()\n",
    "paths_test_2 = data_test_2['name'].to_list()\n",
    "codes_test_2 = codes_loader(paths_test_2)\n",
    "labels_test_2 = np.array(labels_test_2)\n",
    "test_auc, discs = get_auc(model, codes_test_2, labels_test_2)\n",
    "print('Test AUROC: {:.3f}'.format(test_auc))\n",
    "plot_entropy(discs, labels_test_２, 'entropy_distribution_test2.png')"
   ]
  },
  {
   "cell_type": "markdown",
   "metadata": {},
   "source": [
    "## 进行参数微调并改进模型"
   ]
  },
  {
   "cell_type": "code",
   "execution_count": 12,
   "metadata": {},
   "outputs": [],
   "source": [
    "# 自定义损失函数\n",
    "from tensorflow.keras import backend as K\n",
    "from tensorflow.keras import Input, Model, regularizers\n",
    "from tensorflow import keras\n",
    "\n",
    "model = TextCNN(max_len, max_features, embedding_dims).get_model()\n",
    "class DiscrepancyLoss(keras.losses.Loss):\n",
    "    def __init__(self, reduction=keras.losses.Reduction.NONE, \n",
    "                 from_logits=True, name='membership loss'):\n",
    "        super().__init__(reduction=reduction, name=name)\n",
    "    \n",
    "    def call(self, out1, out2, m=0.3):\n",
    "        out_1 = K.softmax(out1)\n",
    "        out_2 = K.softmax(out2)     \n",
    "        entropy_1 = -out_1 * K.log(out_1)\n",
    "        entropy_2 = -out_2 * K.log(out_2)\n",
    "        entropy_1 = K.mean(entropy_1, axis=1)\n",
    "        entropy_2 = K.mean(entropy_2, axis=1) \n",
    "        \n",
    "        return K.relu(m - K.mean(entropy_1 - entropy_2))"
   ]
  },
  {
   "cell_type": "code",
   "execution_count": 13,
   "metadata": {},
   "outputs": [],
   "source": [
    "# 加载SVM预测数据\n",
    "data_test_1 = pd.read_csv('data_test_1.csv')\n",
    "data_test_unsup = data_test_1[data_test_1['novelty']!=0]\n",
    "codes_unsup = data_test_unsup['name'].to_list()"
   ]
  },
  {
   "cell_type": "code",
   "execution_count": 17,
   "metadata": {},
   "outputs": [
    {
     "data": {
      "text/plain": [
       "(522, 7)"
      ]
     },
     "execution_count": 17,
     "metadata": {},
     "output_type": "execute_result"
    }
   ],
   "source": [
    "data_test_unsup.shape"
   ]
  },
  {
   "cell_type": "code",
   "execution_count": 18,
   "metadata": {},
   "outputs": [],
   "source": [
    "# 准备训练数据\n",
    "batch_size = 128\n",
    "sup_train = tf.data.Dataset.from_generator(svmdata_generator, args=[data_path_1, labels_1, 'train'], \n",
    "                                          output_types=(tf.float32, tf.int32), output_shapes=((None,), (4, )))\n",
    "sup_train = sup_train.batch(batch_size)\n",
    "\n",
    "sup_val = tf.data.Dataset.from_generator(svmdata_generator, args=[data_path_1, labels_1, 'val'], \n",
    "                                          output_types=(tf.float32, tf.int32), output_shapes=((None,), (4, )))\n",
    "sup_val = sup_val.batch(batch_size)\n",
    "\n",
    "unsup_train = tf.data.Dataset.from_generator(codes_generator, args=[codes_unsup], output_types=(tf.float32), output_shapes=((None,)))\n",
    "unsup_train = unsup_train.batch(batch_size)"
   ]
  },
  {
   "cell_type": "code",
   "execution_count": 19,
   "metadata": {},
   "outputs": [
    {
     "name": "stderr",
     "output_type": "stream",
     "text": [
      "100%|██████████| 1849/1849 [00:11<00:00, 160.21it/s]\n"
     ]
    }
   ],
   "source": [
    "# 准备测试数据\n",
    "data_test_1 = pd.read_csv('data_test_1.csv')\n",
    "ood2label = {True: 0, False: 1}\n",
    "labels_test_1 = data_test_1['id'].map(lambda x: ood2label[x])\n",
    "labels_test_1 = labels_test_1.to_list()\n",
    "paths_test_1 = data_test_1['name'].to_list()\n",
    "codes_test_1 = codes_loader(paths_test_1)\n",
    "labels_test_1 = np.array(labels_test_1)"
   ]
  },
  {
   "cell_type": "code",
   "execution_count": 27,
   "metadata": {
    "collapsed": true,
    "jupyter": {
     "outputs_hidden": true
    }
   },
   "outputs": [
    {
     "name": "stderr",
     "output_type": "stream",
     "text": [
      "Setting up a new session...\n"
     ]
    },
    {
     "name": "stdout",
     "output_type": "stream",
     "text": [
      ">> Fine-tune a Model.\n",
      "Test AUROC: 0.956\n",
      "Test AUROC: 0.893\n",
      "Test AUROC: 0.943\n",
      "Test AUROC: 0.939\n",
      "Test AUROC: 0.917\n",
      "Test AUROC: 0.926\n",
      "Test AUROC: 0.929\n",
      "Test AUROC: 0.943\n",
      "Test AUROC: 0.945\n",
      "Test AUROC: 0.946\n",
      "Test AUROC: 0.947\n",
      "Test AUROC: 0.945\n",
      "Test AUROC: 0.944\n",
      "Test AUROC: 0.943\n",
      "Test AUROC: 0.943\n",
      "Test AUROC: 0.943\n",
      "Test AUROC: 0.943\n",
      "Test AUROC: 0.941\n",
      "Test AUROC: 0.939\n",
      "Test AUROC: 0.938\n",
      "Test AUROC: 0.936\n",
      "Test AUROC: 0.932\n",
      "Test AUROC: 0.932\n",
      "Test AUROC: 0.927\n",
      "Test AUROC: 0.924\n",
      "Test AUROC: 0.922\n",
      "Test AUROC: 0.917\n",
      "Test AUROC: 0.914\n",
      "Test AUROC: 0.913\n",
      "Test AUROC: 0.915\n"
     ]
    }
   ],
   "source": [
    "# 开始训练\n",
    "import visdom\n",
    "\n",
    "model = TextCNN(max_len, max_features, embedding_dims).get_model()\n",
    "model.load_weights('./model/textcnn_twohead.h5')\n",
    "optimizer = keras.optimizers.Adam(learning_rate=0.00005)\n",
    "loss_sup = keras.losses.CategoricalCrossentropy(from_logits=True)\n",
    "loss_unsup = DiscrepancyLoss()\n",
    "train_acc_metric = keras.metrics.CategoricalAccuracy()\n",
    "val_acc_metric = keras.metrics.CategoricalAccuracy()\n",
    "vis = visdom.Visdom(server='http://localhost')\n",
    "\n",
    "print('>> Fine-tune a Model.')\n",
    "best_auc = 0.\n",
    "num_epochs = 10\n",
    "iters = 0\n",
    "plot_data = {'X': [], 'Y': [], 'legend': ['Sup. Loss', 'Unsup. Loss', 'Tot. Loss']}\n",
    "for epoch in range(num_epochs):\n",
    "    for step, batch in enumerate(zip(sup_train, unsup_train)):\n",
    "        \n",
    "        (x_batch_train, y_batch_train), (x_batch_train_unsup) = batch\n",
    "#         print('Start of epoch %d step %d' % (epoch,step))\n",
    "        with tf.GradientTape() as tape:\n",
    "            out_1, out_2 = model(x_batch_train)\n",
    "            loss_sup_value = (loss_sup(y_batch_train, out_1) + loss_sup(y_batch_train, out_2)) / 2\n",
    "            out_1, out_2 = model(x_batch_train_unsup)\n",
    "            loss_unsup_value = loss_unsup(out_1, out_2)\n",
    "            loss_value = loss_sup_value + loss_unsup_value\n",
    "        grads = tape.gradient(loss_value, model.trainable_weights)\n",
    "        optimizer.apply_gradients(zip(grads, model.trainable_weights))\n",
    "\n",
    "        # 可视化\n",
    "        if step % 2 == 0:\n",
    "            \n",
    "            loss_sup_value = loss_sup_value.numpy()\n",
    "            loss_unsup_value = loss_unsup_value.numpy()\n",
    "            loss_value = loss_value.numpy()\n",
    "            \n",
    "            plot_data['X'].append(iters)\n",
    "            plot_data['Y'].append([\n",
    "                loss_sup_value, loss_unsup_value, loss_value])\n",
    "            vis.line(\n",
    "                X=np.stack([np.array(plot_data['X'])] * len(plot_data['legend']), 1),\n",
    "                Y=np.array(plot_data['Y']),\n",
    "                opts={\n",
    "                    'title': 'Loss over Time',\n",
    "                    'legend': plot_data['legend'],\n",
    "                    'xlabel': 'Iterations',\n",
    "                    'ylabel': 'Loss',\n",
    "                    'width': 900,\n",
    "                    'height': 300,\n",
    "                },\n",
    "                win=2\n",
    "            )\n",
    "        iters += 1 \n",
    "        \n",
    "        # 进行验证\n",
    "        if step % 2 == 0:\n",
    "            out_1, out_2 = model.predict(codes_test_1)\n",
    "            out_1 = keras.backend.softmax(out_1).numpy()\n",
    "            out_2 = keras.backend.softmax(out_2).numpy()\n",
    "            \n",
    "            entropy_1 = np.max(out_1, axis=1)\n",
    "            entropy_2 = np.max(out_2, axis=1)\n",
    "            \n",
    "#             entropy_1 = keras.backend.mean(entropy_1, axis=1)\n",
    "#             entropy_2 = keras.backend.mean(entropy_2, axis=1)\n",
    "        \n",
    "            labels = np.array(labels_test_1)\n",
    "            discs = np.abs(entropy_1 - entropy_2).reshape((-1, 1))\n",
    "            test_auc = metrics .roc_auc_score(labels, discs)\n",
    "            print('Test AUROC: {:.3f}'.format(test_auc))\n",
    "            if test_auc > best_auc:\n",
    "                best_auc = test_auc\n",
    "                model.save('./model/twohead_best.h5')"
   ]
  },
  {
   "cell_type": "code",
   "execution_count": 21,
   "metadata": {},
   "outputs": [
    {
     "name": "stdout",
     "output_type": "stream",
     "text": [
      "Final AUROC: 0.957\n"
     ]
    }
   ],
   "source": [
    "model.load_weights('./model/twohead_best.h5')\n",
    "\n",
    "from sklearn import metrics\n",
    "auc_res, discs = get_auc(model, codes_test_1, labels_test_1)\n",
    "print('Final AUROC: {:.3f}'.format(auc_res))\n",
    "plot_entropy(discs, labels_test_1, 'entropy_distribution_1.png')"
   ]
  },
  {
   "cell_type": "code",
   "execution_count": 22,
   "metadata": {},
   "outputs": [
    {
     "name": "stdout",
     "output_type": "stream",
     "text": [
      "0.07594167679222358\n"
     ]
    },
    {
     "data": {
      "text/plain": [
       "0.9226608977825852"
      ]
     },
     "execution_count": 22,
     "metadata": {},
     "output_type": "execute_result"
    },
    {
     "data": {
      "image/png": "[encoded data removed]",
      "text/plain": [
       "<Figure size 432x288 with 1 Axes>"
      ]
     },
     "metadata": {
      "needs_background": "light"
     },
     "output_type": "display_data"
    }
   ],
   "source": [
    "from sklearn.metrics import roc_curve, auc\n",
    "import matplotlib.pyplot as plt\n",
    "\n",
    "fpr, tpr, thresholds = roc_curve(labels_test_1, discs)\n",
    "roc_auc = auc(fpr, tpr)\n",
    "for i in range(len(fpr)):\n",
    "    if fpr[i] + tpr[i] >= 1:\n",
    "        i = i - 1\n",
    "        break\n",
    "print(fpr[i])\n",
    "\n",
    "# 画图，只需要plt.plot(fpr,tpr),变量roc_auc只是记录auc的值，通过auc()函数能计算出来\n",
    "plt.plot(fpr, tpr, lw=1, label='ROC (area = %0.2f) threshold = %f' % ( roc_auc, thresholds[i]))\n",
    "# 画对角线\n",
    "plt.plot([0, 1], [0, 1], '--', color=(0.6, 0.6, 0.6), label='Luck')\n",
    "\n",
    "plt.xlim([-0.05, 1.05])\n",
    "plt.ylim([-0.05, 1.05])\n",
    "plt.xlabel('False Positive Rate')\n",
    "plt.ylabel('True Positive Rate')\n",
    "plt.title('Receiver Operating Characteristic')\n",
    "plt.legend(loc=\"lower right\")\n",
    "plt.savefig('twohead_roc')\n",
    "\n",
    "pred = discs>thresholds[i]\n",
    "pred = pred.astype(int)\n",
    "from sklearn.metrics import accuracy_score\n",
    "accuracy_score(labels_test_1, pred)"
   ]
  },
  {
   "cell_type": "code",
   "execution_count": 23,
   "metadata": {},
   "outputs": [
    {
     "name": "stdout",
     "output_type": "stream",
     "text": [
      "              precision    recall  f1-score   support\n",
      "\n",
      "    backdoor       0.98      1.00      0.99       448\n",
      "       virus       0.99      1.00      1.00       524\n",
      "        worm       0.98      0.99      0.98       240\n",
      "      trojan       1.00      0.96      0.98       328\n",
      "\n",
      "    accuracy                           0.99      1540\n",
      "   macro avg       0.99      0.99      0.99      1540\n",
      "weighted avg       0.99      0.99      0.99      1540\n",
      "\n"
     ]
    }
   ],
   "source": [
    "from sklearn.metrics import classification_report\n",
    "\n",
    "labels_pre_id = data_test_1['label'].map(lambda x: name2label[x])\n",
    "labels_pre_id = np.array(labels_pre_id).reshape(-1, 1)\n",
    "labels_pre_id = labels_pre_id[discs<thresholds[i]]\n",
    "\n",
    "model_pre = keras.models.load_model('./model/textcnn_split.h5')\n",
    "bool_code = discs<thresholds[i]\n",
    "codes_pre_id = codes_test_1[bool_code.reshape(-1)]\n",
    "y_pred = model_pre.predict(codes_pre_id)\n",
    "y_pred = np.argmax(y_pred, 1)\n",
    "target_names = {'trojan', 'virus', 'worm', 'backdoor'}\n",
    "print(classification_report(labels_pre_id, y_pred, target_names=target_names))"
   ]
  },
  {
   "cell_type": "code",
   "execution_count": 24,
   "metadata": {},
   "outputs": [
    {
     "name": "stderr",
     "output_type": "stream",
     "text": [
      "100%|██████████| 1828/1828 [00:05<00:00, 307.92it/s]\n"
     ]
    },
    {
     "name": "stdout",
     "output_type": "stream",
     "text": [
      "Final AUROC: 0.879\n"
     ]
    }
   ],
   "source": [
    "# 对第二个子集进行测试\n",
    "\n",
    "model.load_weights('./model/twohead_best.h5')\n",
    "from sklearn import metrics\n",
    "\n",
    "data_test_2 = pd.read_csv('data_test_2.csv')\n",
    "ood2label = {True: 0, False: 1}\n",
    "labels_test_2 = data_test_2['id'].map(lambda x: ood2label[x])\n",
    "labels_test_2 = labels_test_2.to_list()\n",
    "paths_test_2 = data_test_2['name'].to_list()\n",
    "codes_test_2 = codes_loader(paths_test_2)\n",
    "labels_test_2 = np.array(labels_test_2)\n",
    "auc_res, discs = get_auc(model, codes_test_2, labels_test_2)\n",
    "print('Final AUROC: {:.3f}'.format(auc_res))\n",
    "plot_entropy(discs, labels_test_2, 'entropy_distribution_2.png')"
   ]
  },
  {
   "cell_type": "code",
   "execution_count": 25,
   "metadata": {},
   "outputs": [
    {
     "name": "stdout",
     "output_type": "stream",
     "text": [
      "0.1883252258512856\n"
     ]
    },
    {
     "data": {
      "text/plain": [
       "0.8074398249452954"
      ]
     },
     "execution_count": 25,
     "metadata": {},
     "output_type": "execute_result"
    },
    {
     "data": {
      "image/png": "[encoded data removed]",
      "text/plain": [
       "<Figure size 432x288 with 1 Axes>"
      ]
     },
     "metadata": {
      "needs_background": "light"
     },
     "output_type": "display_data"
    }
   ],
   "source": [
    "from sklearn.metrics import roc_curve, auc\n",
    "import matplotlib.pyplot as plt\n",
    "\n",
    "fpr, tpr, thresholds = roc_curve(labels_test_2, discs)\n",
    "roc_auc = auc(fpr, tpr)\n",
    "for i in range(len(fpr)):\n",
    "    if fpr[i] + tpr[i] >= 1:\n",
    "        i = i - 1\n",
    "        break\n",
    "print(fpr[i])\n",
    "\n",
    "# 画图，只需要plt.plot(fpr,tpr),变量roc_auc只是记录auc的值，通过auc()函数能计算出来\n",
    "plt.plot(fpr, tpr, lw=1, label='ROC (area = %0.2f) threshold = %f' % ( roc_auc, thresholds[i]))\n",
    "# 画对角线\n",
    "plt.plot([0, 1], [0, 1], '--', color=(0.6, 0.6, 0.6), label='Luck')\n",
    "\n",
    "plt.xlim([-0.05, 1.05])\n",
    "plt.ylim([-0.05, 1.05])\n",
    "plt.xlabel('False Positive Rate')\n",
    "plt.ylabel('True Positive Rate')\n",
    "plt.title('Receiver Operating Characteristic')\n",
    "plt.legend(loc=\"lower right\")\n",
    "plt.savefig('twohead_roc_2')\n",
    "\n",
    "pred = discs>thresholds[i]\n",
    "pred = pred.astype(int)\n",
    "from sklearn.metrics import accuracy_score\n",
    "accuracy_score(labels_test_2, pred)"
   ]
  },
  {
   "cell_type": "code",
   "execution_count": 26,
   "metadata": {},
   "outputs": [
    {
     "name": "stdout",
     "output_type": "stream",
     "text": [
      "              precision    recall  f1-score   support\n",
      "\n",
      "    backdoor       0.92      0.81      0.86       292\n",
      "       virus       0.86      0.96      0.90       332\n",
      "        worm       0.98      0.99      0.98       298\n",
      "      trojan       1.00      0.98      0.99       326\n",
      "\n",
      "    accuracy                           0.94      1248\n",
      "   macro avg       0.94      0.93      0.93      1248\n",
      "weighted avg       0.94      0.94      0.94      1248\n",
      "\n"
     ]
    }
   ],
   "source": [
    "from sklearn.metrics import classification_report\n",
    "\n",
    "labels_pre_id = data_test_2['label'].map(lambda x: name2label[x])\n",
    "labels_pre_id = np.array(labels_pre_id).reshape(-1, 1)\n",
    "labels_pre_id = labels_pre_id[discs<thresholds[i]]\n",
    "\n",
    "model_pre = keras.models.load_model('./model/textcnn_split.h5')\n",
    "bool_code = discs<thresholds[i]\n",
    "codes_pre_id = codes_test_2[bool_code.reshape(-1)]\n",
    "y_pred = model_pre.predict(codes_pre_id)\n",
    "y_pred = np.argmax(y_pred, 1)\n",
    "target_names = {'trojan', 'virus', 'worm', 'backdoor'}\n",
    "print(classification_report(labels_pre_id, y_pred, target_names=target_names))"
   ]
  }
 ],
 "metadata": {
  "kernelspec": {
   "display_name": "Python 3",
   "language": "python",
   "name": "python3"
  },
  "language_info": {
   "codemirror_mode": {
    "name": "ipython",
    "version": 3
   },
   "file_extension": ".py",
   "mimetype": "text/x-python",
   "name": "python",
   "nbconvert_exporter": "python",
   "pygments_lexer": "ipython3",
   "version": "3.7.3"
  }
 },
 "nbformat": 4,
 "nbformat_minor": 4
}
