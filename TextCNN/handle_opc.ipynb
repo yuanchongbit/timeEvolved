{
 "cells": [
  {
   "cell_type": "code",
   "execution_count": 2,
   "metadata": {},
   "outputs": [],
   "source": [
    "import pandas as pd\n",
    "from itertools import groupby\n",
    "\n",
    "\n",
    "data = pd.read_csv('res.csv')\n",
    "data['length'] = ''\n",
    "data['label'] = ''\n",
    "data['first_seen'] = ''\n",
    "\n",
    "# 去除掉缺失值\n",
    "data = data.dropna(subset=['opcode'])\n",
    "data = data.reset_index(drop=True)\n",
    "\n",
    "# 对opcode序列进行去重处理\n",
    "def handle(l):\n",
    "    x_res = [x[0] for x in groupby(l)]\n",
    "    return x_res\n",
    "data['opcode'] = data['opcode'].apply(lambda x: x.split())\n",
    "data['opcode'] = data['opcode'].apply(lambda x: handle(x))\n",
    "for idx in range(data.shape[0]):\n",
    "    data.at[idx, 'length'] = len(data.at[idx, 'opcode'])\n",
    "data['length'] = data['length'].astype(int)\n",
    "\n",
    "# 将opcode列表转换为字符串\n",
    "data['opcode'] = data['opcode'].apply(lambda x: ' '.join(x))\n",
    "\n",
    "# 去除掉只包含一个opocde的样本\n",
    "data = data[data['length'].apply(lambda x: x > 1)]\n",
    "data = data.reset_index(drop=True)"
   ]
  },
  {
   "cell_type": "code",
   "execution_count": 3,
   "metadata": {},
   "outputs": [
    {
     "data": {
      "text/plain": [
       "count     12402.000000\n",
       "mean       5652.612804\n",
       "std       20251.140030\n",
       "min           2.000000\n",
       "25%         202.000000\n",
       "50%        1105.500000\n",
       "75%        2849.000000\n",
       "max      780386.000000\n",
       "Name: length, dtype: float64"
      ]
     },
     "execution_count": 3,
     "metadata": {},
     "output_type": "execute_result"
    }
   ],
   "source": [
    "# 对样本opcode的长度进行统计\n",
    "\n",
    "data['length'].describe()"
   ]
  },
  {
   "cell_type": "code",
   "execution_count": 4,
   "metadata": {},
   "outputs": [
    {
     "data": {
      "text/plain": [
       "963"
      ]
     },
     "execution_count": 4,
     "metadata": {},
     "output_type": "execute_result"
    }
   ],
   "source": [
    "# 统计总共有多少个不同的opcode\n",
    "\n",
    "from collections import Counter\n",
    "\n",
    "opcode_str = ''\n",
    "for i in range(data.shape[0]):\n",
    "    opcode_str += data.at[i, 'opcode']\n",
    "opcode_list = opcode_str.split()\n",
    "info = Counter(opcode_list)\n",
    "len(info)"
   ]
  },
  {
   "cell_type": "code",
   "execution_count": 5,
   "metadata": {},
   "outputs": [
    {
     "data": {
      "text/html": [
       "<div>\n",
       "<style scoped>\n",
       "    .dataframe tbody tr th:only-of-type {\n",
       "        vertical-align: middle;\n",
       "    }\n",
       "\n",
       "    .dataframe tbody tr th {\n",
       "        vertical-align: top;\n",
       "    }\n",
       "\n",
       "    .dataframe thead th {\n",
       "        text-align: right;\n",
       "    }\n",
       "</style>\n",
       "<table border=\"1\" class=\"dataframe\">\n",
       "  <thead>\n",
       "    <tr style=\"text-align: right;\">\n",
       "      <th></th>\n",
       "      <th>name</th>\n",
       "      <th>path</th>\n",
       "      <th>opcode</th>\n",
       "      <th>length</th>\n",
       "      <th>label</th>\n",
       "      <th>first_seen</th>\n",
       "    </tr>\n",
       "  </thead>\n",
       "  <tbody>\n",
       "    <tr>\n",
       "      <td>0</td>\n",
       "      <td>00033a9606f5fe9ed77b994f6b8e42901f5319783d3850...</td>\n",
       "      <td>C:\\Users\\bitcjx\\Desktop\\dataset\\2017-10-20\\000...</td>\n",
       "      <td>mov cmp mov push retn</td>\n",
       "      <td>5</td>\n",
       "      <td></td>\n",
       "      <td></td>\n",
       "    </tr>\n",
       "    <tr>\n",
       "      <td>1</td>\n",
       "      <td>004804cd6b95e1a5aa09d6c893ac51ace90e1c9b16cb2c...</td>\n",
       "      <td>C:\\Users\\bitcjx\\Desktop\\dataset\\2017-10-20\\004...</td>\n",
       "      <td>retn mov test jz push mov sub mov call mov sub...</td>\n",
       "      <td>2989</td>\n",
       "      <td></td>\n",
       "      <td></td>\n",
       "    </tr>\n",
       "    <tr>\n",
       "      <td>2</td>\n",
       "      <td>005e0b9944f5f207b45e66493c378a6afc6bffba2030e5...</td>\n",
       "      <td>C:\\Users\\bitcjx\\Desktop\\dataset\\2017-10-20\\005...</td>\n",
       "      <td>push mov sub cmp jz cmp mov jnz or mov push ca...</td>\n",
       "      <td>5920</td>\n",
       "      <td></td>\n",
       "      <td></td>\n",
       "    </tr>\n",
       "    <tr>\n",
       "      <td>3</td>\n",
       "      <td>006c65515ea0c4998bee697c3962a3c4fc225afd5f934f...</td>\n",
       "      <td>C:\\Users\\bitcjx\\Desktop\\dataset\\2017-10-20\\006...</td>\n",
       "      <td>nop pusha nop mov nop push nop pop nop cmp nop...</td>\n",
       "      <td>120</td>\n",
       "      <td></td>\n",
       "      <td></td>\n",
       "    </tr>\n",
       "    <tr>\n",
       "      <td>4</td>\n",
       "      <td>007713edd1589b07bb902b7481dec4bc92bd3dc37b30d8...</td>\n",
       "      <td>C:\\Users\\bitcjx\\Desktop\\dataset\\2017-10-20\\007...</td>\n",
       "      <td>push call cmp jz retn mov push call mov pop mo...</td>\n",
       "      <td>77</td>\n",
       "      <td></td>\n",
       "      <td></td>\n",
       "    </tr>\n",
       "  </tbody>\n",
       "</table>\n",
       "</div>"
      ],
      "text/plain": [
       "                                                name  \\\n",
       "0  00033a9606f5fe9ed77b994f6b8e42901f5319783d3850...   \n",
       "1  004804cd6b95e1a5aa09d6c893ac51ace90e1c9b16cb2c...   \n",
       "2  005e0b9944f5f207b45e66493c378a6afc6bffba2030e5...   \n",
       "3  006c65515ea0c4998bee697c3962a3c4fc225afd5f934f...   \n",
       "4  007713edd1589b07bb902b7481dec4bc92bd3dc37b30d8...   \n",
       "\n",
       "                                                path  \\\n",
       "0  C:\\Users\\bitcjx\\Desktop\\dataset\\2017-10-20\\000...   \n",
       "1  C:\\Users\\bitcjx\\Desktop\\dataset\\2017-10-20\\004...   \n",
       "2  C:\\Users\\bitcjx\\Desktop\\dataset\\2017-10-20\\005...   \n",
       "3  C:\\Users\\bitcjx\\Desktop\\dataset\\2017-10-20\\006...   \n",
       "4  C:\\Users\\bitcjx\\Desktop\\dataset\\2017-10-20\\007...   \n",
       "\n",
       "                                              opcode  length label first_seen  \n",
       "0                              mov cmp mov push retn       5                   \n",
       "1  retn mov test jz push mov sub mov call mov sub...    2989                   \n",
       "2  push mov sub cmp jz cmp mov jnz or mov push ca...    5920                   \n",
       "3  nop pusha nop mov nop push nop pop nop cmp nop...     120                   \n",
       "4  push call cmp jz retn mov push call mov pop mo...      77                   "
      ]
     },
     "execution_count": 5,
     "metadata": {},
     "output_type": "execute_result"
    }
   ],
   "source": [
    "data.head()"
   ]
  },
  {
   "cell_type": "code",
   "execution_count": 8,
   "metadata": {},
   "outputs": [
    {
     "data": {
      "text/html": [
       "<div>\n",
       "<style scoped>\n",
       "    .dataframe tbody tr th:only-of-type {\n",
       "        vertical-align: middle;\n",
       "    }\n",
       "\n",
       "    .dataframe tbody tr th {\n",
       "        vertical-align: top;\n",
       "    }\n",
       "\n",
       "    .dataframe thead th {\n",
       "        text-align: right;\n",
       "    }\n",
       "</style>\n",
       "<table border=\"1\" class=\"dataframe\">\n",
       "  <thead>\n",
       "    <tr style=\"text-align: right;\">\n",
       "      <th></th>\n",
       "      <th>name</th>\n",
       "      <th>first_seen</th>\n",
       "      <th>scan_date</th>\n",
       "      <th>size</th>\n",
       "      <th>trojan</th>\n",
       "      <th>virus</th>\n",
       "      <th>worm</th>\n",
       "      <th>backdoor</th>\n",
       "      <th>label</th>\n",
       "    </tr>\n",
       "  </thead>\n",
       "  <tbody>\n",
       "    <tr>\n",
       "      <td>0</td>\n",
       "      <td>../data/2017-10-20/1d609fff68c89667ba51cb707cc...</td>\n",
       "      <td>2017-10-18</td>\n",
       "      <td>2017-10-20</td>\n",
       "      <td>3555328</td>\n",
       "      <td>19</td>\n",
       "      <td>0</td>\n",
       "      <td>3</td>\n",
       "      <td>21</td>\n",
       "      <td>backdoor</td>\n",
       "    </tr>\n",
       "    <tr>\n",
       "      <td>1</td>\n",
       "      <td>../data/2017-10-20/bc473631b56f37e7cc96b9c9a79...</td>\n",
       "      <td>2017-09-20</td>\n",
       "      <td>2017-10-20</td>\n",
       "      <td>1696353</td>\n",
       "      <td>17</td>\n",
       "      <td>0</td>\n",
       "      <td>3</td>\n",
       "      <td>20</td>\n",
       "      <td>backdoor</td>\n",
       "    </tr>\n",
       "    <tr>\n",
       "      <td>2</td>\n",
       "      <td>../data/2017-10-20/e2a802bd3b29472a99f2601e3e1...</td>\n",
       "      <td>2017-10-20</td>\n",
       "      <td>2017-10-20</td>\n",
       "      <td>1774510</td>\n",
       "      <td>17</td>\n",
       "      <td>0</td>\n",
       "      <td>4</td>\n",
       "      <td>19</td>\n",
       "      <td>backdoor</td>\n",
       "    </tr>\n",
       "    <tr>\n",
       "      <td>3</td>\n",
       "      <td>../data/2017-10-20/047921d3f50092a4ec4794f954f...</td>\n",
       "      <td>2017-09-20</td>\n",
       "      <td>2017-10-20</td>\n",
       "      <td>3577275</td>\n",
       "      <td>18</td>\n",
       "      <td>0</td>\n",
       "      <td>4</td>\n",
       "      <td>21</td>\n",
       "      <td>backdoor</td>\n",
       "    </tr>\n",
       "    <tr>\n",
       "      <td>4</td>\n",
       "      <td>../data/2017-10-20/9a1bf0da31927f7989e6305231f...</td>\n",
       "      <td>2017-10-20</td>\n",
       "      <td>2017-10-20</td>\n",
       "      <td>2042301</td>\n",
       "      <td>17</td>\n",
       "      <td>0</td>\n",
       "      <td>3</td>\n",
       "      <td>20</td>\n",
       "      <td>backdoor</td>\n",
       "    </tr>\n",
       "  </tbody>\n",
       "</table>\n",
       "</div>"
      ],
      "text/plain": [
       "                                                name  first_seen   scan_date  \\\n",
       "0  ../data/2017-10-20/1d609fff68c89667ba51cb707cc...  2017-10-18  2017-10-20   \n",
       "1  ../data/2017-10-20/bc473631b56f37e7cc96b9c9a79...  2017-09-20  2017-10-20   \n",
       "2  ../data/2017-10-20/e2a802bd3b29472a99f2601e3e1...  2017-10-20  2017-10-20   \n",
       "3  ../data/2017-10-20/047921d3f50092a4ec4794f954f...  2017-09-20  2017-10-20   \n",
       "4  ../data/2017-10-20/9a1bf0da31927f7989e6305231f...  2017-10-20  2017-10-20   \n",
       "\n",
       "      size  trojan  virus  worm  backdoor     label  \n",
       "0  3555328      19      0     3        21  backdoor  \n",
       "1  1696353      17      0     3        20  backdoor  \n",
       "2  1774510      17      0     4        19  backdoor  \n",
       "3  3577275      18      0     4        21  backdoor  \n",
       "4  2042301      17      0     3        20  backdoor  "
      ]
     },
     "execution_count": 8,
     "metadata": {},
     "output_type": "execute_result"
    }
   ],
   "source": [
    "# 加载样本标签csv文件\n",
    "\n",
    "data_label = pd.read_csv('../../csv/dataset.csv')\n",
    "data_label.head()"
   ]
  },
  {
   "cell_type": "code",
   "execution_count": 9,
   "metadata": {},
   "outputs": [
    {
     "name": "stderr",
     "output_type": "stream",
     "text": [
      "100%|████████████████████████████████████████████████████████████████████████████| 12402/12402 [07:04<00:00, 29.24it/s]\n"
     ]
    }
   ],
   "source": [
    "# 为opcode序列打上标签\n",
    "from tqdm import tqdm\n",
    "\n",
    "for idx in tqdm(range(data.shape[0])):\n",
    "    op_name = data.at[idx, 'name']\n",
    "    for idx_label in range(data_label.shape[0]):\n",
    "        if op_name in data_label.at[idx_label, 'name']:\n",
    "            data.at[idx, 'label'] = data_label.at[idx_label, 'label']\n",
    "            data.at[idx, 'first_seen'] = data_label.at[idx_label, 'first_seen']\n",
    "            break"
   ]
  },
  {
   "cell_type": "code",
   "execution_count": 10,
   "metadata": {},
   "outputs": [
    {
     "data": {
      "text/html": [
       "<div>\n",
       "<style scoped>\n",
       "    .dataframe tbody tr th:only-of-type {\n",
       "        vertical-align: middle;\n",
       "    }\n",
       "\n",
       "    .dataframe tbody tr th {\n",
       "        vertical-align: top;\n",
       "    }\n",
       "\n",
       "    .dataframe thead th {\n",
       "        text-align: right;\n",
       "    }\n",
       "</style>\n",
       "<table border=\"1\" class=\"dataframe\">\n",
       "  <thead>\n",
       "    <tr style=\"text-align: right;\">\n",
       "      <th></th>\n",
       "      <th>name</th>\n",
       "      <th>path</th>\n",
       "      <th>opcode</th>\n",
       "      <th>length</th>\n",
       "      <th>label</th>\n",
       "      <th>first_seen</th>\n",
       "    </tr>\n",
       "  </thead>\n",
       "  <tbody>\n",
       "    <tr>\n",
       "      <td>0</td>\n",
       "      <td>00033a9606f5fe9ed77b994f6b8e42901f5319783d3850...</td>\n",
       "      <td>C:\\Users\\bitcjx\\Desktop\\dataset\\2017-10-20\\000...</td>\n",
       "      <td>mov cmp mov push retn</td>\n",
       "      <td>5</td>\n",
       "      <td>trojan</td>\n",
       "      <td>2017-10-18</td>\n",
       "    </tr>\n",
       "    <tr>\n",
       "      <td>1</td>\n",
       "      <td>004804cd6b95e1a5aa09d6c893ac51ace90e1c9b16cb2c...</td>\n",
       "      <td>C:\\Users\\bitcjx\\Desktop\\dataset\\2017-10-20\\004...</td>\n",
       "      <td>retn mov test jz push mov sub mov call mov sub...</td>\n",
       "      <td>2989</td>\n",
       "      <td>virus</td>\n",
       "      <td>2017-09-20</td>\n",
       "    </tr>\n",
       "    <tr>\n",
       "      <td>2</td>\n",
       "      <td>005e0b9944f5f207b45e66493c378a6afc6bffba2030e5...</td>\n",
       "      <td>C:\\Users\\bitcjx\\Desktop\\dataset\\2017-10-20\\005...</td>\n",
       "      <td>push mov sub cmp jz cmp mov jnz or mov push ca...</td>\n",
       "      <td>5920</td>\n",
       "      <td>trojan</td>\n",
       "      <td>2017-09-20</td>\n",
       "    </tr>\n",
       "    <tr>\n",
       "      <td>3</td>\n",
       "      <td>006c65515ea0c4998bee697c3962a3c4fc225afd5f934f...</td>\n",
       "      <td>C:\\Users\\bitcjx\\Desktop\\dataset\\2017-10-20\\006...</td>\n",
       "      <td>nop pusha nop mov nop push nop pop nop cmp nop...</td>\n",
       "      <td>120</td>\n",
       "      <td>trojan</td>\n",
       "      <td>2017-10-20</td>\n",
       "    </tr>\n",
       "    <tr>\n",
       "      <td>4</td>\n",
       "      <td>007713edd1589b07bb902b7481dec4bc92bd3dc37b30d8...</td>\n",
       "      <td>C:\\Users\\bitcjx\\Desktop\\dataset\\2017-10-20\\007...</td>\n",
       "      <td>push call cmp jz retn mov push call mov pop mo...</td>\n",
       "      <td>77</td>\n",
       "      <td>trojan</td>\n",
       "      <td>2017-10-20</td>\n",
       "    </tr>\n",
       "  </tbody>\n",
       "</table>\n",
       "</div>"
      ],
      "text/plain": [
       "                                                name  \\\n",
       "0  00033a9606f5fe9ed77b994f6b8e42901f5319783d3850...   \n",
       "1  004804cd6b95e1a5aa09d6c893ac51ace90e1c9b16cb2c...   \n",
       "2  005e0b9944f5f207b45e66493c378a6afc6bffba2030e5...   \n",
       "3  006c65515ea0c4998bee697c3962a3c4fc225afd5f934f...   \n",
       "4  007713edd1589b07bb902b7481dec4bc92bd3dc37b30d8...   \n",
       "\n",
       "                                                path  \\\n",
       "0  C:\\Users\\bitcjx\\Desktop\\dataset\\2017-10-20\\000...   \n",
       "1  C:\\Users\\bitcjx\\Desktop\\dataset\\2017-10-20\\004...   \n",
       "2  C:\\Users\\bitcjx\\Desktop\\dataset\\2017-10-20\\005...   \n",
       "3  C:\\Users\\bitcjx\\Desktop\\dataset\\2017-10-20\\006...   \n",
       "4  C:\\Users\\bitcjx\\Desktop\\dataset\\2017-10-20\\007...   \n",
       "\n",
       "                                              opcode  length   label  \\\n",
       "0                              mov cmp mov push retn       5  trojan   \n",
       "1  retn mov test jz push mov sub mov call mov sub...    2989   virus   \n",
       "2  push mov sub cmp jz cmp mov jnz or mov push ca...    5920  trojan   \n",
       "3  nop pusha nop mov nop push nop pop nop cmp nop...     120  trojan   \n",
       "4  push call cmp jz retn mov push call mov pop mo...      77  trojan   \n",
       "\n",
       "   first_seen  \n",
       "0  2017-10-18  \n",
       "1  2017-09-20  \n",
       "2  2017-09-20  \n",
       "3  2017-10-20  \n",
       "4  2017-10-20  "
      ]
     },
     "execution_count": 10,
     "metadata": {},
     "output_type": "execute_result"
    }
   ],
   "source": [
    "data.head()"
   ]
  },
  {
   "cell_type": "code",
   "execution_count": 11,
   "metadata": {},
   "outputs": [],
   "source": [
    "# 删除掉path列并将最后的结果保存为csv文件\n",
    "\n",
    "data.drop('path', axis=1, inplace=True)\n",
    "data.to_csv('res_handle.csv', index=0)"
   ]
  },
  {
   "cell_type": "code",
   "execution_count": 8,
   "metadata": {},
   "outputs": [],
   "source": [
    "data = pd.read_csv('res_handle.csv')\n",
    "name = data.at[0, 'name']"
   ]
  },
  {
   "cell_type": "code",
   "execution_count": 9,
   "metadata": {},
   "outputs": [],
   "source": [
    "op_string = data[data.name == name].opcode"
   ]
  },
  {
   "cell_type": "code",
   "execution_count": 13,
   "metadata": {},
   "outputs": [
    {
     "data": {
      "text/plain": [
       "['mov', 'cmp', 'mov', 'push', 'retn']"
      ]
     },
     "execution_count": 13,
     "metadata": {},
     "output_type": "execute_result"
    }
   ],
   "source": [
    "op_string[0].split()"
   ]
  },
  {
   "cell_type": "code",
   "execution_count": null,
   "metadata": {},
   "outputs": [],
   "source": []
  }
 ],
 "metadata": {
  "kernelspec": {
   "display_name": "Python 3",
   "language": "python",
   "name": "python3"
  },
  "language_info": {
   "codemirror_mode": {
    "name": "ipython",
    "version": 3
   },
   "file_extension": ".py",
   "mimetype": "text/x-python",
   "name": "python",
   "nbconvert_exporter": "python",
   "pygments_lexer": "ipython3",
   "version": "3.7.4"
  }
 },
 "nbformat": 4,
 "nbformat_minor": 4
}
