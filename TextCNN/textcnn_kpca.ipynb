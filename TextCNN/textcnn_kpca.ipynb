{
 "cells": [
  {
   "cell_type": "markdown",
   "source": [
    "## 利用KPCA进行异常检测"
   ],
   "metadata": {}
  },
  {
   "cell_type": "code",
   "execution_count": 1,
   "source": [
    "import os\r\n",
    "import pandas as pd\r\n",
    "import numpy as np\r\n",
    "import tensorflow as tf\r\n",
    "from tqdm import tqdm\r\n",
    "from tensorflow import keras\r\n",
    "from tensorflow.keras import Model\r\n",
    "from utils import *\r\n",
    "\r\n",
    "# tf.config.experimental.list_physical_devices('CPU')\r\n",
    "gpus = tf.config.experimental.list_physical_devices('GPU')\r\n",
    "tf.config.experimental.set_memory_growth(gpus[0], True)\r\n",
    "os.environ['TF_CPP_MIN_LOG_LEVEL'] = '2'"
   ],
   "outputs": [],
   "metadata": {}
  },
  {
   "cell_type": "code",
   "execution_count": 2,
   "source": [
    "def pad_data(res, max_len=2850):\r\n",
    "    length = len(res)\r\n",
    "    if length > max_len:\r\n",
    "        return res[ :max_len]\r\n",
    "    elif length < max_len:\r\n",
    "        return res + [0]*(max_len-length)\r\n",
    "    return res\r\n",
    "\r\n",
    "\r\n",
    "def train_data_generator(codes, labels, mode):\r\n",
    "    \r\n",
    "    if mode == 'train':    \r\n",
    "        codes = codes[: 2800]\r\n",
    "        labels = labels[: 2800]\r\n",
    "    elif mode == 'val':    \r\n",
    "        codes = codes[2800: ]\r\n",
    "        labels = labels[2800: ]\r\n",
    "\r\n",
    "    labels_res = np.eye(4)[labels]\r\n",
    "    for idx in range(len(codes)):\r\n",
    "        fn = codes[idx]\r\n",
    "        fn = bytes.decode(fn)\r\n",
    "        op_string = data_csv[data_csv.name == fn]\r\n",
    "        if len(op_string) == 0:\r\n",
    "            print('null')\r\n",
    "            continue\r\n",
    "        op_string = op_string.iloc[0, 1].split()\r\n",
    "        res = list(le.transform(op_string))\r\n",
    "        res = pad_data(res)\r\n",
    "        yield res, labels_res[idx]\r\n",
    "        \r\n",
    "        \r\n",
    "def train_data_loader(codes, labels, mode):\r\n",
    "    \r\n",
    "    if mode == 'train':    \r\n",
    "        codes = codes[: 2800]\r\n",
    "        labels = labels[: 2800]\r\n",
    "    elif mode == 'val':    \r\n",
    "        codes = codes[2800: ]\r\n",
    "        labels = labels[2800: ]\r\n",
    "    \r\n",
    "    labels_res = np.eye(4)[labels]\r\n",
    "    res_all = []\r\n",
    "    for idx in tqdm(range(len(codes))):\r\n",
    "        fn = codes[idx]\r\n",
    "        op_string = data_csv[data_csv.name == fn]\r\n",
    "        op_string = op_string.iloc[0, 1].split()\r\n",
    "        res = list(le.transform(op_string))\r\n",
    "        res = pad_data(res)\r\n",
    "        res_all.append(res)\r\n",
    "    return np.array(res_all), labels_res\r\n",
    "\r\n",
    "\r\n",
    "def codes_loader(codes):\r\n",
    "    \r\n",
    "    res_all = []\r\n",
    "    for idx in tqdm(range(len(codes))):\r\n",
    "        fn = codes[idx]\r\n",
    "        op_string = data_csv[data_csv.name == fn]\r\n",
    "        op_string = op_string.iloc[0, 1].split()\r\n",
    "        res = list(le.transform(op_string))\r\n",
    "        res = pad_data(res)\r\n",
    "        res_all.append(res)\r\n",
    "    return np.array(res_all)\r\n",
    "\r\n",
    "\r\n",
    "def codes_generator(codes):\r\n",
    "    \r\n",
    "    for idx in range(len(codes)):\r\n",
    "        fn = codes[idx]\r\n",
    "        fn = bytes.decode(fn)\r\n",
    "        op_string = data_csv[data_csv.name == fn]\r\n",
    "        if len(op_string) == 0:\r\n",
    "            print('null')\r\n",
    "            continue\r\n",
    "        op_string = op_string.iloc[0, 1].split()\r\n",
    "        res = list(le.transform(op_string))\r\n",
    "        res = pad_data(res)\r\n",
    "        yield res\r\n",
    "        \r\n",
    "        \r\n",
    "def svmdata_generator(codes, labels, mode):\r\n",
    "    \r\n",
    "    if mode == 'train':    \r\n",
    "        codes = codes[: 2800]\r\n",
    "        labels = labels[: 2800]\r\n",
    "    elif mode == 'val':    \r\n",
    "        codes = codes[2800: 663]\r\n",
    "        labels = labels[2800: 663]\r\n",
    "    \r\n",
    "    labels_res = np.eye(4)[labels]\r\n",
    "    for idx in range(len(codes)):\r\n",
    "        fn = codes[idx]\r\n",
    "        fn = bytes.decode(fn)\r\n",
    "        op_string = data_csv[data_csv.name == fn]\r\n",
    "        if len(op_string) == 0:\r\n",
    "            print('null')\r\n",
    "            continue\r\n",
    "        op_string = op_string.iloc[0, 1].split()\r\n",
    "        res = list(le.transform(op_string))\r\n",
    "        res = pad_data(res)\r\n",
    "        yield res, labels_res[idx]"
   ],
   "outputs": [],
   "metadata": {}
  },
  {
   "cell_type": "code",
   "execution_count": 3,
   "source": [
    "# 利用labelencoder构建opcode编码器\r\n",
    "\r\n",
    "from sklearn import preprocessing\r\n",
    "from tqdm import tqdm\r\n",
    "\r\n",
    "data_csv = pd.read_csv('res_handle.csv')\r\n",
    "opcode_all = []\r\n",
    "for idx in tqdm(range(data_csv.shape[0])):\r\n",
    "    opcode_str = data_csv.at[idx, 'opcode'].split()\r\n",
    "    opcode_all += opcode_str\r\n",
    "    opcode_all = list(set(opcode_all))\r\n",
    "\r\n",
    "le = preprocessing.LabelEncoder()\r\n",
    "le.fit(opcode_all)\r\n",
    "len(list(le.classes_))"
   ],
   "outputs": [
    {
     "output_type": "stream",
     "name": "stderr",
     "text": [
      "100%|██████████| 12402/12402 [00:07<00:00, 1590.35it/s]\n"
     ]
    },
    {
     "output_type": "execute_result",
     "data": {
      "text/plain": [
       "641"
      ]
     },
     "metadata": {},
     "execution_count": 3
    }
   ],
   "metadata": {}
  },
  {
   "cell_type": "code",
   "execution_count": 9,
   "source": [
    "def res_testset(data_test, model_split, model_kPCA):\r\n",
    "    # preprocess data\r\n",
    "    ood2label = {True: 0, False: 1}\r\n",
    "    codes_test = data_test['name'].to_list()\r\n",
    "    labels_test = data_test['id'].map(lambda x: ood2label[x])\r\n",
    "    labels_test = np.array(labels_test.to_list())\r\n",
    "    codes_test = codes_loader(codes_test)\r\n",
    "\r\n",
    "    layer_model = Model(inputs=model_split.input, outputs=model_split.layers[12].output)\r\n",
    "    feature_test = layer_model.predict(codes_test)\r\n",
    "\r\n",
    "    # kPCA anomaly detection\r\n",
    "    test_scores = model_kPCA.decision_function(feature_test)\r\n",
    "    fpr, tpr, thresholds = metrics.roc_curve(labels_test, test_scores)\r\n",
    "    roc_auc = metrics.auc(fpr, tpr)\r\n",
    "    print(f\"roc_auc: {roc_auc}\")\r\n",
    "\r\n",
    "    print(\"histgram of test_scores from kPCA\")\r\n",
    "    scores_pd = pd.Series(test_scores)\r\n",
    "    scores_pd.hist(bins=100)\r\n",
    "\r\n",
    "    # plt roc curve and determine the threshold by youden index\r\n",
    "    display = metrics.RocCurveDisplay(fpr=fpr, tpr=tpr, roc_auc=roc_auc)\r\n",
    "    display.plot()\r\n",
    "    plt.show()\r\n",
    "    index = np.argmax(tpr-fpr)\r\n",
    "    score = thresholds[index]\r\n",
    "    print(f\"threshold: {score}\") \r\n",
    "\r\n",
    "    # performance of textcnn after filtering out the samples\r\n",
    "    for idx in range(len(test_scores)):\r\n",
    "        if test_scores[idx] < score:\r\n",
    "            data_test.at[idx, 'novelty'] = 0  # normal\r\n",
    "        else:\r\n",
    "            data_test.at[idx, 'novelty'] = 1  # abnormal\r\n",
    "\r\n",
    "    data_normal = data_test[data_test['novelty']==0]\r\n",
    "    print(data_normal.shape)\r\n",
    "\r\n",
    "    # text_cnn模型performance\r\n",
    "    from sklearn.metrics import classification_report\r\n",
    "\r\n",
    "    codes_normal, labels_normal = name_loader(data_normal)\r\n",
    "    codes_normal, labels_normal = train_data_loader(codes_normal, labels_normal, 'test')\r\n",
    "\r\n",
    "    y_pred = model_split.predict(codes_normal)\r\n",
    "    y_true = np.argmax(labels_normal, axis=1)\r\n",
    "    y_pred = np.argmax(y_pred, axis=1)\r\n",
    "    target_names = {'trojan', 'virus', 'worm', 'backdoor'}\r\n",
    "    print(classification_report(y_true, y_pred, target_names=target_names, digits=4))\r\n",
    "\r\n",
    "    # performance of anomalty detection\r\n",
    "\r\n",
    "    pca_pred = np.array(data_test['novelty'])\r\n",
    "    pca_pred = pca_pred.astype('int64')\r\n",
    "    ood2label = {True: 0, False: 1}\r\n",
    "    label_id = np.array(data_test['id'].map(lambda x: ood2label[x]))\r\n",
    "    print(classification_report(label_id, pca_pred, digits=4))"
   ],
   "outputs": [],
   "metadata": {}
  },
  {
   "cell_type": "code",
   "execution_count": 5,
   "source": [
    "from methods.kpca import kPCA\r\n",
    "from sklearn import metrics\r\n",
    "import matplotlib.pyplot as plt\r\n",
    "\r\n",
    "feature_train = np.load('feature_train.npy')\r\n",
    "model_kPCA = kPCA(q = 50, sigma = 1.0985)\r\n",
    "model_kPCA.fit(feature_train)\r\n",
    "\r\n",
    "model_split = keras.models.load_model('./model/textcnn_split.h5')\r\n",
    "data_test_1 = pd.read_csv('data_test_1.csv')\r\n",
    "data_test_2 = pd.read_csv('data_test_2.csv')"
   ],
   "outputs": [],
   "metadata": {}
  },
  {
   "cell_type": "code",
   "execution_count": 10,
   "source": [
    "res_testset(data_test_1, model_split, model_kPCA)"
   ],
   "outputs": [
    {
     "output_type": "stream",
     "name": "stderr",
     "text": [
      "100%|██████████| 1849/1849 [00:13<00:00, 137.36it/s]\n"
     ]
    },
    {
     "output_type": "stream",
     "name": "stdout",
     "text": [
      "roc_auc: 0.9261686108293485\n",
      "histgram of test_scores from kPCA\n"
     ]
    },
    {
     "output_type": "display_data",
     "data": {
      "image/png": "[encoded data removed]",
      "text/plain": [
       "<Figure size 432x288 with 1 Axes>"
      ]
     },
     "metadata": {
      "needs_background": "light"
     }
    },
    {
     "output_type": "display_data",
     "data": {
      "image/png": "[encoded data removed]",
      "text/plain": [
       "<Figure size 432x288 with 1 Axes>"
      ]
     },
     "metadata": {
      "needs_background": "light"
     }
    },
    {
     "output_type": "stream",
     "name": "stderr",
     "text": [
      "  2%|▏         | 31/1545 [00:00<00:04, 303.90it/s]"
     ]
    },
    {
     "output_type": "stream",
     "name": "stdout",
     "text": [
      "threshold: 0.011892470782566972\n",
      "(1545, 7)\n"
     ]
    },
    {
     "output_type": "stream",
     "name": "stderr",
     "text": [
      "100%|██████████| 1545/1545 [00:11<00:00, 139.77it/s]\n"
     ]
    },
    {
     "output_type": "stream",
     "name": "stdout",
     "text": [
      "              precision    recall  f1-score   support\n",
      "\n",
      "       virus     0.9749    0.9960    0.9853       506\n",
      "      trojan     0.9923    1.0000    0.9961       514\n",
      "    backdoor     0.9950    0.9900    0.9925       200\n",
      "        worm     1.0000    0.9569    0.9780       325\n",
      "\n",
      "    accuracy                         0.9883      1545\n",
      "   macro avg     0.9905    0.9857    0.9880      1545\n",
      "weighted avg     0.9885    0.9883    0.9883      1545\n",
      "\n",
      "              precision    recall  f1-score   support\n",
      "\n",
      "           0     0.9883    0.9266    0.9565      1648\n",
      "           1     0.6020    0.9104    0.7248       201\n",
      "\n",
      "    accuracy                         0.9248      1849\n",
      "   macro avg     0.7952    0.9185    0.8406      1849\n",
      "weighted avg     0.9463    0.9248    0.9313      1849\n",
      "\n"
     ]
    }
   ],
   "metadata": {}
  },
  {
   "cell_type": "code",
   "execution_count": 11,
   "source": [
    "res_testset(data_test_2, model_split, model_kPCA)"
   ],
   "outputs": [
    {
     "output_type": "stream",
     "name": "stderr",
     "text": [
      "100%|██████████| 1828/1828 [00:07<00:00, 243.27it/s]\n"
     ]
    },
    {
     "output_type": "stream",
     "name": "stdout",
     "text": [
      "roc_auc: 0.8606744329747019\n",
      "histgram of test_scores from kPCA\n"
     ]
    },
    {
     "output_type": "display_data",
     "data": {
      "image/png": "[encoded data removed]",
      "text/plain": [
       "<Figure size 432x288 with 1 Axes>"
      ]
     },
     "metadata": {
      "needs_background": "light"
     }
    },
    {
     "output_type": "display_data",
     "data": {
      "image/png": "[encoded data removed]",
      "text/plain": [
       "<Figure size 432x288 with 1 Axes>"
      ]
     },
     "metadata": {
      "needs_background": "light"
     }
    },
    {
     "output_type": "stream",
     "name": "stderr",
     "text": [
      "  2%|▏         | 15/936 [00:00<00:06, 150.00it/s]"
     ]
    },
    {
     "output_type": "stream",
     "name": "stdout",
     "text": [
      "threshold: 0.004199749403259706\n",
      "(936, 7)\n"
     ]
    },
    {
     "output_type": "stream",
     "name": "stderr",
     "text": [
      "100%|██████████| 936/936 [00:03<00:00, 248.99it/s]\n"
     ]
    },
    {
     "output_type": "stream",
     "name": "stdout",
     "text": [
      "              precision    recall  f1-score   support\n",
      "\n",
      "       virus     0.9895    0.9895    0.9895       286\n",
      "      trojan     1.0000    1.0000    1.0000       204\n",
      "    backdoor     0.9814    0.9814    0.9814       161\n",
      "        worm     1.0000    1.0000    1.0000       285\n",
      "\n",
      "    accuracy                         0.9936       936\n",
      "   macro avg     0.9927    0.9927    0.9927       936\n",
      "weighted avg     0.9936    0.9936    0.9936       936\n",
      "\n",
      "              precision    recall  f1-score   support\n",
      "\n",
      "           0     0.9936    0.6423    0.7802      1448\n",
      "           1     0.4193    0.9842    0.5881       380\n",
      "\n",
      "    accuracy                         0.7133      1828\n",
      "   macro avg     0.7064    0.8132    0.6841      1828\n",
      "weighted avg     0.8742    0.7133    0.7403      1828\n",
      "\n"
     ]
    }
   ],
   "metadata": {}
  }
 ],
 "metadata": {
  "kernelspec": {
   "name": "python3",
   "display_name": "Python 3.8.8 64-bit ('tf2.4': conda)"
  },
  "language_info": {
   "codemirror_mode": {
    "name": "ipython",
    "version": 3
   },
   "file_extension": ".py",
   "mimetype": "text/x-python",
   "name": "python",
   "nbconvert_exporter": "python",
   "pygments_lexer": "ipython3",
   "version": "3.8.8"
  },
  "interpreter": {
   "hash": "56409600341249f6166a3745098f6a53cb3a4cbc1a38e5a06a7b414fd0ad9715"
  }
 },
 "nbformat": 4,
 "nbformat_minor": 4
}