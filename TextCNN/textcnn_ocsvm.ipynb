{
 "cells": [
  {
   "cell_type": "markdown",
   "source": [
    "## 利用OCSVM进行novelty detection"
   ],
   "metadata": {}
  },
  {
   "cell_type": "code",
   "execution_count": 10,
   "source": [
    "# tensorflowGPU的设置\r\n",
    "import tensorflow as tf\r\n",
    "\r\n",
    "# tf.config.experimental.list_physical_devices('CPU')\r\n",
    "gpus = tf.config.experimental.list_physical_devices('GPU')\r\n",
    "# 在同时具有CPU和GPU的设备上，优先使用GPU运算, 实际中可以使用with tf.device创建设备上下文\r\n",
    "# 例如： with tf.decice('/CPU:0'): \r\n",
    "# 限制内存增长\r\n",
    "tf.config.experimental.set_memory_growth(gpus[0], True)"
   ],
   "outputs": [],
   "metadata": {}
  },
  {
   "cell_type": "code",
   "execution_count": 11,
   "source": [
    "import pandas as pd\r\n",
    "import os\r\n",
    "import numpy as np\r\n",
    "import tensorflow as tf\r\n",
    "from tqdm import tqdm\r\n",
    "from tensorflow import keras\r\n",
    "from tensorflow.keras import layers, optimizers, Sequential, metrics\r\n",
    "from tensorflow.keras.preprocessing.sequence import pad_sequences\r\n",
    "\r\n",
    "# os.environ['TF_CPP_MIN_LOG_LEVEL'] = '2'"
   ],
   "outputs": [],
   "metadata": {}
  },
  {
   "cell_type": "code",
   "execution_count": 12,
   "source": [
    "# 加载数据\r\n",
    "def judge_1(time):\r\n",
    "    time = time[:7].replace('-', '')\r\n",
    "    if time <= '201803':\r\n",
    "        return True\r\n",
    "    else:\r\n",
    "        return False\r\n",
    "\r\n",
    "def judge_2(time):\r\n",
    "    time = time[:7].replace('-', '')\r\n",
    "    if time > '201803':\r\n",
    "        return True\r\n",
    "    else:\r\n",
    "        return False\r\n",
    "\r\n",
    "name2label = {'trojan':0, 'virus':1, 'worm':2, 'backdoor':3}\r\n",
    "data_csv = pd.read_csv('res_handle.csv')\r\n",
    "data_2017 = data_csv[data_csv['first_seen'].apply(lambda x: x[:4]) == '2017']\r\n",
    "data_2018 = data_csv[data_csv['first_seen'].apply(lambda x: x[:4]) == '2018']\r\n",
    "data_2019 = data_csv[data_csv['first_seen'].apply(lambda x: x[:4]) == '2019']\r\n",
    "    \r\n",
    "data_2018_1 = data_2018[data_2018['first_seen'].apply(judge_1)]\r\n",
    "data_2018_2 = data_2018[data_2018['first_seen'].apply(judge_2)]\r\n",
    "\r\n",
    "data_train = data_2017.append(data_2018_1)\r\n",
    "data_test_1 = data_2018_2\r\n",
    "data_test_2 = data_2019\r\n",
    "print(\"训练集，2018数据集，2019数据集统计：\", data_train.shape, data_test_1.shape, data_test_2.shape)\r\n",
    "\r\n",
    "# 对测试集进行下采样\r\n",
    "data_train = data_train.sample(frac=1, random_state=1).reset_index(drop=True)\r\n",
    "data_test_1 = data_test_1.sample(frac=0.7, random_state=1).reset_index(drop=True)\r\n",
    "data_test_2 = data_test_2.sample(frac=0.5, random_state=1).reset_index(drop=True)\r\n",
    "print(\"采样后训练集，2018数据集，2019数据集统计：\", data_train.shape, data_test_1.shape, data_test_2.shape)"
   ],
   "outputs": [
    {
     "output_type": "stream",
     "name": "stdout",
     "text": [
      "训练集，2018数据集，2019数据集统计： (6104, 5) (2642, 5) (3656, 5)\n",
      "采样后训练集，2018数据集，2019数据集统计： (6104, 5) (1849, 5) (1828, 5)\n"
     ]
    }
   ],
   "metadata": {}
  },
  {
   "cell_type": "code",
   "execution_count": 13,
   "source": [
    "from utils import *\r\n",
    "data_name_1, labels_1 = name_loader(data_train)\r\n",
    "data_name_2, labels_2 = name_loader(data_test_1)\r\n",
    "data_name_3, labels_3 = name_loader(data_test_2)"
   ],
   "outputs": [],
   "metadata": {}
  },
  {
   "cell_type": "code",
   "execution_count": 14,
   "source": [
    "# 利用labelencoder构建opcode编码器\r\n",
    "\r\n",
    "from sklearn import preprocessing\r\n",
    "from tqdm import tqdm\r\n",
    "\r\n",
    "opcode_all = []\r\n",
    "for idx in tqdm(range(data_csv.shape[0])):\r\n",
    "    opcode_str = data_csv.at[idx, 'opcode'].split()\r\n",
    "    opcode_all += opcode_str\r\n",
    "    opcode_all = list(set(opcode_all))\r\n",
    "\r\n",
    "le = preprocessing.LabelEncoder()\r\n",
    "le.fit(opcode_all)\r\n",
    "len(list(le.classes_))"
   ],
   "outputs": [
    {
     "output_type": "stream",
     "name": "stderr",
     "text": [
      "100%|██████████| 12402/12402 [00:12<00:00, 970.49it/s] \n"
     ]
    },
    {
     "output_type": "execute_result",
     "data": {
      "text/plain": [
       "641"
      ]
     },
     "metadata": {},
     "execution_count": 14
    }
   ],
   "metadata": {}
  },
  {
   "cell_type": "code",
   "execution_count": 15,
   "source": [
    "def train_data_loader(codes, labels, mode):\r\n",
    "    \r\n",
    "    if mode == 'train':    \r\n",
    "        codes = codes[: 5100]\r\n",
    "        labels = labels[: 5100]\r\n",
    "    elif mode == 'val':    \r\n",
    "        codes = codes[5100: ]\r\n",
    "        labels = labels[5100: ]\r\n",
    "    \r\n",
    "    labels_res = np.eye(4)[labels]\r\n",
    "    res_all = []\r\n",
    "    for idx in tqdm(range(len(codes))):\r\n",
    "        fn = codes[idx]\r\n",
    "        op_string = data_csv[data_csv.name == fn]\r\n",
    "        op_string = op_string.iloc[0, 1].split()\r\n",
    "        res = list(le.transform(op_string))\r\n",
    "        res = pad_data(res)\r\n",
    "        res_all.append(res)\r\n",
    "    return np.array(res_all), labels_res"
   ],
   "outputs": [],
   "metadata": {}
  },
  {
   "cell_type": "code",
   "execution_count": 16,
   "source": [
    "from tensorflow.keras import Model\r\n",
    "\r\n",
    "model = keras.models.load_model('./model/textcnn_split.h5')\r\n",
    "codes_train, labels_train = train_data_loader(data_name_1, labels_1, 'test')\r\n",
    "layer_model = Model(inputs=model.input, outputs=model.layers[12].output)\r\n",
    "feature_train = layer_model.predict(codes_train)\r\n",
    "\r\n",
    "# 将特征向量保存为文件\r\n",
    "np.save('feature_train.npy', feature_train)\r\n",
    "\r\n",
    "print(\"特征向量维度：\", feature_train.shape)"
   ],
   "outputs": [
    {
     "output_type": "stream",
     "name": "stderr",
     "text": [
      "100%|██████████| 6104/6104 [00:49<00:00, 123.22it/s]\n"
     ]
    },
    {
     "output_type": "stream",
     "name": "stdout",
     "text": [
      "特征向量维度： (6104, 64)\n"
     ]
    }
   ],
   "metadata": {}
  },
  {
   "cell_type": "code",
   "execution_count": 17,
   "source": [
    "data_train['vector'] = ''\r\n",
    "for idx in range(data_train.shape[0]):\r\n",
    "    data_train.at[idx, 'vector'] = list(feature_train[idx])\r\n",
    "    \r\n",
    "data_backdoor = data_train[data_train['label']=='backdoor']\r\n",
    "data_virus = data_train[data_train['label']=='virus']\r\n",
    "data_worm = data_train[data_train['label']=='worm']\r\n",
    "data_trojan = data_train[data_train['label']=='trojan']\r\n",
    "\r\n",
    "print(\"backdoor，virus, worm, trojan数据统计：\", data_backdoor.shape, data_virus.shape, data_worm.shape, data_trojan.shape)\r\n",
    "\r\n",
    "data_backdoor = np.array(data_backdoor['vector'].to_list())\r\n",
    "data_backdoor_train = data_backdoor[: 1200]\r\n",
    "data_backdoor_val = data_backdoor[1200: ]\r\n",
    "\r\n",
    "data_virus = np.array(data_virus['vector'].to_list())\r\n",
    "data_virus_train = data_virus[: 1600]\r\n",
    "data_virus_val = data_virus[1600: ]\r\n",
    "\r\n",
    "data_worm = np.array(data_worm['vector'].to_list())\r\n",
    "data_worm_train = data_worm[: 1100]\r\n",
    "data_worm_val = data_worm[1100: ]\r\n",
    "\r\n",
    "data_trojan = np.array(data_trojan['vector'].to_list())\r\n",
    "data_trojan_train = data_trojan[: 1300]\r\n",
    "data_trojan_val = data_trojan[1300: ]"
   ],
   "outputs": [
    {
     "output_type": "stream",
     "name": "stdout",
     "text": [
      "backdoor，virus, worm, trojan数据统计： (1411, 6) (1804, 6) (1324, 6) (1565, 6)\n"
     ]
    }
   ],
   "metadata": {}
  },
  {
   "cell_type": "code",
   "execution_count": 18,
   "source": [
    "from sklearn.svm import OneClassSVM\r\n",
    "def percen(arr):\r\n",
    "    num = sum(arr==1)\r\n",
    "    return num / arr.size\r\n",
    "\r\n",
    "one_svm_backdoor = OneClassSVM(nu=0.001, kernel=\"rbf\", gamma='scale').fit(data_backdoor_train)\r\n",
    "print(\"backdoor验证分数：\", percen(one_svm_backdoor.predict(data_backdoor_val)))\r\n",
    "\r\n",
    "one_svm_virus = OneClassSVM(nu=0.001, kernel=\"rbf\", gamma='scale').fit(data_virus_train)\r\n",
    "print(\"virus验证分数：\", percen(one_svm_virus.predict(data_virus_val)))\r\n",
    "\r\n",
    "one_svm_worm = OneClassSVM(nu=0.001, kernel=\"rbf\", gamma='scale').fit(data_worm_train)\r\n",
    "print(\"worm验证分数：\", percen(one_svm_worm.predict(data_worm_val)))\r\n",
    "\r\n",
    "one_svm_trojan = OneClassSVM(nu=0.001, kernel=\"rbf\", gamma='scale').fit(data_trojan_train)\r\n",
    "print(\"trojan验证分数：\", percen(one_svm_trojan.predict(data_trojan_val)))"
   ],
   "outputs": [
    {
     "output_type": "stream",
     "name": "stdout",
     "text": [
      "backdoor验证分数： 1.0\n",
      "virus验证分数： 0.9950980392156863\n",
      "worm验证分数： 0.9866071428571429\n",
      "trojan验证分数： 0.9962264150943396\n"
     ]
    }
   ],
   "metadata": {}
  },
  {
   "cell_type": "code",
   "execution_count": 20,
   "source": [
    "# 对第一个测试子集进行novelty detection\r\n",
    "codes_test_1, labels_test_1 = name_loader(data_test_1)\r\n",
    "codes_test_1, labels_test_1 = train_data_loader(codes_test_1, labels_test_1, 'test')\r\n",
    "feature_test = layer_model.predict(codes_test_1)\r\n",
    "data_test_1['novelty'] = ''\r\n",
    "\r\n",
    "res_1 = one_svm_backdoor.predict(feature_test)\r\n",
    "res_2 = one_svm_virus.predict(feature_test)\r\n",
    "res_3 = one_svm_worm.predict(feature_test)\r\n",
    "res_4 = one_svm_trojan.predict(feature_test)\r\n",
    "\r\n",
    "for idx in range(data_test_1.shape[0]):\r\n",
    "    res = res_1[idx]+res_2[idx]+res_3[idx]+res_4[idx]\r\n",
    "    if res == -4 or res >= 0:\r\n",
    "        data_test_1.at[idx, 'novelty'] = 1\r\n",
    "    else:\r\n",
    "        data_test_1.at[idx, 'novelty'] = 0\r\n",
    "        \r\n",
    "data_normal = data_test_1[data_test_1['novelty']==0]\r\n",
    "print(data_normal.shape)\r\n",
    "\r\n",
    "# textcnn模型的performance\r\n",
    "from sklearn.metrics import classification_report\r\n",
    "\r\n",
    "codes_normal, labels_normal = name_loader(data_normal)\r\n",
    "codes_normal, labels_normal = train_data_loader(codes_normal, labels_normal, 'test')\r\n",
    "\r\n",
    "y_pred = model.predict(codes_normal)\r\n",
    "y_true = np.argmax(labels_normal, axis=1)\r\n",
    "y_pred = np.argmax(y_pred, axis=1)\r\n",
    "target_names = {'trojan', 'virus', 'worm', 'backdoor'}\r\n",
    "print(classification_report(y_true, y_pred, target_names=target_names, digits=4))\r\n",
    "\r\n",
    "# # 将模型预测错误的数据标注为OOD数据\r\n",
    "\r\n",
    "test_pred_1 = model.predict(codes_test_1)\r\n",
    "test_pred_1 = np.argmax(test_pred_1, axis=1)\r\n",
    "test_true_1 = np.argmax(labels_test_1, axis=1)\r\n",
    "bool_pred = np.equal(test_pred_1, test_true_1)\r\n",
    "data_test_1['id'] = bool_pred\r\n",
    "# data_test_1.to_csv('data_test_1.csv', index=0)\r\n",
    "\r\n",
    "# 计算ocsvm识别的准确率\r\n",
    "\r\n",
    "svm_pred = np.array(data_test_1['novelty'])\r\n",
    "svm_pred = svm_pred.astype('int64')\r\n",
    "ood2label = {True: 0, False: 1}\r\n",
    "label_id = np.array(data_test_1['id'].map(lambda x: ood2label[x]))\r\n",
    "print(classification_report(label_id, svm_pred, digits=4))"
   ],
   "outputs": [
    {
     "output_type": "stream",
     "name": "stderr",
     "text": [
      "100%|██████████| 1849/1849 [00:12<00:00, 145.72it/s]\n",
      "  2%|▏         | 29/1328 [00:00<00:06, 202.84it/s]"
     ]
    },
    {
     "output_type": "stream",
     "name": "stdout",
     "text": [
      "(1328, 6)\n"
     ]
    },
    {
     "output_type": "stream",
     "name": "stderr",
     "text": [
      "100%|██████████| 1328/1328 [00:10<00:00, 124.11it/s]\n"
     ]
    },
    {
     "output_type": "stream",
     "name": "stdout",
     "text": [
      "              precision    recall  f1-score   support\n",
      "\n",
      "    backdoor     0.9877    0.9907    0.9892       323\n",
      "      trojan     0.9887    1.0000    0.9943       526\n",
      "       virus     1.0000    0.8239    0.9034       159\n",
      "        worm     0.9238    0.9844    0.9531       320\n",
      "\n",
      "    accuracy                         0.9729      1328\n",
      "   macro avg     0.9750    0.9497    0.9600      1328\n",
      "weighted avg     0.9742    0.9729    0.9723      1328\n",
      "\n",
      "              precision    recall  f1-score   support\n",
      "\n",
      "           0     0.9729    0.7840    0.8683      1648\n",
      "           1     0.3167    0.8209    0.4571       201\n",
      "\n",
      "    accuracy                         0.7880      1849\n",
      "   macro avg     0.6448    0.8024    0.6627      1849\n",
      "weighted avg     0.9016    0.7880    0.8236      1849\n",
      "\n"
     ]
    }
   ],
   "metadata": {}
  },
  {
   "cell_type": "code",
   "execution_count": 21,
   "source": [
    "# 对第二个测试子集进行novelty detection\r\n",
    "codes_test_2, labels_test_2 = name_loader(data_test_2)\r\n",
    "codes_test_2, labels_test_2 = train_data_loader(codes_test_2, labels_test_2, 'test')\r\n",
    "feature_test_2 = layer_model.predict(codes_test_2)\r\n",
    "data_test_2['novelty'] = ''\r\n",
    "\r\n",
    "res_1 = one_svm_backdoor.predict(feature_test_2)\r\n",
    "res_2 = one_svm_virus.predict(feature_test_2)\r\n",
    "res_3 = one_svm_worm.predict(feature_test_2)\r\n",
    "res_4 = one_svm_trojan.predict(feature_test_2)\r\n",
    "\r\n",
    "for idx in range(data_test_2.shape[0]):\r\n",
    "    res = res_1[idx]+res_2[idx]+res_3[idx]+res_4[idx]\r\n",
    "    if res == -4 or res >= 0:\r\n",
    "        data_test_2.at[idx, 'novelty'] = 1\r\n",
    "    else:\r\n",
    "        data_test_2.at[idx, 'novelty'] = 0\r\n",
    "        \r\n",
    "data_normal = data_test_2[data_test_2['novelty']==0]\r\n",
    "print(data_normal.shape)\r\n",
    "\r\n",
    "# text_cnn模型performance\r\n",
    "from sklearn.metrics import classification_report\r\n",
    "\r\n",
    "codes_normal, labels_normal = name_loader(data_normal)\r\n",
    "codes_normal, labels_normal = train_data_loader(codes_normal, labels_normal, 'test')\r\n",
    "\r\n",
    "y_pred = model.predict(codes_normal)\r\n",
    "y_true = np.argmax(labels_normal, axis=1)\r\n",
    "y_pred = np.argmax(y_pred, axis=1)\r\n",
    "target_names = {'trojan', 'virus', 'worm', 'backdoor'}\r\n",
    "print(classification_report(y_true, y_pred, target_names=target_names, digits=4))\r\n",
    "\r\n",
    "# 将模型预测错误的数据标注为OOD数据\r\n",
    "\r\n",
    "test_pred_2 = model.predict(codes_test_2)\r\n",
    "test_pred_2 = np.argmax(test_pred_2, axis=1)\r\n",
    "test_true_2 = np.argmax(labels_test_2, axis=1)\r\n",
    "bool_pred = np.equal(test_pred_2, test_true_2)\r\n",
    "data_test_2['id'] = bool_pred\r\n",
    "# data_test_2.to_csv('data_test_2.csv', index=0)\r\n",
    "\r\n",
    "# 计算ocsvm识别的准确率\r\n",
    "\r\n",
    "svm_pred = np.array(data_test_2['novelty'])\r\n",
    "svm_pred = svm_pred.astype('int64')\r\n",
    "ood2label = {True: 0, False: 1}\r\n",
    "label_id = np.array(data_test_2['id'].map(lambda x: ood2label[x]))\r\n",
    "print(classification_report(label_id, svm_pred, digits=4))"
   ],
   "outputs": [
    {
     "output_type": "stream",
     "name": "stderr",
     "text": [
      "100%|██████████| 1828/1828 [00:07<00:00, 249.89it/s]\n",
      "  2%|▏         | 21/1205 [00:00<00:07, 151.08it/s]"
     ]
    },
    {
     "output_type": "stream",
     "name": "stdout",
     "text": [
      "(1205, 6)\n"
     ]
    },
    {
     "output_type": "stream",
     "name": "stderr",
     "text": [
      "100%|██████████| 1205/1205 [00:05<00:00, 218.37it/s]\n"
     ]
    },
    {
     "output_type": "stream",
     "name": "stdout",
     "text": [
      "              precision    recall  f1-score   support\n",
      "\n",
      "    backdoor     0.9907    0.7970    0.8833       266\n",
      "      trojan     0.8628    0.9971    0.9251       347\n",
      "       virus     0.9945    0.6830    0.8098       265\n",
      "        worm     0.7990    0.9969    0.8871       327\n",
      "\n",
      "    accuracy                         0.8838      1205\n",
      "   macro avg     0.9118    0.8685    0.8763      1205\n",
      "weighted avg     0.9027    0.8838    0.8802      1205\n",
      "\n",
      "              precision    recall  f1-score   support\n",
      "\n",
      "           0     0.8838    0.7355    0.8029      1448\n",
      "           1     0.3852    0.6316    0.4786       380\n",
      "\n",
      "    accuracy                         0.7139      1828\n",
      "   macro avg     0.6345    0.6835    0.6407      1828\n",
      "weighted avg     0.7802    0.7139    0.7354      1828\n",
      "\n"
     ]
    }
   ],
   "metadata": {}
  },
  {
   "cell_type": "code",
   "execution_count": null,
   "source": [],
   "outputs": [],
   "metadata": {}
  }
 ],
 "metadata": {
  "interpreter": {
   "hash": "56409600341249f6166a3745098f6a53cb3a4cbc1a38e5a06a7b414fd0ad9715"
  },
  "kernelspec": {
   "name": "python3",
   "display_name": "Python 3.8.8 64-bit ('tf2.4': conda)"
  },
  "language_info": {
   "name": "python",
   "version": "3.8.8",
   "mimetype": "text/x-python",
   "codemirror_mode": {
    "name": "ipython",
    "version": 3
   },
   "pygments_lexer": "ipython3",
   "nbconvert_exporter": "python",
   "file_extension": ".py"
  }
 },
 "nbformat": 4,
 "nbformat_minor": 4
}