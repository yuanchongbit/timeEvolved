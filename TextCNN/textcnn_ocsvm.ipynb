{
 "cells": [
  {
   "cell_type": "markdown",
   "metadata": {},
   "source": [
    "## 利用OCSVM进行novelty detection"
   ]
  },
  {
   "cell_type": "code",
   "execution_count": 7,
   "metadata": {},
   "outputs": [],
   "source": [
    "# tensorflowGPU的设置\n",
    "import tensorflow as tf\n",
    "\n",
    "# tf.config.experimental.list_physical_devices('CPU')\n",
    "gpus = tf.config.experimental.list_physical_devices('GPU')\n",
    "# 在同时具有CPU和GPU的设备上，优先使用GPU运算, 实际中可以使用with tf.device创建设备上下文\n",
    "# 例如： with tf.decice('/CPU:0'): \n",
    "# 限制内存增长\n",
    "tf.config.experimental.set_memory_growth(gpus[0], True)"
   ]
  },
  {
   "cell_type": "code",
   "execution_count": 8,
   "metadata": {},
   "outputs": [],
   "source": [
    "import pandas as pd\n",
    "import os\n",
    "import numpy as np\n",
    "import tensorflow as tf\n",
    "from tqdm import tqdm\n",
    "from tensorflow import keras\n",
    "from tensorflow.keras import layers, optimizers, Sequential, metrics\n",
    "from tensorflow.keras.preprocessing.sequence import pad_sequences\n",
    "\n",
    "os.environ['TF_CPP_MIN_LOG_LEVEL'] = '2'"
   ]
  },
  {
   "cell_type": "code",
   "execution_count": 9,
   "metadata": {},
   "outputs": [
    {
     "name": "stdout",
     "output_type": "stream",
     "text": [
      "训练集，2018数据集，2019数据集统计： (6104, 5) (2642, 5) (3656, 5)\n",
      "采样后训练集，2018数据集，2019数据集统计： (6104, 5) (1849, 5) (1828, 5)\n"
     ]
    }
   ],
   "source": [
    "# 加载数据\n",
    "def judge_1(time):\n",
    "    time = time[:7].replace('-', '')\n",
    "    if time <= '201803':\n",
    "        return True\n",
    "    else:\n",
    "        return False\n",
    "\n",
    "def judge_2(time):\n",
    "    time = time[:7].replace('-', '')\n",
    "    if time > '201803':\n",
    "        return True\n",
    "    else:\n",
    "        return False\n",
    "\n",
    "name2label = {'trojan':0, 'virus':1, 'worm':2, 'backdoor':3}\n",
    "data_csv = pd.read_csv('res_handle.csv')\n",
    "data_2017 = data_csv[data_csv['first_seen'].apply(lambda x: x[:4]) == '2017']\n",
    "data_2018 = data_csv[data_csv['first_seen'].apply(lambda x: x[:4]) == '2018']\n",
    "data_2019 = data_csv[data_csv['first_seen'].apply(lambda x: x[:4]) == '2019']\n",
    "    \n",
    "data_2018_1 = data_2018[data_2018['first_seen'].apply(judge_1)]\n",
    "data_2018_2 = data_2018[data_2018['first_seen'].apply(judge_2)]\n",
    "\n",
    "data_train = data_2017.append(data_2018_１)\n",
    "data_test_1 = data_2018_２\n",
    "data_test_2 = data_2019\n",
    "print(\"训练集，2018数据集，2019数据集统计：\", data_train.shape, data_test_1.shape, data_test_2.shape)\n",
    "\n",
    "# 对测试集进行下采样\n",
    "data_train = data_train.sample(frac=1, random_state=1).reset_index(drop=True)\n",
    "data_test_1 = data_test_1.sample(frac=0.7, random_state=1).reset_index(drop=True)\n",
    "data_test_2 = data_test_2.sample(frac=0.5, random_state=1).reset_index(drop=True)\n",
    "print(\"采样后训练集，2018数据集，2019数据集统计：\", data_train.shape, data_test_1.shape, data_test_2.shape)"
   ]
  },
  {
   "cell_type": "code",
   "execution_count": 10,
   "metadata": {},
   "outputs": [],
   "source": [
    "from utils import *\n",
    "data_name_1, labels_1 = name_loader(data_train)\n",
    "data_name_2, labels_2 = name_loader(data_test_1)\n",
    "data_name_3, labels_3 = name_loader(data_test_2)"
   ]
  },
  {
   "cell_type": "code",
   "execution_count": 11,
   "metadata": {},
   "outputs": [
    {
     "name": "stderr",
     "output_type": "stream",
     "text": [
      "100%|██████████| 12402/12402 [00:07<00:00, 1720.76it/s]\n"
     ]
    },
    {
     "data": {
      "text/plain": [
       "641"
      ]
     },
     "execution_count": 11,
     "metadata": {},
     "output_type": "execute_result"
    }
   ],
   "source": [
    "# 利用labelencoder构建opcode编码器\n",
    "\n",
    "from sklearn import preprocessing\n",
    "from tqdm import tqdm\n",
    "\n",
    "opcode_all = []\n",
    "for idx in tqdm(range(data_csv.shape[0])):\n",
    "    opcode_str = data_csv.at[idx, 'opcode'].split()\n",
    "    opcode_all += opcode_str\n",
    "    opcode_all = list(set(opcode_all))\n",
    "\n",
    "le = preprocessing.LabelEncoder()\n",
    "le.fit(opcode_all)\n",
    "len(list(le.classes_))"
   ]
  },
  {
   "cell_type": "code",
   "execution_count": 12,
   "metadata": {},
   "outputs": [],
   "source": [
    "def train_data_loader(codes, labels, mode):\n",
    "    \n",
    "    if mode == 'train':    \n",
    "        codes = codes[: 5100]\n",
    "        labels = labels[: 5100]\n",
    "    elif mode == 'val':    \n",
    "        codes = codes[5100: ]\n",
    "        labels = labels[5100: ]\n",
    "    \n",
    "    labels_res = np.eye(4)[labels]\n",
    "    res_all = []\n",
    "    for idx in tqdm(range(len(codes))):\n",
    "        fn = codes[idx]\n",
    "        op_string = data_csv[data_csv.name == fn]\n",
    "        op_string = op_string.iloc[0, 1].split()\n",
    "        res = list(le.transform(op_string))\n",
    "        res = pad_data(res)\n",
    "        res_all.append(res)\n",
    "    return np.array(res_all), labels_res"
   ]
  },
  {
   "cell_type": "code",
   "execution_count": 13,
   "metadata": {},
   "outputs": [
    {
     "name": "stderr",
     "output_type": "stream",
     "text": [
      "100%|██████████| 6104/6104 [00:32<00:00, 187.53it/s]\n",
      "特征向量维度： (6104, 64)\n"
     ]
    }
   ],
   "source": [
    "from tensorflow.keras import Model\n",
    "\n",
    "model = keras.models.load_model('./model/textcnn_split.h5')\n",
    "codes_train, labels_train = train_data_loader(data_name_1, labels_1, 'test')\n",
    "layer_model = Model(inputs=model.input, outputs=model.layers[12].output)\n",
    "feature_train = layer_model.predict(codes_train)\n",
    "\n",
    "# 将特征向量保存为文件\n",
    "np.save('feature_train.npy', feature_train)\n",
    "\n",
    "print(\"特征向量维度：\", feature_train.shape)"
   ]
  },
  {
   "cell_type": "code",
   "execution_count": 14,
   "metadata": {},
   "outputs": [
    {
     "name": "stdout",
     "output_type": "stream",
     "text": [
      "backdoor，virus, worm, trojan数据统计： (1411, 6) (1804, 6) (1324, 6) (1565, 6)\n"
     ]
    }
   ],
   "source": [
    "data_train['vector'] = ''\n",
    "for idx in range(data_train.shape[0]):\n",
    "    data_train.at[idx, 'vector'] = list(feature_train[idx])\n",
    "    \n",
    "data_backdoor = data_train[data_train['label']=='backdoor']\n",
    "data_virus = data_train[data_train['label']=='virus']\n",
    "data_worm = data_train[data_train['label']=='worm']\n",
    "data_trojan = data_train[data_train['label']=='trojan']\n",
    "\n",
    "print(\"backdoor，virus, worm, trojan数据统计：\", data_backdoor.shape, data_virus.shape, data_worm.shape, data_trojan.shape)\n",
    "\n",
    "data_backdoor = np.array(data_backdoor['vector'].to_list())\n",
    "data_backdoor_train = data_backdoor[: 1200]\n",
    "data_backdoor_val = data_backdoor[1200: ]\n",
    "\n",
    "data_virus = np.array(data_virus['vector'].to_list())\n",
    "data_virus_train = data_virus[: 1600]\n",
    "data_virus_val = data_virus[1600: ]\n",
    "\n",
    "data_worm = np.array(data_worm['vector'].to_list())\n",
    "data_worm_train = data_worm[: 1100]\n",
    "data_worm_val = data_worm[1100: ]\n",
    "\n",
    "data_trojan = np.array(data_trojan['vector'].to_list())\n",
    "data_trojan_train = data_trojan[: 1300]\n",
    "data_trojan_val = data_trojan[1300: ]"
   ]
  },
  {
   "cell_type": "code",
   "execution_count": 15,
   "metadata": {},
   "outputs": [
    {
     "name": "stdout",
     "output_type": "stream",
     "text": [
      "backdoor验证分数： 1.0\n",
      "virus验证分数： 0.9950980392156863\n",
      "worm验证分数： 0.9866071428571429\n",
      "trojan验证分数： 0.9962264150943396\n"
     ]
    }
   ],
   "source": [
    "from sklearn.svm import OneClassSVM\n",
    "def percen(arr):\n",
    "    num = sum(arr==1)\n",
    "    return num / arr.size\n",
    "\n",
    "one_svm_backdoor = OneClassSVM(nu=0.001, kernel=\"rbf\", gamma='scale').fit(data_backdoor_train)\n",
    "print(\"backdoor验证分数：\", percen(one_svm_backdoor.predict(data_backdoor_val)))\n",
    "\n",
    "one_svm_virus = OneClassSVM(nu=0.001, kernel=\"rbf\", gamma='scale').fit(data_virus_train)\n",
    "print(\"virus验证分数：\", percen(one_svm_virus.predict(data_virus_val)))\n",
    "\n",
    "one_svm_worm = OneClassSVM(nu=0.001, kernel=\"rbf\", gamma='scale').fit(data_worm_train)\n",
    "print(\"worm验证分数：\", percen(one_svm_worm.predict(data_worm_val)))\n",
    "\n",
    "one_svm_trojan = OneClassSVM(nu=0.001, kernel=\"rbf\", gamma='scale').fit(data_trojan_train)\n",
    "print(\"trojan验证分数：\", percen(one_svm_trojan.predict(data_trojan_val)))"
   ]
  },
  {
   "cell_type": "code",
   "execution_count": 18,
   "metadata": {},
   "outputs": [
    {
     "name": "stderr",
     "output_type": "stream",
     "text": [
      "100%|██████████| 1849/1849 [00:12<00:00, 145.76it/s]\n",
      "  2%|▏         | 29/1328 [00:00<00:06, 207.14it/s](1328, 6)\n",
      "100%|██████████| 1328/1328 [00:11<00:00, 120.30it/s]\n",
      "              precision    recall  f1-score   support\n",
      "\n",
      "       virus     0.9877    0.9907    0.9892       323\n",
      "    backdoor     0.9887    1.0000    0.9943       526\n",
      "        worm     1.0000    0.8239    0.9034       159\n",
      "      trojan     0.9238    0.9844    0.9531       320\n",
      "\n",
      "    accuracy                         0.9729      1328\n",
      "   macro avg     0.9750    0.9497    0.9600      1328\n",
      "weighted avg     0.9742    0.9729    0.9723      1328\n",
      "\n",
      "              precision    recall  f1-score   support\n",
      "\n",
      "           0     0.9729    0.7840    0.8683      1648\n",
      "           1     0.3167    0.8209    0.4571       201\n",
      "\n",
      "    accuracy                         0.7880      1849\n",
      "   macro avg     0.6448    0.8024    0.6627      1849\n",
      "weighted avg     0.9016    0.7880    0.8236      1849\n",
      "\n"
     ]
    }
   ],
   "source": [
    "# 对第一个测试子集进行novelty detection\n",
    "codes_test_1, labels_test_1 = name_loader(data_test_1)\n",
    "codes_test_1, labels_test_1 = train_data_loader(codes_test_1, labels_test_1, 'test')\n",
    "feature_test = layer_model.predict(codes_test_1)\n",
    "data_test_1['novelty'] = ''\n",
    "\n",
    "res_1 = one_svm_backdoor.predict(feature_test)\n",
    "res_2 = one_svm_virus.predict(feature_test)\n",
    "res_3 = one_svm_worm.predict(feature_test)\n",
    "res_4 = one_svm_trojan.predict(feature_test)\n",
    "\n",
    "for idx in range(data_test_1.shape[0]):\n",
    "    res = res_1[idx]+res_2[idx]+res_3[idx]+res_4[idx]\n",
    "    if res == -4 or res >= 0:\n",
    "        data_test_1.at[idx, 'novelty'] = 1\n",
    "    else:\n",
    "        data_test_1.at[idx, 'novelty'] = 0\n",
    "        \n",
    "data_normal = data_test_1[data_test_1['novelty']==0]\n",
    "print(data_normal.shape)\n",
    "\n",
    "# textcnn模型的performance\n",
    "from sklearn.metrics import classification_report\n",
    "\n",
    "codes_normal, labels_normal = name_loader(data_normal)\n",
    "codes_normal, labels_normal = train_data_loader(codes_normal, labels_normal, 'test')\n",
    "\n",
    "y_pred = model.predict(codes_normal)\n",
    "y_true = np.argmax(labels_normal, axis=1)\n",
    "y_pred = np.argmax(y_pred, axis=1)\n",
    "target_names = {'trojan', 'virus', 'worm', 'backdoor'}\n",
    "print(classification_report(y_true, y_pred, target_names=target_names, digits=4))\n",
    "\n",
    "# 将模型预测错误的数据标注为OOD数据\n",
    "\n",
    "test_pred_1 = model.predict(codes_test_1)\n",
    "test_pred_1 = np.argmax(test_pred_1, axis=1)\n",
    "test_true_1 = np.argmax(labels_test_1, axis=1)\n",
    "bool_pred = np.equal(test_pred_1, test_true_1)\n",
    "data_test_1['id'] = bool_pred\n",
    "data_test_1.to_csv('data_test_1.csv', index=0)\n",
    "\n",
    "# 计算ocsvm识别的准确率\n",
    "\n",
    "svm_pred = np.array(data_test_1['novelty'])\n",
    "svm_pred = svm_pred.astype('int64')\n",
    "ood2label = {True: 0, False: 1}\n",
    "label_id = np.array(data_test_1['id'].map(lambda x: ood2label[x]))\n",
    "print(classification_report(label_id, svm_pred, digits=4))"
   ]
  },
  {
   "cell_type": "code",
   "execution_count": 19,
   "metadata": {},
   "outputs": [
    {
     "name": "stderr",
     "output_type": "stream",
     "text": [
      "100%|██████████| 1828/1828 [00:07<00:00, 250.59it/s]\n",
      "  2%|▏         | 21/1205 [00:00<00:08, 142.79it/s](1205, 6)\n",
      "100%|██████████| 1205/1205 [00:05<00:00, 217.39it/s]\n",
      "              precision    recall  f1-score   support\n",
      "\n",
      "       virus     0.9907    0.7970    0.8833       266\n",
      "    backdoor     0.8628    0.9971    0.9251       347\n",
      "        worm     0.9945    0.6830    0.8098       265\n",
      "      trojan     0.7990    0.9969    0.8871       327\n",
      "\n",
      "    accuracy                         0.8838      1205\n",
      "   macro avg     0.9118    0.8685    0.8763      1205\n",
      "weighted avg     0.9027    0.8838    0.8802      1205\n",
      "\n",
      "              precision    recall  f1-score   support\n",
      "\n",
      "           0     0.8838    0.7355    0.8029      1448\n",
      "           1     0.3852    0.6316    0.4786       380\n",
      "\n",
      "    accuracy                         0.7139      1828\n",
      "   macro avg     0.6345    0.6835    0.6407      1828\n",
      "weighted avg     0.7802    0.7139    0.7354      1828\n",
      "\n"
     ]
    }
   ],
   "source": [
    "# 对第二个测试子集进行novelty detection\n",
    "codes_test_２, labels_test_２ = name_loader(data_test_2)\n",
    "codes_test_２, labels_test_２ = train_data_loader(codes_test_２, labels_test_２, 'test')\n",
    "feature_test_２ = layer_model.predict(codes_test_２)\n",
    "data_test_２['novelty'] = ''\n",
    "\n",
    "res_1 = one_svm_backdoor.predict(feature_test_２)\n",
    "res_2 = one_svm_virus.predict(feature_test_２)\n",
    "res_3 = one_svm_worm.predict(feature_test_２)\n",
    "res_4 = one_svm_trojan.predict(feature_test_２)\n",
    "\n",
    "for idx in range(data_test_２.shape[0]):\n",
    "    res = res_1[idx]+res_2[idx]+res_3[idx]+res_4[idx]\n",
    "    if res == -4 or res >= 0:\n",
    "        data_test_２.at[idx, 'novelty'] = 1\n",
    "    else:\n",
    "        data_test_２.at[idx, 'novelty'] = 0\n",
    "        \n",
    "data_normal = data_test_２[data_test_２['novelty']==0]\n",
    "print(data_normal.shape)\n",
    "\n",
    "# text_cnn模型performance\n",
    "from sklearn.metrics import classification_report\n",
    "\n",
    "codes_normal, labels_normal = name_loader(data_normal)\n",
    "codes_normal, labels_normal = train_data_loader(codes_normal, labels_normal, 'test')\n",
    "\n",
    "y_pred = model.predict(codes_normal)\n",
    "y_true = np.argmax(labels_normal, axis=1)\n",
    "y_pred = np.argmax(y_pred, axis=1)\n",
    "target_names = {'trojan', 'virus', 'worm', 'backdoor'}\n",
    "print(classification_report(y_true, y_pred, target_names=target_names, digits=4))\n",
    "\n",
    "# 将模型预测错误的数据标注为OOD数据\n",
    "\n",
    "test_pred_2 = model.predict(codes_test_2)\n",
    "test_pred_2 = np.argmax(test_pred_2, axis=1)\n",
    "test_true_2 = np.argmax(labels_test_2, axis=1)\n",
    "bool_pred = np.equal(test_pred_2, test_true_2)\n",
    "data_test_2['id'] = bool_pred\n",
    "data_test_2.to_csv('data_test_2.csv', index=0)\n",
    "\n",
    "# 计算ocsvm识别的准确率\n",
    "\n",
    "svm_pred = np.array(data_test_2['novelty'])\n",
    "svm_pred = svm_pred.astype('int64')\n",
    "ood2label = {True: 0, False: 1}\n",
    "label_id = np.array(data_test_2['id'].map(lambda x: ood2label[x]))\n",
    "print(classification_report(label_id, svm_pred, digits=4))"
   ]
  },
  {
   "cell_type": "code",
   "execution_count": null,
   "metadata": {},
   "outputs": [],
   "source": []
  }
 ],
 "metadata": {
  "interpreter": {
   "hash": "56409600341249f6166a3745098f6a53cb3a4cbc1a38e5a06a7b414fd0ad9715"
  },
  "kernelspec": {
   "display_name": "Python 3.8.8 64-bit ('tf2.4': conda)",
   "name": "python3"
  },
  "language_info": {
   "name": "python",
   "version": ""
  }
 },
 "nbformat": 4,
 "nbformat_minor": 4
}